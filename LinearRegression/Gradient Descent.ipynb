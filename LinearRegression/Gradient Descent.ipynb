{
 "cells": [
  {
   "cell_type": "markdown",
   "metadata": {},
   "source": [
    "## This notebook shows how to learn weights for a linear regression model using gradient descent"
   ]
  },
  {
   "cell_type": "code",
   "execution_count": 1,
   "metadata": {
    "collapsed": true
   },
   "outputs": [],
   "source": [
    "#Import needed libraries \n",
    "import pandas as pd, numpy as np"
   ]
  },
  {
   "cell_type": "markdown",
   "metadata": {},
   "source": [
    "### Load the King County sales data"
   ]
  },
  {
   "cell_type": "code",
   "execution_count": 2,
   "metadata": {
    "collapsed": false
   },
   "outputs": [],
   "source": [
    "sales_df = pd.read_csv('kc_house_data.csv')"
   ]
  },
  {
   "cell_type": "code",
   "execution_count": 3,
   "metadata": {
    "collapsed": false
   },
   "outputs": [
    {
     "name": "stdout",
     "output_type": "stream",
     "text": [
      "(21613, 21)\n"
     ]
    }
   ],
   "source": [
    "#Get the number of observations in the data\n",
    "print sales_df.shape"
   ]
  },
  {
   "cell_type": "code",
   "execution_count": 4,
   "metadata": {
    "collapsed": true
   },
   "outputs": [],
   "source": [
    "import matplotlib.pyplot as plt\n",
    "%matplotlib inline"
   ]
  },
  {
   "cell_type": "markdown",
   "metadata": {},
   "source": [
    "### Scatter plot of price against square footage houses in the data"
   ]
  },
  {
   "cell_type": "code",
   "execution_count": 5,
   "metadata": {
    "collapsed": false
   },
   "outputs": [
    {
     "data": {
      "text/plain": [
       "[<matplotlib.lines.Line2D at 0x93ec4a8>]"
      ]
     },
     "execution_count": 5,
     "metadata": {},
     "output_type": "execute_result"
    },
    {
     "data": {
      "image/png": "[encoded data removed]",
      "text/plain": [
       "<matplotlib.figure.Figure at 0x8af1a20>"
      ]
     },
     "metadata": {},
     "output_type": "display_data"
    }
   ],
   "source": [
    "plt.plot(sales_df['sqft_living'], sales_df['price'], 'bo')"
   ]
  },
  {
   "cell_type": "markdown",
   "metadata": {
    "collapsed": true
   },
   "source": [
    "## Some useful functions"
   ]
  },
  {
   "cell_type": "code",
   "execution_count": 6,
   "metadata": {
    "collapsed": true
   },
   "outputs": [],
   "source": [
    "def get_numpy_data(data, features, output):\n",
    "    '''\n",
    "    Function to create a numpy array from a DataFrame. This function returnd the feature columns\n",
    "    and the target column as a numpy array.\n",
    "    \n",
    "    data: A DataFrame containing the data\n",
    "    \n",
    "    features: A list of strings. Each element of this list should be a feature we want to use\n",
    "    for regression\n",
    "    \n",
    "    output: The target column\n",
    "    '''\n",
    "    \n",
    "    data.loc[:,'constant'] = 1 #add a constant column to the SFrame\n",
    "    features = ['constant'] + features\n",
    "    features_df = data[features] #select out features specified by feature list\n",
    "    #convert features_df to a numpy matrix\n",
    "    feature_matrix = np.array(features_df)\n",
    "    #assign output_sarray to the target output\n",
    "    output_array = data[output]\n",
    "    #convert sarray to a numpy array\n",
    "    output_array = np.array(output_array)\n",
    "    return (feature_matrix, output_array)"
   ]
  },
  {
   "cell_type": "code",
   "execution_count": 7,
   "metadata": {
    "collapsed": true
   },
   "outputs": [],
   "source": [
    "#Function to compute the cost for a given set of weights\n",
    "def compute_cost(feature_matrix, output, weights):\n",
    "    RSS = np.square(np.dot(feature_matrix, weights) - output).sum()\n",
    "    return RSS"
   ]
  },
  {
   "cell_type": "code",
   "execution_count": 8,
   "metadata": {
    "collapsed": true
   },
   "outputs": [],
   "source": [
    "#Function to predict output given data and weights\n",
    "def predict_output(feature_matrix, weights):\n",
    "    #create the predictions vector using np.dot()\n",
    "    predictions = np.dot(feature_matrix, weights)\n",
    "    return (predictions)\n",
    "\n",
    "#Function to compute derivative\n",
    "def feature_derivative(errors, feature):\n",
    "    derivative = 2 * np.dot(errors, feature)\n",
    "    return derivative"
   ]
  },
  {
   "cell_type": "code",
   "execution_count": 9,
   "metadata": {
    "collapsed": true
   },
   "outputs": [],
   "source": [
    "def regression_gradient_descent(feature_matrix, output, initial_weights, step_size, num_iters):\n",
    "    J_history = np.zeros((num_iters, 1))\n",
    "    weights = np.array(initial_weights) #make sure its a numpy array\n",
    "    \n",
    "    for itr in range(num_iters):\n",
    "        #compute the predictions\n",
    "        predictions = predict_output(feature_matrix, weights)\n",
    "        #compute the errors\n",
    "        errors = predictions - output\n",
    "        \n",
    "        #while we haven't reached the tolerance yet update each features weight\n",
    "        for i in range(len(weights)):\n",
    "            derivative = feature_derivative(errors, feature_matrix[:,i])\n",
    "            weights[i] = weights[i] - step_size * derivative\n",
    "        J_history[itr, 0] = compute_cost(feature_matrix, output, weights)\n",
    "        #Print something after every 100 iterations\n",
    "        if itr % 100 == 0:\n",
    "            print 'Cost at Iteration --> ', itr, J_history[itr, 0]\n",
    "        \n",
    "    return (weights, J_history)"
   ]
  },
  {
   "cell_type": "markdown",
   "metadata": {},
   "source": [
    "### Let's run Gradient Descent on the data. For this tutorial we will use only square feet to predict the price of a house"
   ]
  },
  {
   "cell_type": "code",
   "execution_count": 10,
   "metadata": {
    "collapsed": true
   },
   "outputs": [],
   "source": [
    "#First let's split the data into training and test sets\n",
    "from sklearn.cross_validation import train_test_split"
   ]
  },
  {
   "cell_type": "code",
   "execution_count": 11,
   "metadata": {
    "collapsed": true
   },
   "outputs": [],
   "source": [
    "#Set random_state = 1 to ensure reproducibility\n",
    "train_data, test_data = train_test_split(sales_df, test_size = 0.2, random_state = 1)"
   ]
  },
  {
   "cell_type": "code",
   "execution_count": 12,
   "metadata": {
    "collapsed": true
   },
   "outputs": [],
   "source": [
    "#Let's define the features and the target\n",
    "features = ['sqft_living']\n",
    "target = 'price'"
   ]
  },
  {
   "cell_type": "code",
   "execution_count": 14,
   "metadata": {
    "collapsed": false
   },
   "outputs": [],
   "source": [
    "#Call get_numpy_data function\n",
    "train_matrix, output_train = get_numpy_data(train_data, features, target)"
   ]
  },
  {
   "cell_type": "code",
   "execution_count": 15,
   "metadata": {
    "collapsed": false
   },
   "outputs": [
    {
     "data": {
      "text/plain": [
       "array([[   1, 2190],\n",
       "       [   1, 2370],\n",
       "       [   1, 1230],\n",
       "       [   1, 2510],\n",
       "       [   1, 1160],\n",
       "       [   1, 1220],\n",
       "       [   1, 1960],\n",
       "       [   1, 2060],\n",
       "       [   1, 2700],\n",
       "       [   1, 2470]], dtype=int64)"
      ]
     },
     "execution_count": 15,
     "metadata": {},
     "output_type": "execute_result"
    }
   ],
   "source": [
    "#Look at the first 10 rows of train matrix\n",
    "train_matrix[0:10]"
   ]
  },
  {
   "cell_type": "code",
   "execution_count": 16,
   "metadata": {
    "collapsed": true
   },
   "outputs": [],
   "source": [
    "#Specify parameters for gradient descent\n",
    "initial_weights = np.zeros(2)\n",
    "step_size = 7e-12\n",
    "num_iters = 2500"
   ]
  },
  {
   "cell_type": "code",
   "execution_count": 17,
   "metadata": {
    "collapsed": false
   },
   "outputs": [
    {
     "name": "stdout",
     "output_type": "stream",
     "text": [
      "Cost at Iteration -->  0 1.45757674986e+15\n",
      "Cost at Iteration -->  100 1.11003168267e+15\n",
      "Cost at Iteration -->  200 1.11003166327e+15\n",
      "Cost at Iteration -->  300 1.11003164386e+15\n",
      "Cost at Iteration -->  400 1.11003162446e+15\n",
      "Cost at Iteration -->  500 1.11003160505e+15\n",
      "Cost at Iteration -->  600 1.11003158565e+15\n",
      "Cost at Iteration -->  700 1.11003156625e+15\n",
      "Cost at Iteration -->  800 1.11003154684e+15\n",
      "Cost at Iteration -->  900 1.11003152744e+15\n",
      "Cost at Iteration -->  1000 1.11003150804e+15\n",
      "Cost at Iteration -->  1100 1.11003148863e+15\n",
      "Cost at Iteration -->  1200 1.11003146923e+15\n",
      "Cost at Iteration -->  1300 1.11003144983e+15\n",
      "Cost at Iteration -->  1400 1.11003143042e+15\n",
      "Cost at Iteration -->  1500 1.11003141102e+15\n",
      "Cost at Iteration -->  1600 1.11003139162e+15\n",
      "Cost at Iteration -->  1700 1.11003137222e+15\n",
      "Cost at Iteration -->  1800 1.11003135282e+15\n",
      "Cost at Iteration -->  1900 1.11003133341e+15\n",
      "Cost at Iteration -->  2000 1.11003131401e+15\n",
      "Cost at Iteration -->  2100 1.11003129461e+15\n",
      "Cost at Iteration -->  2200 1.11003127521e+15\n",
      "Cost at Iteration -->  2300 1.11003125581e+15\n",
      "Cost at Iteration -->  2400 1.11003123641e+15\n"
     ]
    }
   ],
   "source": [
    "weights, J_hist = regression_gradient_descent(train_matrix, output_train, initial_weights, step_size, num_iters)"
   ]
  },
  {
   "cell_type": "code",
   "execution_count": 18,
   "metadata": {
    "collapsed": false
   },
   "outputs": [
    {
     "data": {
      "text/plain": [
       "array([  -2.80755345,  261.59324314])"
      ]
     },
     "execution_count": 18,
     "metadata": {},
     "output_type": "execute_result"
    }
   ],
   "source": [
    "weights"
   ]
  },
  {
   "cell_type": "markdown",
   "metadata": {
    "collapsed": false
   },
   "source": [
    "### Making predictions"
   ]
  },
  {
   "cell_type": "code",
   "execution_count": 19,
   "metadata": {
    "collapsed": true
   },
   "outputs": [],
   "source": [
    "#Call get_numpy_data function on test data\n",
    "test_matrix, output_test = get_numpy_data(test_data, features, target)"
   ]
  },
  {
   "cell_type": "code",
   "execution_count": 20,
   "metadata": {
    "collapsed": true
   },
   "outputs": [],
   "source": [
    "predictions = predict_output(test_matrix, weights)"
   ]
  },
  {
   "cell_type": "code",
   "execution_count": 21,
   "metadata": {
    "collapsed": false
   },
   "outputs": [
    {
     "name": "stdout",
     "output_type": "stream",
     "text": [
      "Predicted prices for the first 10 houses in the test data set\n"
     ]
    },
    {
     "data": {
      "text/plain": [
       "array([ 729842.34081507,  426394.17876938,  619973.17869508,\n",
       "        593813.85438079,  374075.53014081,  585966.05708651,\n",
       "        694004.0665045 ,  928653.20560362,  418546.38147509,\n",
       "        633052.84085222])"
      ]
     },
     "execution_count": 21,
     "metadata": {},
     "output_type": "execute_result"
    }
   ],
   "source": [
    "print 'Predicted prices for the first 10 houses in the test data set'\n",
    "predictions[0:10]"
   ]
  },
  {
   "cell_type": "code",
   "execution_count": 22,
   "metadata": {
    "collapsed": false
   },
   "outputs": [],
   "source": [
    "#RSS of our model on test data\n",
    "def RSS(preds, outcome):\n",
    "    residual = preds - outcome\n",
    "    return sum(residual**2)"
   ]
  },
  {
   "cell_type": "code",
   "execution_count": 23,
   "metadata": {
    "collapsed": false
   },
   "outputs": [
    {
     "name": "stdout",
     "output_type": "stream",
     "text": [
      "3.74192611415e+14\n"
     ]
    }
   ],
   "source": [
    "print RSS(predictions, output_test)"
   ]
  },
  {
   "cell_type": "markdown",
   "metadata": {
    "collapsed": true
   },
   "source": [
    "## Aside: Histogram showing distribution of residuals"
   ]
  },
  {
   "cell_type": "code",
   "execution_count": 25,
   "metadata": {
    "collapsed": false
   },
   "outputs": [
    {
     "data": {
      "text/plain": [
       "(array([  3.00000000e+00,   0.00000000e+00,   1.00000000e+00,\n",
       "          3.00000000e+00,   1.10000000e+01,   3.10000000e+01,\n",
       "          1.05000000e+02,   2.61900000e+03,   1.54200000e+03,\n",
       "          8.00000000e+00]),\n",
       " array([-4547804.22768226, -3966826.83445397, -3385849.44122569,\n",
       "        -2804872.04799741, -2223894.65476912, -1642917.26154084,\n",
       "        -1061939.86831256,  -480962.47508428,   100014.91814401,\n",
       "          680992.31137229,  1261969.70460057]),\n",
       " <a list of 10 Patch objects>)"
      ]
     },
     "execution_count": 25,
     "metadata": {},
     "output_type": "execute_result"
    },
    {
     "data": {
      "image/png": "[encoded data removed]",
      "text/plain": [
       "<matplotlib.figure.Figure at 0xb476860>"
      ]
     },
     "metadata": {},
     "output_type": "display_data"
    }
   ],
   "source": [
    "plt.hist(predictions - output_test)"
   ]
  },
  {
   "cell_type": "code",
   "execution_count": null,
   "metadata": {
    "collapsed": true
   },
   "outputs": [],
   "source": []
  }
 ],
 "metadata": {
  "kernelspec": {
   "display_name": "Python 2",
   "language": "python",
   "name": "python2"
  },
  "language_info": {
   "codemirror_mode": {
    "name": "ipython",
    "version": 2
   },
   "file_extension": ".py",
   "mimetype": "text/x-python",
   "name": "python",
   "nbconvert_exporter": "python",
   "pygments_lexer": "ipython2",
   "version": "2.7.11"
  }
 },
 "nbformat": 4,
 "nbformat_minor": 0
}
