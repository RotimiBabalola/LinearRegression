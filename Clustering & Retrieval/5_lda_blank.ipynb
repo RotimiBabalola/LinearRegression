{
 "cells": [
  {
   "cell_type": "markdown",
   "metadata": {},
   "source": [
    "# Latent Dirichlet Allocation for Text Data\n",
    "\n",
    "In this assignment you will\n",
    "\n",
    "* apply standard preprocessing techniques on Wikipedia text data\n",
    "* use GraphLab Create to fit a Latent Dirichlet allocation (LDA) model\n",
    "* explore and interpret the results, including topic keywords and topic assignments for documents\n",
    "\n",
    "Recall that a major feature distinguishing the LDA model from our previously explored methods is the notion of *mixed membership*. Throughout the course so far, our models have assumed that each data point belongs to a single cluster. k-means determines membership simply by shortest distance to the cluster center, and Gaussian mixture models suppose that each data point is drawn from one of their component mixture distributions. In many cases, though, it is more realistic to think of data as genuinely belonging to more than one cluster or category - for example, if we have a model for text data that includes both \"Politics\" and \"World News\" categories, then an article about a recent meeting of the United Nations should have membership in both categories rather than being forced into just one.\n",
    "\n",
    "With this in mind, we will use GraphLab Create tools to fit an LDA model to a corpus of Wikipedia articles and examine the results to analyze the impact of a mixed membership approach. In particular, we want to identify the topics discovered by the model in terms of their most important words, and we want to use the model to predict the topic membership distribution for a given document. "
   ]
  },
  {
   "cell_type": "markdown",
   "metadata": {},
   "source": [
    "**Note to Amazon EC2 users**: To conserve memory, make sure to stop all the other notebooks before running this notebook."
   ]
  },
  {
   "cell_type": "markdown",
   "metadata": {},
   "source": [
    "## Text Data Preprocessing\n",
    "We'll start by importing our familiar Wikipedia dataset."
   ]
  },
  {
   "cell_type": "code",
   "execution_count": 1,
   "metadata": {
    "collapsed": false
   },
   "outputs": [
    {
     "name": "stderr",
     "output_type": "stream",
     "text": [
      "A newer version of GraphLab Create (v2.1) is available! Your current version is v1.10.1.\n",
      "\n",
      "You can use pip to upgrade the graphlab-create package. For more information see https://dato.com/products/create/upgrade.\n"
     ]
    }
   ],
   "source": [
    "import graphlab as gl\n",
    "import numpy as np\n",
    "import matplotlib.pyplot as plt \n",
    "\n",
    "%matplotlib inline"
   ]
  },
  {
   "cell_type": "code",
   "execution_count": 2,
   "metadata": {
    "collapsed": false
   },
   "outputs": [
    {
     "name": "stdout",
     "output_type": "stream",
     "text": [
      "C:\\Users\\Rolex James\\Documents\\MOOCs\\ML Univ of Washington\\Clustering & Retrieval\\Resources\\Week 2\n"
     ]
    }
   ],
   "source": [
    "%cd 'C:\\Users\\Rolex James\\Documents\\MOOCs\\ML Univ of Washington\\Clustering & Retrieval\\Resources\\Week 2'"
   ]
  },
  {
   "cell_type": "code",
   "execution_count": 3,
   "metadata": {
    "collapsed": false
   },
   "outputs": [
    {
     "name": "stdout",
     "output_type": "stream",
     "text": [
      "This non-commercial license of GraphLab Create for academic use is assigned to tolurotimibabalola@gmail.com and will expire on December 29, 2016.\n"
     ]
    },
    {
     "name": "stderr",
     "output_type": "stream",
     "text": [
      "[INFO] graphlab.cython.cy_server: GraphLab Create v1.10.1 started. Logging: C:\\Users\\ROLEXJ~1\\AppData\\Local\\Temp\\graphlab_server_1470313350.log.0\n"
     ]
    },
    {
     "data": {
      "text/html": [
       "<div style=\"max-height:1000px;max-width:1500px;overflow:auto;\"><table frame=\"box\" rules=\"cols\">\n",
       "    <tr>\n",
       "        <th style=\"padding-left: 1em; padding-right: 1em; text-align: center\">URI</th>\n",
       "        <th style=\"padding-left: 1em; padding-right: 1em; text-align: center\">name</th>\n",
       "        <th style=\"padding-left: 1em; padding-right: 1em; text-align: center\">text</th>\n",
       "    </tr>\n",
       "    <tr>\n",
       "        <td style=\"padding-left: 1em; padding-right: 1em; text-align: center; vertical-align: top\">&lt;http://dbpedia.org/resou<br>rce/Digby_Morrell&gt; ...</td>\n",
       "        <td style=\"padding-left: 1em; padding-right: 1em; text-align: center; vertical-align: top\">Digby Morrell</td>\n",
       "        <td style=\"padding-left: 1em; padding-right: 1em; text-align: center; vertical-align: top\">digby morrell born 10<br>october 1979 is a former ...</td>\n",
       "    </tr>\n",
       "    <tr>\n",
       "        <td style=\"padding-left: 1em; padding-right: 1em; text-align: center; vertical-align: top\">&lt;http://dbpedia.org/resou<br>rce/Alfred_J._Lewy&gt; ...</td>\n",
       "        <td style=\"padding-left: 1em; padding-right: 1em; text-align: center; vertical-align: top\">Alfred J. Lewy</td>\n",
       "        <td style=\"padding-left: 1em; padding-right: 1em; text-align: center; vertical-align: top\">alfred j lewy aka sandy<br>lewy graduated from ...</td>\n",
       "    </tr>\n",
       "    <tr>\n",
       "        <td style=\"padding-left: 1em; padding-right: 1em; text-align: center; vertical-align: top\">&lt;http://dbpedia.org/resou<br>rce/Harpdog_Brown&gt; ...</td>\n",
       "        <td style=\"padding-left: 1em; padding-right: 1em; text-align: center; vertical-align: top\">Harpdog Brown</td>\n",
       "        <td style=\"padding-left: 1em; padding-right: 1em; text-align: center; vertical-align: top\">harpdog brown is a singer<br>and harmonica player who ...</td>\n",
       "    </tr>\n",
       "    <tr>\n",
       "        <td style=\"padding-left: 1em; padding-right: 1em; text-align: center; vertical-align: top\">&lt;http://dbpedia.org/resou<br>rce/Franz_Rottensteiner&gt; ...</td>\n",
       "        <td style=\"padding-left: 1em; padding-right: 1em; text-align: center; vertical-align: top\">Franz Rottensteiner</td>\n",
       "        <td style=\"padding-left: 1em; padding-right: 1em; text-align: center; vertical-align: top\">franz rottensteiner born<br>in waidmannsfeld lower ...</td>\n",
       "    </tr>\n",
       "    <tr>\n",
       "        <td style=\"padding-left: 1em; padding-right: 1em; text-align: center; vertical-align: top\">&lt;http://dbpedia.org/resou<br>rce/G-Enka&gt; ...</td>\n",
       "        <td style=\"padding-left: 1em; padding-right: 1em; text-align: center; vertical-align: top\">G-Enka</td>\n",
       "        <td style=\"padding-left: 1em; padding-right: 1em; text-align: center; vertical-align: top\">henry krvits born 30<br>december 1974 in tallinn ...</td>\n",
       "    </tr>\n",
       "    <tr>\n",
       "        <td style=\"padding-left: 1em; padding-right: 1em; text-align: center; vertical-align: top\">&lt;http://dbpedia.org/resou<br>rce/Sam_Henderson&gt; ...</td>\n",
       "        <td style=\"padding-left: 1em; padding-right: 1em; text-align: center; vertical-align: top\">Sam Henderson</td>\n",
       "        <td style=\"padding-left: 1em; padding-right: 1em; text-align: center; vertical-align: top\">sam henderson born<br>october 18 1969 is an ...</td>\n",
       "    </tr>\n",
       "    <tr>\n",
       "        <td style=\"padding-left: 1em; padding-right: 1em; text-align: center; vertical-align: top\">&lt;http://dbpedia.org/resou<br>rce/Aaron_LaCrate&gt; ...</td>\n",
       "        <td style=\"padding-left: 1em; padding-right: 1em; text-align: center; vertical-align: top\">Aaron LaCrate</td>\n",
       "        <td style=\"padding-left: 1em; padding-right: 1em; text-align: center; vertical-align: top\">aaron lacrate is an<br>american music producer ...</td>\n",
       "    </tr>\n",
       "    <tr>\n",
       "        <td style=\"padding-left: 1em; padding-right: 1em; text-align: center; vertical-align: top\">&lt;http://dbpedia.org/resou<br>rce/Trevor_Ferguson&gt; ...</td>\n",
       "        <td style=\"padding-left: 1em; padding-right: 1em; text-align: center; vertical-align: top\">Trevor Ferguson</td>\n",
       "        <td style=\"padding-left: 1em; padding-right: 1em; text-align: center; vertical-align: top\">trevor ferguson aka john<br>farrow born 11 november ...</td>\n",
       "    </tr>\n",
       "    <tr>\n",
       "        <td style=\"padding-left: 1em; padding-right: 1em; text-align: center; vertical-align: top\">&lt;http://dbpedia.org/resou<br>rce/Grant_Nelson&gt; ...</td>\n",
       "        <td style=\"padding-left: 1em; padding-right: 1em; text-align: center; vertical-align: top\">Grant Nelson</td>\n",
       "        <td style=\"padding-left: 1em; padding-right: 1em; text-align: center; vertical-align: top\">grant nelson born 27<br>april 1971 in london  ...</td>\n",
       "    </tr>\n",
       "    <tr>\n",
       "        <td style=\"padding-left: 1em; padding-right: 1em; text-align: center; vertical-align: top\">&lt;http://dbpedia.org/resou<br>rce/Cathy_Caruth&gt; ...</td>\n",
       "        <td style=\"padding-left: 1em; padding-right: 1em; text-align: center; vertical-align: top\">Cathy Caruth</td>\n",
       "        <td style=\"padding-left: 1em; padding-right: 1em; text-align: center; vertical-align: top\">cathy caruth born 1955 is<br>frank h t rhodes ...</td>\n",
       "    </tr>\n",
       "</table>\n",
       "[59071 rows x 3 columns]<br/>Note: Only the head of the SFrame is printed.<br/>You can use print_rows(num_rows=m, num_columns=n) to print more rows and columns.\n",
       "</div>"
      ],
      "text/plain": [
       "Columns:\n",
       "\tURI\tstr\n",
       "\tname\tstr\n",
       "\ttext\tstr\n",
       "\n",
       "Rows: 59071\n",
       "\n",
       "Data:\n",
       "+-------------------------------+---------------------+\n",
       "|              URI              |         name        |\n",
       "+-------------------------------+---------------------+\n",
       "| <http://dbpedia.org/resour... |    Digby Morrell    |\n",
       "| <http://dbpedia.org/resour... |    Alfred J. Lewy   |\n",
       "| <http://dbpedia.org/resour... |    Harpdog Brown    |\n",
       "| <http://dbpedia.org/resour... | Franz Rottensteiner |\n",
       "| <http://dbpedia.org/resour... |        G-Enka       |\n",
       "| <http://dbpedia.org/resour... |    Sam Henderson    |\n",
       "| <http://dbpedia.org/resour... |    Aaron LaCrate    |\n",
       "| <http://dbpedia.org/resour... |   Trevor Ferguson   |\n",
       "| <http://dbpedia.org/resour... |     Grant Nelson    |\n",
       "| <http://dbpedia.org/resour... |     Cathy Caruth    |\n",
       "+-------------------------------+---------------------+\n",
       "+-------------------------------+\n",
       "|              text             |\n",
       "+-------------------------------+\n",
       "| digby morrell born 10 octo... |\n",
       "| alfred j lewy aka sandy le... |\n",
       "| harpdog brown is a singer ... |\n",
       "| franz rottensteiner born i... |\n",
       "| henry krvits born 30 decem... |\n",
       "| sam henderson born october... |\n",
       "| aaron lacrate is an americ... |\n",
       "| trevor ferguson aka john f... |\n",
       "| grant nelson born 27 april... |\n",
       "| cathy caruth born 1955 is ... |\n",
       "+-------------------------------+\n",
       "[59071 rows x 3 columns]\n",
       "Note: Only the head of the SFrame is printed.\n",
       "You can use print_rows(num_rows=m, num_columns=n) to print more rows and columns."
      ]
     },
     "execution_count": 3,
     "metadata": {},
     "output_type": "execute_result"
    }
   ],
   "source": [
    "# import wiki data\n",
    "wiki = gl.SFrame('people_wiki.gl/')\n",
    "wiki"
   ]
  },
  {
   "cell_type": "markdown",
   "metadata": {},
   "source": [
    "In the original data, each Wikipedia article is represented by a URI, a name, and a string containing the entire text of the article. Recall from the video lectures that LDA requires documents to be represented as a _bag of words_, which ignores word ordering in the document but retains information on how many times each word appears. As we have seen in our previous encounters with text data, words such as 'the', 'a', or 'and' are by far the most frequent, but they appear so commonly in the English language that they tell us almost nothing about how similar or dissimilar two documents might be. \n",
    "\n",
    "Therefore, before we train our LDA model, we will preprocess the Wikipedia data in two steps: first, we will create a bag of words representation for each article, and then we will remove the common words that don't help us to distinguish between documents. For both of these tasks we can use pre-implemented tools from GraphLab Create:"
   ]
  },
  {
   "cell_type": "code",
   "execution_count": 4,
   "metadata": {
    "collapsed": true
   },
   "outputs": [],
   "source": [
    "wiki_docs = gl.text_analytics.count_words(wiki['text'])\n",
    "wiki_docs = wiki_docs.dict_trim_by_keys(gl.text_analytics.stopwords(), exclude=True)"
   ]
  },
  {
   "cell_type": "code",
   "execution_count": 6,
   "metadata": {
    "collapsed": false,
    "scrolled": true
   },
   "outputs": [
    {
     "name": "stdout",
     "output_type": "stream",
     "text": [
      "\n",
      "    count_words(sa, to_lower=True, delimiters=[\"\\\\r\", \"\\\\v\", \"\\\\n\", \"\\\\f\", \"\\\\t\", \" \"])\n",
      "\n",
      "    Convert the content of string/dict/list type SArrays to a dictionary of\n",
      "    (word, count) pairs. Dictionary keys and list elements must be strings.\n",
      "    The strings are first tokenized into words according to the specified\n",
      "    `to_lower` and `delimiters` options. Then, word counts are accumulated.\n",
      "    In each output dictionary, the keys are the words in the corresponding\n",
      "    input data entry, and the values are the number of times the words appears.\n",
      "    By default, words are split on all whitespace and newline characters. The\n",
      "    output is commonly known as the \"bag-of-words\" representation of text data.\n",
      "\n",
      "    This function is implemented using\n",
      "    :py:class:`~graphlab.toolkits.feature_engineering._word_counter.WordCounter`.\n",
      "\n",
      "    Parameters\n",
      "    ----------\n",
      "    sa : SArray[str | dict | list]\n",
      "        Input data to be tokenized and counted. See\n",
      "        :py:class:`~graphlab.toolkits.feature_engineering._word_counter.WordCounter`\n",
      "        documentation for details on how string, dict, and list inputs are handled.\n",
      "\n",
      "    to_lower : bool, optional\n",
      "        If True, all strings are converted to lower case before counting.\n",
      "\n",
      "    delimiters : list[str], None, optional\n",
      "        Input strings are tokenized using delimiter characters in this list.\n",
      "        Each entry in this list must contain a single character. If set to\n",
      "        `None`, then a Penn treebank-style tokenization is used, which contains\n",
      "        smart handling of punctuations.\n",
      "\n",
      "    Returns\n",
      "    -------\n",
      "    out : SArray[dict]\n",
      "        Each entry contains a dictionary with the frequency count of each word\n",
      "        in the corresponding input entry.\n",
      "\n",
      "    See Also\n",
      "    --------\n",
      "    count_ngrams, tf_idf, tokenize,\n",
      "    graphlab.toolkits.feature_engineering._word_counter.WordCounter\n",
      "\n",
      "    References\n",
      "    ----------\n",
      "    - `Bag of words model <http://en.wikipedia.org/wiki/Bag-of-words_model>`_\n",
      "    - `Penn treebank tokenization <https://www.cis.upenn.edu/~treebank/tokenization.html>`_\n",
      "\n",
      "    Examples\n",
      "    --------\n",
      "    .. sourcecode:: python\n",
      "\n",
      "        >>> import graphlab\n",
      "\n",
      "        # Create input data\n",
      "        >>> sa = graphlab.SArray([\"The quick brown fox jumps.\",\n",
      "        ...                       \"Word word WORD, word!!!word\"])\n",
      "\n",
      "        # Run count_words\n",
      "        >>> graphlab.text_analytics.count_words(sa)\n",
      "        dtype: dict\n",
      "        Rows: 2\n",
      "        [{'quick': 1, 'brown': 1, 'the': 1, 'fox': 1, 'jumps.': 1},\n",
      "         {'word,': 1, 'word!!!word': 1, 'word': 2}]\n",
      "\n",
      "        # Run count_words with Penn treebank style tokenization to handle\n",
      "        # puntuations\n",
      "        >>> graphlab.text_analytics.count_words(sa, delimiters=None)\n",
      "        dtype: dict\n",
      "        Rows: 2\n",
      "        [{'brown': 1, 'jumps': 1, 'fox': 1, '.': 1, 'quick': 1, 'the': 1},\n",
      "         {'word': 3, 'word!!!word': 1, ',': 1}]\n",
      "\n",
      "        # Run count_words with dictionary input\n",
      "        >>> sa = graphlab.SArray([{'alice bob': 1, 'Bob alice': 0.5},\n",
      "        ...                       {'a dog': 0, 'a dog cat': 5}])\n",
      "        >>> graphlab.text_analytics.count_words(sa)\n",
      "        dtype: dict\n",
      "        Rows: 2\n",
      "        [{'bob': 1.5, 'alice': 1.5}, {'a': 5, 'dog': 5, 'cat': 5}]\n",
      "\n",
      "        # Run count_words with list input\n",
      "        >>> sa = graphlab.SArray([['one', 'bar bah'], ['a dog', 'a dog cat']])\n",
      "        >>> graphlab.text_analytics.count_words(sa)\n",
      "        dtype: dict\n",
      "        Rows: 2\n",
      "        [{'bar': 1, 'bah': 1, 'one': 1}, {'a': 2, 'dog': 2, 'cat': 1}]\n",
      "\n",
      "    \n"
     ]
    }
   ],
   "source": [
    "print gl.text_analytics.count_words.__doc__"
   ]
  },
  {
   "cell_type": "code",
   "execution_count": 8,
   "metadata": {
    "collapsed": false
   },
   "outputs": [
    {
     "data": {
      "text/plain": [
       "dtype: dict\n",
       "Rows: 10\n",
       "[{'coach': 2L, 'carltons': 1L, '2005': 1L, 'selection': 1L, '21': 1L, 'northern': 1L, 'bullants': 1L, 'perth': 1L, 'sydney': 1L, '2014': 1L, '2011': 1L, '2013': 1L, 'division': 1L, 'brisbaneafter': 1L, 'rules': 1L, 'assistant': 1L, 'spanned': 1L, 'early': 1L, 'game': 1L, 'continued': 1L, '44game': 1L, 'round': 1L, 'parade': 1L, 'born': 1L, 'clubs': 1L, 'college': 1L, 'blues': 1L, 'falcons': 1L, 'hill': 1L, 'drawn': 1L, 'kangaroos': 3L, 'kicked': 1L, 'exchange': 1L, 'mckernan': 1L, '19982000': 1L, 'losing': 1L, 'essendon': 1L, 'teaches': 1L, 'box': 1L, 'league': 4L, 'career': 1L, '32': 1L, 'david': 1L, 'melbourne': 1L, 'digby': 1L, 'games': 1L, 'leading': 2L, 'traded': 1L, 'goalkicker': 1L, 'morrell': 5L, 'acted': 1L, 'carlton': 2L, 'district': 1L, 'west': 2L, 'hawks': 1L, 'draft': 1L, 'coburg': 1L, 'forward': 1L, 'australian': 3L, 'recruited': 1L, 'shifted': 1L, 'club': 5L, 'season': 3L, 'vflaffiliate': 1L, 'goals': 1L, '10': 1L, 'october': 1L, 'footballer': 1L, 'victorian': 1L, 'played': 3L, 'teague': 1L, 'strathmore': 1L, 'premier': 1L, 'delisted': 1L, 'australia': 1L, 'education': 1L, 'physical': 1L, 'afl': 1L, 'end': 2L, 'premiership': 1L, 'retiring': 1L, 'edflhe': 1L, 'corey': 1L, 'rookie': 1L, 'play': 1L, 'coached': 1L, 'football': 10L, '2008': 1L, 'vfl': 1L, '1979': 1L, 'age': 1L, '2002': 1L, '2003': 1L, '2000': 1L, '2001': 1L, '2006': 1L, '2007': 1L, 'time': 1L, 'senior': 3L, '2009': 1L, 'aflfrom': 1L, 'playing': 2L, 'western': 1L}, {'precise': 1L, 'thomas': 1L, 'disturbances': 1L, 'wehr': 1L, 'bright': 1L, 'sleep': 2L, 'nimh': 1L, 'monitored': 1L, 'disorders': 4L, 'chronobiologic': 1L, 'treatment': 3L, 'rhythm': 1L, 'maryland': 1L, 'include': 1L, 'plasma': 1L, 'colleague': 1L, 'evening': 2L, 'assay': 1L, 'pharmacology': 1L, 'ophthalmology': 1L, 'closely': 1L, 'day': 2L, 'university': 2L, 'morning': 2L, 'winter': 1L, 'individuals': 1L, 'biological': 1L, 'mental': 1L, 'national': 1L, 'circadian': 3L, 'laboratory': 1L, '24hour': 1L, 'sandy': 1L, 'mood': 1L, 'chicago': 1L, 'pattern': 1L, 'robert': 1L, 'research': 2L, 'current': 1L, 'health': 2L, 'full': 1L, 'drifting': 1L, 'focused': 1L, 'graduated': 1L, 'relying': 1L, 'lag': 1L, 'rhythms': 1L, 'jet': 1L, 'institute': 1L, 'shift': 1L, 'prior': 1L, 'aka': 1L, 'studies': 1L, 'blind': 1L, 'lewy': 3L, 'modalities': 1L, 'phasedelay': 1L, 'sack': 1L, 'precisely': 1L, 'working': 1L, '1981': 1L, 'describes': 1L, 'alfred': 1L, 'secretion': 1L, 'phaseadvance': 1L, 'oregon': 3L, 'worked': 1L, '94': 1L, 'md': 1L, 'hour': 1L, 'developing': 1L, 'science': 1L, 'work': 1L, 'publications': 1L, 'scheduled': 1L, 'defined': 1L, 'december': 1L, 'pubmed': 1L, 'melatonin': 5L, 'vicechair': 1L, 'ohsu': 1L, 'studying': 1L, 'holds': 1L, 'administration': 3L, 'shifts': 2L, 'depression': 1L, 'bethesda': 1L, 'department': 1L, 'maladaptation': 1L, 'time': 1L, 'phd': 1L, 'moving': 1L, 'assessed': 1L, 'totally': 1L, 'types': 1L, 'exposure': 3L, 'hormone': 1L, 'light': 3L, 'professor': 1L, '25hour': 1L, '1973': 1L, 'capsule': 1L, '2005': 1L, 'psychiatry': 2L, 'senior': 1L}, {'issued': 1L, 'nominated': 1L, 'years': 1L, 'leads': 1L, 'tours': 1L, 'teamed': 1L, 'cds': 1L, 'broadcaster': 1L, 'harmonica': 2L, 'gutsy': 1L, 'voted': 1L, '2014': 2L, 'piano': 1L, 'thousands': 1L, '2010': 1L, 'brown': 2L, 'big': 1L, 'band': 3L, 'hamilton': 1L, 'association': 1L, 'northwestern': 1L, 'performing': 1L, 'comprising': 1L, 'arthur': 1L, 'miles': 1L, 'release': 1L, 'honored': 1L, 'society': 1L, 'year': 1L, 'home': 2L, 'portland': 1L, 'harp': 1L, 'canada': 2L, 'chicago': 2L, 'extensively': 1L, 'won': 1L, 'tens': 1L, 'hailing': 1L, 'full': 1L, 'small': 1L, 'active': 1L, 'dates': 1L, 'canadian': 2L, 'influential': 1L, 'blind': 1L, 'canadas': 1L, 'scene': 1L, 'venues': 1L, 'cd': 1L, 'germanyover': 1L, 'festivals': 1L, 'maple': 1L, '1982': 1L, 'guest': 1L, 'working': 1L, 'duo': 1L, 'muddy': 1L, 'awarded': 1L, 'harpdog': 2L, 'naturally': 1L, 'juggles': 1L, 'life': 1L, 'club': 1L, 'oregon': 1L, 'released': 1L, 'toronto': 1L, 'combos': 1L, '1995': 1L, 'holger': 1L, 'promoter': 1L, 'edmonds': 1L, 'recording': 1L, 'crossed': 1L, 'petersen': 1L, 'called': 1L, 'classic': 1L, 'covers': 1L, 'states': 1L, 'player': 2L, 'graham': 1L, 'blues': 9L, 'mid1950s': 1L, 'united': 1L, 'lemon': 1L, 'guitarist': 1L, '1': 1L, 'vancouver': 1L, 'browns': 1L, 'nw': 1L, 'album': 1L, 'electric': 1L, 'juno': 1L, 'albumhe': 1L, 'membership': 1L, 'award': 2L, 'singer': 1L, 'bluesgospel': 1L, 'surveybrown': 1L, 'original': 1L, 'traditional': 1L, 'cascade': 1L, 'time': 1L, 'playing': 1L, 'songs': 1L}, {'bauforschung': 1L, 'kurdlawitzpreis': 1L, 'german': 2L, 'ending': 1L, 'produced': 2L, 'including': 1L, 'austrian': 1L, 'hundredth': 1L, 'merkur': 1L, '1942': 1L, 'dick': 2L, '28': 1L, 'lower': 1L, 'praised': 1L, 'listing': 1L, 'stanisaw': 1L, 'apek': 1L, 'silverberg': 1L, 'trnaslations': 1L, 'jeanpierre': 1L, 'klein': 1L, 'translations': 1L, 'matters': 1L, 'wellss': 1L, 'heinlein': 1L, 'years': 3L, 'association': 1L, 'brought': 2L, 'olaf': 1L, 'fields': 1L, 'university': 1L, 'journalism': 1L, 'herbert': 1L, 'january': 1L, 'served': 1L, 'european': 1L, 'zelazny': 1L, 'view': 1L, 'reference': 1L, 'describedroger': 1L, 'series': 1L, 'rottensteiner': 3L, 'born': 1L, 'books': 2L, 'fifty': 1L, 'die': 1L, 'phantastische': 1L, 'close': 1L, 'special': 1L, 'phantastischen': 1L, 'total': 1L, 'abe': 1L, 'cordwainer': 1L, 'strugatski': 1L, 'robert': 1L, 'nonwriter': 1L, '18': 1L, 'critical': 1L, 'stapledon': 1L, 'receiving': 1L, 'numerous': 1L, 'public': 1L, 'achievements': 1L, 'edited': 1L, 'comparable': 1L, 'romane': 1L, 'journal': 2L, 'republished': 1L, 'lem': 4L, 'betterknown': 1L, 'york': 1L, 'advisor': 1L, 'franz': 1L, 'philip': 2L, 'fifteen': 1L, 'publisher': 1L, 'works': 3L, 'working': 1L, 'language': 1L, 'asimov': 1L, 'sterreichisches': 1L, 'controversy': 1L, 'american': 1L, 'und': 1L, 'barry': 1L, 'promotion': 1L, 'introduced': 1L, 'book': 2L, 'franke': 1L, 'smith': 1L, 'number': 3L, 'karel': 1L, 'fantasy': 1L, 'austria': 2L, 'kobo': 1L, 'bibliothek': 1L, 'aldiss': 1L, 'awarded': 1L, 'institut': 1L, 'illustrated': 1L, '1980': 1L, 'start': 1L, 'addition': 1L, 'leading': 2L, 'negative': 1L, 'fiction': 7L, 'continental': 1L, 'quarber': 1L, 'andersonare': 1L, 'editor': 2L, 'hundred': 1L, 'assessment': 1L, 'vienna': 2L, 'seriesrottensteiner': 1L, 'factor': 1L, 'andrevonthe': 1L, 'authors': 3L, 'fantasticrottensteiner': 1L, 'highest': 1L, 'producing': 1L, 'hg': 1L, '1998': 1L, '1995': 1L, 'science': 6L, 'work': 1L, 'lesser': 1L, 'suhrkamp': 1L, 'travesties': 1L, 'doctorate': 1L, 'history': 1L, 'nesvadba': 1L, 'studied': 1L, 'figure': 1L, 'stated': 1L, 'year': 1L, 'brothersin': 1L, 'critic': 1L, 'eighteen': 1L, 'banal': 1L, '19791985': 1L, 'united': 1L, '1969': 1L, 'anthology': 1L, 'waidmannsfeld': 1L, '1963': 1L, 'anthologies': 1L, 'brian': 1L, 'writers': 2L, 'recognition': 1L, 'provoked': 1L, 'stanislaw': 2L, 'malzberg': 1L, 'statesrottensteiner': 1L, 'fr': 1L, '2004': 1L, 'verlags': 1L, 'english': 1L, 'josef': 1L, 'wells': 1L, 'produce': 1L, 'librarian': 1L, 'englishreading': 1L, '1978': 1L, '1975': 2L, '1973': 1L, 'shore': 1L, 'greatest': 1L, 'volumes': 2L, 'gerard': 1L, 'occasion': 1L, 'sf': 2L, 'typical': 1L}, {'europe': 1L, '1974': 1L, '1996': 1L, 'gangstergenka': 1L, 'armchair': 1L, 'oja': 2L, 'back': 1L, 'joined': 1L, 'tugitooli': 1L, 'tag': 4L, 'palm': 1L, 'palmisaar': 1L, 'rap': 1L, 'year': 2L, 'dj': 2L, 'paul': 2L, 'hit': 1L, 'bankruptcy': 1L, 'album': 6L, 'genkas': 1L, 'group': 1L, 'estonian': 3L, 'revo': 2L, 'songs': 5L, '23': 1L, 'famous': 3L, 'vacation': 1L, 'cent': 1L, '18': 1L, 'promo': 1L, 'tallinn': 3L, 'december': 1L, 'born': 1L, 'band': 1L, 'homophobes': 1L, 'toe': 4L, 'real': 1L, 'solo': 1L, 'curtis': 1L, 'rapping': 1L, 'started': 5L, 'big': 1L, 'company': 1L, 'genka': 5L, 'leegion': 1L, 'records': 1L, 'kuhnja': 1L, 'studio': 1L, 'legendary': 1L, 'pankrot': 1L, 'released': 3L, '1998': 1L, 'schoolmate': 1L, 'legendaarne': 3L, 'stagename': 1L, 'warmup': 1L, 'performers': 1L, 'gangster': 1L, 'island': 1L, '30': 1L, 'rapper': 1L, '50': 1L, 'called': 1L, 'droopy': 1L, 'record': 2L, 'tour': 2L, '2001': 1L, '2006': 1L, '2007': 1L, '2004': 1L, 'henry': 1L, 'arhm': 3L, 'making': 1L, 'rapped': 1L, 'consisted': 1L, 'krvits': 1L, 'producergenka': 1L}, {'nominated': 1L, 'ended': 1L, 'xeroxed': 1L, 'niblit': 1L, 'alternative': 1L, 'captain': 1L, 'weekly': 1L, 'toilets': 1L, 'awardshis': 1L, 'earned': 1L, 'writer': 1L, 'character': 1L, 'woodstock': 2L, 'writing': 1L, 'program': 1L, '4': 1L, '2010': 1L, 'henderson': 3L, 'march': 1L, 'penises': 1L, 'bear': 1L, 'scene': 1L, 'whistle': 4L, 'simmons': 1L, 'hendersons': 3L, 'bigger': 2L, 'school': 2L, 'storyboard': 1L, 'magic': 4L, 'bobby': 1L, 'wordless': 1L, '2010in': 1L, 'nickelodeon': 1L, 'red': 1L, 'squarepants': 1L, 'emmy': 1L, 'wrote': 1L, 'spongebob': 1L, 'series': 2L, 'directing': 1L, 'born': 2L, 'college': 2L, 'year': 1L, 'special': 1L, 'graduating': 1L, 'humor': 1L, 'expert': 1L, 'harvey': 1L, 'review': 1L, 'historyhenderson': 1L, 'contained': 1L, 'crude': 1L, '5009': 3L, 'bestknown': 1L, 'attended': 1L, 'yorks': 1L, '1987': 1L, 'journal': 1L, 'drew': 2L, 'busy': 1L, 'awards': 1L, 'york': 2L, 'starring': 1L, 'graduated': 1L, 'earliest': 1L, 'larger': 1L, 'programming': 1L, 'blobby': 1L, 'american': 2L, 'published': 3L, 'yorksince': 1L, 'hometown': 1L, 'number': 1L, 'magazines': 1L, 'weiss': 1L, 'strip': 2L, 'comic': 5L, 'city': 1L, 'arts': 1L, '1980': 1L, 'expressnews': 1L, 'boiceville': 1L, 'due': 1L, '1988': 1L, 'spaz': 1L, 'asses': 1L, 'longestrunning': 1L, 'featuring': 1L, 'friend': 1L, 'award': 1L, 'visual': 1L, 'lives': 1L, 'midtolate': 1L, '1980s': 1L, '1993': 2L, 'october': 1L, 'hour': 1L, 'comics': 2L, '18': 1L, 'work': 1L, 'cartoonist': 1L, 'onteora': 1L, '1991henderson': 1L, 'animated': 1L, 'called': 1L, 'san': 1L, 'sam': 1L, 'turned': 1L, 'high': 1L, 'heard': 1L, 'minicomics': 2L, 'monroe': 1L, 'pink': 1L, '1969': 1L, 'began': 2L, 'magazine': 1L, 'sic': 1L, '55th': 1L, '19992004in': 1L, 'comedy': 1L, 'junk': 1L, 'collection': 1L, 'scratchings': 1L, 'nomination': 1L, 'man': 1L, 'antonio': 1L, '2003': 1L, 'funniest': 1L, 'title': 1L, 'selfpublishing': 2L, 'reprinted': 1L}, {'exclusive': 2L, 'producer': 1L, 'show': 2L, 'developed': 1L, 'rascals': 1L, 'major': 2L, 'produced': 3L, 'including': 1L, 'crack': 1L, 'classic': 1L, 'kanye': 1L, 'specialedition': 1L, 'york': 1L, 'jacobs': 1L, 'based': 1L, 'jay': 1L, 'paris': 1L, 'observe': 1L, 'credited': 2L, 'young': 1L, 'created': 1L, 'aaron': 5L, 'jam': 1L, 'black': 1L, 'fade': 1L, 'prison': 1L, 'experimenting': 1L, 'maryland': 1L, 'east': 1L, 'local': 1L, 'dj': 3L, 'wide': 1L, 'nightclubs': 1L, 'successful': 1L, 'early': 1L, 'records': 2L, 'quest': 1L, 'spank': 1L, 'basement': 1L, 'report': 1L, 'world': 1L, 'cool': 1L, 'clan': 1L, 'knock': 1L, 'cable': 1L, 'success': 1L, 'artist': 1L, 'university': 1L, 'mndr': 1L, 'jayz': 1L, '1999': 1L, 'diy': 1L, 'reasonable': 1L, 'rock': 1L, 'cashmere': 1L, 'soulja': 1L, 'athletics': 3L, 'amanda': 1L, 'em': 1L, 'entourage': 1L, 'lucien': 1L, 'series': 2L, 'artists': 1L, 'colette': 1L, 'born': 1L, 'doolittleat': 1L, 'productions': 1L, 'recently': 1L, 'cocacola': 1L, 'album': 1L, 'wire': 3L, 'ricks': 1L, 'eliza': 2L, 'rascal': 2L, 'slick': 1L, 'label': 2L, 'collaborated': 2L, 'performanceslacrate': 1L, 'jayzs': 1L, 'lacrate': 12L, 'milkcrate': 6L, 'shows': 1L, 'videogame': 1L, 'hero': 1L, 'outkast': 1L, 'syracuse': 1L, 'tour': 1L, 'sold': 1L, 'dazed': 1L, 'ferrariwhich': 1L, 'highlandtown': 1L, 'youngest': 1L, 'attending': 1L, 'tracks': 1L, 'studio': 1L, 'vinyl': 1L, 'starring': 1L, 'tshirtin': 1L, 'baltimores': 1L, 'rocafella': 1L, 'helping': 1L, 'hbo': 4L, 'kids': 1L, 'launch': 1L, 'rogenrecently': 1L, 'lacrates': 1L, 'nightclub': 1L, 'prior': 1L, 'american': 1L, 'doolittle': 1L, 'soundtrack': 1L, 'recordings': 1L, 'djing': 1L, 'streamz': 1L, 'road': 1L, 'king': 1L, 'tribe': 1L, 'vegas': 1L, 'features': 1L, 'scene': 1L, 'pop': 1L, 'highly': 1L, 'gorillaz': 1L, 'featured': 1L, 'called': 1L, 'delicious': 1L, 'blank': 1L, 'custom': 1L, 'platinum': 1L, 'city': 1L, 'working': 1L, 'marc': 1L, 'bmore': 3L, 'west': 1L, 'create': 1L, 'support': 1L, 'mark': 1L, 'parties': 1L, 'live': 1L, 'doubt': 1L, 'music': 7L, 'house': 1L, 'ronson': 1L, 'featuring': 1L, 'vans': 1L, 'hard': 1L, 'boy': 1L, 'club': 2L, 'ragehbo': 1L, 'released': 3L, 'remixed': 1L, 'commissioned': 2L, 'level': 1L, 'mcs': 1L, '10': 1L, 'television': 1L, 'grew': 1L, 'mixtapes': 1L, 'mc': 1L, 'culture': 2L, 'collaborations': 1L, 'ultramagnetic': 1L, 'official': 2L, 'recording': 1L, 'record': 2L, 'historical': 1L, 'mr': 1L, 'making': 1L, 'dizzee': 3L, 'def': 1L, 'mz': 1L, 'showlacrate': 1L, 'fashion': 5L, 'pellatfinet': 1L, 'played': 1L, 'confused': 1L, 'graffiti': 1L, 'allen': 3L, 'madonna': 1L, 'wutang': 1L, 'eminems': 1L, 'clothing': 2L, 'campus': 1L, 'film': 1L, 'summers': 1L, 'payday': 1L, 'began': 2L, 'song': 1L, 'brandaaron': 1L, 'range': 1L, 'epmd': 1L, 'started': 1L, 'vital': 1L, 'role': 1L, 'popularizing': 1L, 'toured': 1L, 'nyc': 2L, 'lily': 3L, 'life': 2L, 'designer': 2L, 'star': 1L, 'tshirts': 2L, 'collaboration': 1L, 'time': 1L, 'director': 1L, 'sponsored': 1L, 'interning': 1L, 'rakim': 3L, 'gutter': 2L, 'tramps': 1L, 'age': 1L, 'seth': 1L, 'spent': 1L, 'baltimoreaaron': 1L, 'verb': 1L, 'ferrari': 1L, 'baltimore': 8L, 'writing': 1L, '2005': 1L, 'streetwear': 2L, '2009': 1L, 'original': 1L}, {'taxi': 1L, 'salon': 1L, 'gangs': 1L, 'text': 1L, 'agreed': 1L, 'wood': 1L, 'thomas': 1L, 'nominated': 1L, 'years': 1L, 'produced': 3L, 'chair': 1L, 'enjoyed': 1L, '1': 1L, 'du': 1L, 'chosen': 1L, 'regarded': 1L, 'april': 2L, 'fergusons': 2L, 'writing': 2L, 'critical': 1L, 'kinkajou': 1L, 'developed': 1L, 'alberta': 1L, 'vancouver': 1L, '2011': 1L, 'lake': 1L, '2013': 1L, '2012': 1L, '11': 1L, 'march': 1L, 'returned': 1L, 'returning': 1L, 'pages': 1L, 'commemorate': 1L, 'cultural': 1L, 'ferguson': 2L, 'fall': 1L, 'press': 1L, 'penname': 1L, 'burns': 1L, 'burnt': 1L, 'day': 1L, 'worlds': 1L, 'awaited': 1L, 'prize': 1L, 'countries': 1L, 'die': 1L, 'university': 2L, 'book': 2L, '54': 1L, 'served': 1L, 'raised': 1L, 'river': 3L, 'dennis': 1L, 'dir': 2L, 'county': 1L, 'declared': 1L, 'work': 1L, 'fair': 1L, 'people': 1L, 'house': 1L, '1947': 2L, 'library': 1L, 'past': 1L, 'born': 1L, 'books': 1L, 'quebec': 2L, 'miniseries': 1L, 'novelist': 2L, 'tenth': 1L, 'special': 1L, 'canada': 3L, 'plays': 1L, 'driving': 1L, 'livres': 1L, 'arguably': 1L, 'novels': 3L, 'martins': 1L, 'anniversary': 1L, 'ice': 2L, 'creative': 1L, 'written': 1L, 'won': 1L, 'sold': 1L, '2015in': 1L, 'europe': 1L, 'sixteen': 1L, 'timekeeper': 1L, 'run': 1L, 'lee': 1L, 'journal': 1L, 'night': 2L, 'sprung': 2L, 'french': 1L, 'water': 1L, 'york': 3L, 'ontario': 1L, 'studio': 2L, 'twentieth': 1L, 'genre': 1L, 'major': 1L, 'teaches': 1L, 'guy': 2L, 'starborn': 1L, 'stage': 1L, 'received': 2L, 'dunne': 1L, 'language': 1L, 'invit': 1L, 'midteens': 1L, 'invited': 2L, 'infinitheatre': 3L, 'americas': 1L, 'paris': 2L, 'farrow': 3L, 'place': 1L, 'published': 3L, 'aka': 1L, 'qubcoise': 1L, 'settled': 1L, 'seaforth': 1L, 'montreal': 6L, '1000': 1L, 'equally': 1L, 'hudson': 2L, 'bunkhousesin': 1L, 'canadas': 2L, 'claim': 1L, 'paperback': 1L, 'leon': 1L, 'highly': 2L, 'sienna': 1L, 'guests': 1L, 'village': 1L, 'union': 1L, 'ninth': 1L, 'crime': 2L, 'november': 2L, 'city': 3L, 'arts': 2L, '1985': 1L, 'publication': 2L, 'working': 1L, 'hes': 1L, 'festival': 1L, 'west': 1L, 'trilogy': 1L, 'long': 3L, 'fiction': 3L, 'barnacle': 1L, 'twenties': 1L, 'storm': 1L, 'time': 1L, 'travelled': 1L, 'john': 4L, 'opens': 1L, 'option': 1L, 'successful': 1L, 'masque': 1L, 'onyx': 1L, 'award': 1L, '2014city': 1L, 'zarathustra': 1L, '20000': 1L, 'maclennan': 1L, 'sun': 1L, 'worked': 2L, 'highest': 1L, 'canadian': 3L, 'toronto': 1L, 'high': 1L, '17': 1L, '1999': 1L, 'lacadmie': 1L, 'des': 2L, 'booklist': 1L, 'today': 1L, 'praise': 1L, 'newspaper': 1L, 'murders': 1L, 'called': 4L, 'history': 2L, 'bridge': 1L, 'acclaim': 1L, 'preeminent': 1L, 'century': 1L, 'cited': 1L, 'states': 1L, 'concordia': 1L, 'caused': 1L, 'rooke': 1L, 'huron': 1L, 'film': 1L, 'booksst': 1L, 'dhonneur': 1L, 'united': 1L, 'author': 1L, 'things': 1L, 'began': 1L, 'hugh': 1L, 'write': 2L, 'chants': 1L, 'writers': 3L, 'writersextraordinary': 1L, 'northwest': 1L, 'fourth': 1L, 'beach': 1L, 'company': 1L, 'play': 5L, 'literature': 1L, 'simon': 1L, 'writerinresidence': 1L, 'theatre': 3L, 'centre': 1L, 'series': 3L, 'english': 1L, 'schuster': 1L, 'coproduced': 1L, 'france': 2L, 'authors': 1L, 'germany': 1L, 'faculty': 1L, 'frequently': 1L, 'railway': 1L, 'ziet': 1L, 'early': 1L, 'short': 1L, 'banff': 1L, 'gravitated': 1L, '1977': 1L, 'age': 1L, 'trevor': 3L, '2002': 4L, 'bestseller': 1L, '2006': 1L, '2004': 1L, '2005': 1L, 'lives': 1L}, {'houston': 1L, 'frankie': 1L, 'labels': 1L, 'hardcores': 1L, 'produced': 1L, 'roy': 1L, 'london': 2L, 'teamed': 1L, 'asylum': 1L, 'godfathers': 1L, '27': 1L, 'mcneal': 1L, 'present': 1L, 'heavies': 1L, 'include': 1L, 'gave': 1L, 'brown': 2L, 'dj': 2L, 'producernelson': 1L, 'continues': 1L, 'early': 2L, 'records': 3L, 'birth': 1L, 'breakbeat': 1L, 'level': 1L, 'james': 2L, 'roll': 1L, 'garage': 1L, 'vibes': 2L, 'knight': 1L, 'including': 2L, 'guy': 1L, 'dodger': 1L, 'tei': 1L, 'bump': 2L, 'house': 2L, '19901993': 1L, 'thelma': 1L, 'gilberto': 1L, 'born': 1L, 'juliet': 1L, 'delivered': 2L, 'jodeci': 1L, 'liberty': 1L, 'label': 3L, 'consistently': 1L, 'bass': 1L, 'wishdokta': 3L, 'champagne': 1L, 'numerous': 1L, 'red': 1L, 'rosie': 1L, 'uk': 3L, 'kelis': 1L, 'aaliyah': 1L, 'hits': 1L, 'legendary': 1L, 'days': 1L, 'goldie': 1L, 'april': 1L, 'negrocan': 1L, 'gaines': 1L, 'scene': 1L, 'lutricia': 1L, 'misteeq': 1L, 'simply': 1L, 'artists': 1L, '1990s': 1L, 'flex': 2L, 'city': 1L, 'knuckles': 1L, 'alterego': 1L, '2step': 1L, 'top': 1L, 'due': 1L, 'ayers': 1L, 'music': 1L, 'ah': 1L, 'biggest': 2L, 'heralded': 1L, 'happy': 2L, 'head': 1L, 'remixer': 1L, 'club': 1L, 'brand': 1L, 'remixed': 1L, 'worked': 1L, 'producing': 1L, 'funk': 1L, 'sound': 1L, 'king': 1L, '1993': 1L, '1997': 1L, 'musicsome': 1L, 'scenes': 1L, 'towa': 1L, 'roberts': 1L, 'record': 2L, 'evolved': 1L, 'artful': 1L, 'ripe': 2L, 'remained': 1L, 'nng': 1L, 'evelyn': 1L, 'hardcoredrum': 1L, 'delivers': 1L, 'drawer': 1L, '1971': 1L, 'beverley': 1L, 'bebel': 1L, 'grant': 1L, 'began': 1L, 'traxin': 1L, 'started': 1L, 'sunday': 1L, 'anthems': 1L, 'garagehe': 1L, 'nice': 2L, 'swing': 1L, 'produce': 1L, 'faithless': 1L, 'nelson': 4L, 'jamiroquai': 1L, 'english': 1L, 'kickin': 1L, 'agnes': 1L}, {'phenomenon': 1L, 'deborash': 1L, 'innovative': 1L, 'jay': 1L, 'cornell': 1L, 'writing': 1L, 'treatment': 1L, '2014': 1L, '2013': 1L, 'explorations': 1L, 'good': 1L, 'conversations': 1L, '1955': 1L, 'listening': 1L, 'press': 2L, 'university': 5L, 'truths': 1L, 'shoshana': 1L, 'ashes': 1L, 'roger': 1L, 'yale': 2L, 'felman': 1L, 'leaders': 1L, 'reference': 1L, 'catastrophic': 1L, 'born': 1L, 'taught': 1L, 'humane': 1L, 'forthcoming': 1L, 'conceptualizing': 1L, 'ways': 1L, 'coeditor': 1L, 'robert': 1L, 'critical': 2L, 'trauma': 6L, 'encounters': 1L, 'theory': 2L, 'unconscious': 1L, 'frank': 1L, 'harvard': 1L, 'twentieth': 1L, 'received': 1L, 'traumas': 1L, 'hopkins': 5L, 'rhodes': 1L, 'experience': 2L, 'cathy': 1L, '173182': 1L, 'fictions': 1L, 'letters': 1L, 'previously': 1L, 'johns': 5L, 'lifton': 1L, 'pp': 1L, 'emory': 1L, 'century': 1L, 'question': 1L, '1988': 1L, 'describes': 1L, 'call': 1L, 'editor': 1L, 'memory': 1L, 'mysterious': 1L, 'caruth': 1L, 'appointed': 1L, '1991': 1L, 'md': 1L, '1995': 2L, '1996': 1L, 'work': 1L, 'empirical': 1L, 'freud': 1L, 'rutgers': 1L, 'history': 2L, 'locke': 1L, 'esch': 1L, 'helped': 1L, 'comparative': 2L, 'deconstructive': 1L, 'kant': 1L, 'author': 1L, 'trials': 1L, 'discussion': 1L, 'wordsworth': 1L, 'caruths': 1L, 'build': 1L, 'department': 1L, 'luckhurst': 1L, 'literature': 3L, 'english': 1L, 'phd': 1L, 'unclaimed': 1L, 'scholars': 1L, 'professor': 1L, 'departments': 1L, '2002': 1L, 'perceiving': 1L, 'responsibility': 1L, 'narrative': 1L, 'juridical': 1L, 'n3': 1L}]"
      ]
     },
     "execution_count": 8,
     "metadata": {},
     "output_type": "execute_result"
    }
   ],
   "source": [
    "wiki_docs[0:10]"
   ]
  },
  {
   "cell_type": "code",
   "execution_count": 9,
   "metadata": {
    "collapsed": false,
    "scrolled": true
   },
   "outputs": [
    {
     "name": "stdout",
     "output_type": "stream",
     "text": [
      "\n",
      "        Filter an SArray of dictionary type by the given keys. By default, all\n",
      "        keys that are in the provided list in ``keys`` are *excluded* from the\n",
      "        returned SArray.\n",
      "\n",
      "        Parameters\n",
      "        ----------\n",
      "        keys : list\n",
      "            A collection of keys to trim down the elements in the SArray.\n",
      "\n",
      "        exclude : bool, optional\n",
      "            If True, all keys that are in the input key list are removed. If\n",
      "            False, only keys that are in the input key list are retained.\n",
      "\n",
      "        Returns\n",
      "        -------\n",
      "        out : SArray\n",
      "            A SArray of dictionary type, with each dictionary element trimmed\n",
      "            according to the input criteria.\n",
      "\n",
      "        See Also\n",
      "        --------\n",
      "        dict_trim_by_values\n",
      "\n",
      "        Examples\n",
      "        --------\n",
      "        >>> sa = graphlab.SArray([{\"this\":1, \"is\":1, \"dog\":2},\n",
      "                                  {\"this\": 2, \"are\": 2, \"cat\": 1}])\n",
      "        >>> sa.dict_trim_by_keys([\"this\", \"is\", \"and\", \"are\"], exclude=True)\n",
      "        dtype: dict\n",
      "        Rows: 2\n",
      "        [{'dog': 2}, {'cat': 1}]\n",
      "        \n"
     ]
    }
   ],
   "source": [
    "print wiki_docs.dict_trim_by_keys.__doc__"
   ]
  },
  {
   "cell_type": "markdown",
   "metadata": {},
   "source": [
    "## Model fitting and interpretation\n",
    "In the video lectures we saw that Gibbs sampling can be used to perform inference in the LDA model. In this assignment we will use a GraphLab Create method to learn the topic model for our Wikipedia data, and our main emphasis will be on interpreting the results. We'll begin by creating the topic model using create() from GraphLab Create's topic_model module.\n",
    "\n",
    "Note: This may take several minutes to run."
   ]
  },
  {
   "cell_type": "code",
   "execution_count": 42,
   "metadata": {
    "collapsed": false
   },
   "outputs": [
    {
     "name": "stdout",
     "output_type": "stream",
     "text": [
      "\n",
      "    Create a topic model from the given data set. A topic model assumes each\n",
      "    document is a mixture of a set of topics, where for each topic some words\n",
      "    are more likely than others. One statistical approach to do this is called a\n",
      "    \"topic model\". This method learns a topic model for the given document\n",
      "    collection.\n",
      "\n",
      "    Parameters\n",
      "    ----------\n",
      "    dataset : SArray of type dict or SFrame with a single column of type dict\n",
      "        A bag of words representation of a document corpus.\n",
      "        Each element is a dictionary representing a single document, where\n",
      "        the keys are words and the values are the number of times that word\n",
      "        occurs in that document.\n",
      "\n",
      "    num_topics : int, optional\n",
      "        The number of topics to learn.\n",
      "\n",
      "    initial_topics : SFrame, optional\n",
      "        An SFrame with a column of unique words representing the vocabulary\n",
      "        and a column of dense vectors representing\n",
      "        probability of that word given each topic. When provided,\n",
      "        these values are used to initialize the algorithm.\n",
      "\n",
      "    alpha : float, optional\n",
      "        Hyperparameter that controls the diversity of topics in a document.\n",
      "        Smaller values encourage fewer topics per document.\n",
      "        Provided value must be positive. Default value is 50/num_topics.\n",
      "\n",
      "    beta : float, optional\n",
      "        Hyperparameter that controls the diversity of words in a topic.\n",
      "        Smaller values encourage fewer words per topic. Provided value\n",
      "        must be positive.\n",
      "\n",
      "    num_iterations : int, optional\n",
      "        The number of iterations to perform.\n",
      "\n",
      "    num_burnin : int, optional\n",
      "        The number of iterations to perform when inferring the topics for\n",
      "        documents at prediction time.\n",
      "\n",
      "    verbose : bool, optional\n",
      "        When True, print most probable words for each topic while printing\n",
      "        progress.\n",
      "\n",
      "    print_interval : int, optional\n",
      "        The number of iterations to wait between progress reports.\n",
      "\n",
      "    associations : SFrame, optional\n",
      "        An SFrame with two columns named \"word\" and \"topic\" containing words\n",
      "        and the topic id that the word should be associated with. These words\n",
      "        are not considered during learning.\n",
      "\n",
      "    validation_set : SArray of type dict or SFrame with a single column\n",
      "        A bag of words representation of a document corpus, similar to the\n",
      "        format required for `dataset`. This will be used to monitor model\n",
      "        performance during training. Each document in the provided validation\n",
      "        set is randomly split: the first portion is used estimate which topic\n",
      "        each document belongs to, and the second portion is used to estimate\n",
      "        the model's performance at predicting the unseen words in the test data.\n",
      "\n",
      "    method : {'cgs', 'alias'}, optional\n",
      "        The algorithm used for learning the model.\n",
      "\n",
      "        - *cgs:* Collapsed Gibbs sampling\n",
      "        - *alias:* AliasLDA method.\n",
      "\n",
      "    Returns\n",
      "    -------\n",
      "    out : TopicModel\n",
      "        A fitted topic model. This can be used with\n",
      "        :py:func:`~TopicModel.get_topics()` and\n",
      "        :py:func:`~TopicModel.predict()`. While fitting is in progress, several\n",
      "        metrics are shown, including:\n",
      "\n",
      "        +------------------+---------------------------------------------------+\n",
      "        |      Field       | Description                                       |\n",
      "        +==================+===================================================+\n",
      "        | Elapsed Time     | The number of elapsed seconds.                    |\n",
      "        +------------------+---------------------------------------------------+\n",
      "        | Tokens/second    | The number of unique words processed per second   |\n",
      "        +------------------+---------------------------------------------------+\n",
      "        | Est. Perplexity  | An estimate of the model's ability to model the   |\n",
      "        |                  | training data. See the documentation on evaluate. |\n",
      "        +------------------+---------------------------------------------------+\n",
      "\n",
      "    See Also\n",
      "    --------\n",
      "    TopicModel, TopicModel.get_topics, TopicModel.predict,\n",
      "    graphlab.SArray.dict_trim_by_keys, TopicModel.evaluate\n",
      "\n",
      "    References\n",
      "    ----------\n",
      "    - `Wikipedia - Latent Dirichlet allocation\n",
      "      <http://en.wikipedia.org/wiki/Latent_Dirichlet_allocation>`_\n",
      "\n",
      "    - Alias method: Li, A. et al. (2014) `Reducing the Sampling Complexity of\n",
      "      Topic Models. <http://www.sravi.org/pubs/fastlda-kdd2014.pdf>`_.\n",
      "      KDD 2014.\n",
      "\n",
      "    Examples\n",
      "    --------\n",
      "    The following example includes an SArray of documents, where\n",
      "    each element represents a document in \"bag of words\" representation\n",
      "    -- a dictionary with word keys and whose values are the number of times\n",
      "    that word occurred in the document:\n",
      "\n",
      "    >>> docs = graphlab.SArray('http://s3.amazonaws.com/dato-datasets/nytimes')\n",
      "\n",
      "    Once in this form, it is straightforward to learn a topic model.\n",
      "\n",
      "    >>> m = graphlab.topic_model.create(docs)\n",
      "\n",
      "    It is also easy to create a new topic model from an old one  -- whether\n",
      "    it was created using GraphLab Create or another package.\n",
      "\n",
      "    >>> m2 = graphlab.topic_model.create(docs, initial_topics=m['topics'])\n",
      "\n",
      "    To manually fix several words to always be assigned to a topic, use\n",
      "    the `associations` argument. The following will ensure that topic 0\n",
      "    has the most probability for each of the provided words:\n",
      "\n",
      "    >>> from graphlab import SFrame\n",
      "    >>> associations = SFrame({'word':['hurricane', 'wind', 'storm'],\n",
      "                               'topic': [0, 0, 0]})\n",
      "    >>> m = graphlab.topic_model.create(docs,\n",
      "                                        associations=associations)\n",
      "\n",
      "    More advanced usage allows you  to control aspects of the model and the\n",
      "    learning method.\n",
      "\n",
      "    >>> import graphlab as gl\n",
      "    >>> m = gl.topic_model.create(docs,\n",
      "                                  num_topics=20,       # number of topics\n",
      "                                  num_iterations=10,   # algorithm parameters\n",
      "                                  alpha=.01, beta=.1)  # hyperparameters\n",
      "\n",
      "    To evaluate the model's ability to generalize, we can create a train/test\n",
      "    split where a portion of the words in each document are held out from\n",
      "    training.\n",
      "\n",
      "    >>> train, test = gl.text_analytics.random_split(.8)\n",
      "    >>> m = gl.topic_model.create(train)\n",
      "    >>> results = m.evaluate(test)\n",
      "    >>> print results['perplexity']\n",
      "\n",
      "    \n"
     ]
    }
   ],
   "source": [
    "print gl.topic_model.create.__doc__"
   ]
  },
  {
   "cell_type": "code",
   "execution_count": 5,
   "metadata": {
    "collapsed": false
   },
   "outputs": [
    {
     "data": {
      "text/html": [
       "<pre>Learning a topic model</pre>"
      ],
      "text/plain": [
       "Learning a topic model"
      ]
     },
     "metadata": {},
     "output_type": "display_data"
    },
    {
     "data": {
      "text/html": [
       "<pre>       Number of documents     59071</pre>"
      ],
      "text/plain": [
       "       Number of documents     59071"
      ]
     },
     "metadata": {},
     "output_type": "display_data"
    },
    {
     "data": {
      "text/html": [
       "<pre>           Vocabulary size    547462</pre>"
      ],
      "text/plain": [
       "           Vocabulary size    547462"
      ]
     },
     "metadata": {},
     "output_type": "display_data"
    },
    {
     "data": {
      "text/html": [
       "<pre>   Running collapsed Gibbs sampling</pre>"
      ],
      "text/plain": [
       "   Running collapsed Gibbs sampling"
      ]
     },
     "metadata": {},
     "output_type": "display_data"
    },
    {
     "data": {
      "text/html": [
       "<pre>+-----------+---------------+----------------+-----------------+</pre>"
      ],
      "text/plain": [
       "+-----------+---------------+----------------+-----------------+"
      ]
     },
     "metadata": {},
     "output_type": "display_data"
    },
    {
     "data": {
      "text/html": [
       "<pre>| Iteration | Elapsed Time  | Tokens/Second  | Est. Perplexity |</pre>"
      ],
      "text/plain": [
       "| Iteration | Elapsed Time  | Tokens/Second  | Est. Perplexity |"
      ]
     },
     "metadata": {},
     "output_type": "display_data"
    },
    {
     "data": {
      "text/html": [
       "<pre>+-----------+---------------+----------------+-----------------+</pre>"
      ],
      "text/plain": [
       "+-----------+---------------+----------------+-----------------+"
      ]
     },
     "metadata": {},
     "output_type": "display_data"
    },
    {
     "data": {
      "text/html": [
       "<pre>| 10        | 48.59s        | 2.3292e+006    | 0               |</pre>"
      ],
      "text/plain": [
       "| 10        | 48.59s        | 2.3292e+006    | 0               |"
      ]
     },
     "metadata": {},
     "output_type": "display_data"
    },
    {
     "data": {
      "text/html": [
       "<pre>| 20        | 1m 27s        | 3.02903e+006   | 0               |</pre>"
      ],
      "text/plain": [
       "| 20        | 1m 27s        | 3.02903e+006   | 0               |"
      ]
     },
     "metadata": {},
     "output_type": "display_data"
    },
    {
     "data": {
      "text/html": [
       "<pre>| 30        | 1m 56s        | 2.99921e+006   | 0               |</pre>"
      ],
      "text/plain": [
       "| 30        | 1m 56s        | 2.99921e+006   | 0               |"
      ]
     },
     "metadata": {},
     "output_type": "display_data"
    },
    {
     "data": {
      "text/html": [
       "<pre>| 40        | 2m 27s        | 3.12334e+006   | 0               |</pre>"
      ],
      "text/plain": [
       "| 40        | 2m 27s        | 3.12334e+006   | 0               |"
      ]
     },
     "metadata": {},
     "output_type": "display_data"
    },
    {
     "data": {
      "text/html": [
       "<pre>| 50        | 2m 56s        | 2.98791e+006   | 0               |</pre>"
      ],
      "text/plain": [
       "| 50        | 2m 56s        | 2.98791e+006   | 0               |"
      ]
     },
     "metadata": {},
     "output_type": "display_data"
    },
    {
     "data": {
      "text/html": [
       "<pre>| 60        | 3m 26s        | 3.01519e+006   | 0               |</pre>"
      ],
      "text/plain": [
       "| 60        | 3m 26s        | 3.01519e+006   | 0               |"
      ]
     },
     "metadata": {},
     "output_type": "display_data"
    },
    {
     "data": {
      "text/html": [
       "<pre>| 70        | 3m 56s        | 2.78521e+006   | 0               |</pre>"
      ],
      "text/plain": [
       "| 70        | 3m 56s        | 2.78521e+006   | 0               |"
      ]
     },
     "metadata": {},
     "output_type": "display_data"
    },
    {
     "data": {
      "text/html": [
       "<pre>| 80        | 4m 27s        | 2.51473e+006   | 0               |</pre>"
      ],
      "text/plain": [
       "| 80        | 4m 27s        | 2.51473e+006   | 0               |"
      ]
     },
     "metadata": {},
     "output_type": "display_data"
    },
    {
     "data": {
      "text/html": [
       "<pre>| 90        | 4m 57s        | 2.95118e+006   | 0               |</pre>"
      ],
      "text/plain": [
       "| 90        | 4m 57s        | 2.95118e+006   | 0               |"
      ]
     },
     "metadata": {},
     "output_type": "display_data"
    },
    {
     "data": {
      "text/html": [
       "<pre>| 100       | 5m 28s        | 3.12952e+006   | 0               |</pre>"
      ],
      "text/plain": [
       "| 100       | 5m 28s        | 3.12952e+006   | 0               |"
      ]
     },
     "metadata": {},
     "output_type": "display_data"
    },
    {
     "data": {
      "text/html": [
       "<pre>| 110       | 6m 2s         | 2.16264e+006   | 0               |</pre>"
      ],
      "text/plain": [
       "| 110       | 6m 2s         | 2.16264e+006   | 0               |"
      ]
     },
     "metadata": {},
     "output_type": "display_data"
    },
    {
     "data": {
      "text/html": [
       "<pre>| 120       | 6m 34s        | 2.25304e+006   | 0               |</pre>"
      ],
      "text/plain": [
       "| 120       | 6m 34s        | 2.25304e+006   | 0               |"
      ]
     },
     "metadata": {},
     "output_type": "display_data"
    },
    {
     "data": {
      "text/html": [
       "<pre>| 130       | 7m 4s         | 2.19926e+006   | 0               |</pre>"
      ],
      "text/plain": [
       "| 130       | 7m 4s         | 2.19926e+006   | 0               |"
      ]
     },
     "metadata": {},
     "output_type": "display_data"
    },
    {
     "data": {
      "text/html": [
       "<pre>| 140       | 7m 34s        | 2.22146e+006   | 0               |</pre>"
      ],
      "text/plain": [
       "| 140       | 7m 34s        | 2.22146e+006   | 0               |"
      ]
     },
     "metadata": {},
     "output_type": "display_data"
    },
    {
     "data": {
      "text/html": [
       "<pre>| 150       | 8m 3s         | 2.26398e+006   | 0               |</pre>"
      ],
      "text/plain": [
       "| 150       | 8m 3s         | 2.26398e+006   | 0               |"
      ]
     },
     "metadata": {},
     "output_type": "display_data"
    },
    {
     "data": {
      "text/html": [
       "<pre>| 160       | 8m 33s        | 2.23021e+006   | 0               |</pre>"
      ],
      "text/plain": [
       "| 160       | 8m 33s        | 2.23021e+006   | 0               |"
      ]
     },
     "metadata": {},
     "output_type": "display_data"
    },
    {
     "data": {
      "text/html": [
       "<pre>| 170       | 9m 2s         | 2.38314e+006   | 0               |</pre>"
      ],
      "text/plain": [
       "| 170       | 9m 2s         | 2.38314e+006   | 0               |"
      ]
     },
     "metadata": {},
     "output_type": "display_data"
    },
    {
     "data": {
      "text/html": [
       "<pre>| 180       | 9m 31s        | 2.76867e+006   | 0               |</pre>"
      ],
      "text/plain": [
       "| 180       | 9m 31s        | 2.76867e+006   | 0               |"
      ]
     },
     "metadata": {},
     "output_type": "display_data"
    },
    {
     "data": {
      "text/html": [
       "<pre>| 190       | 10m 1s        | 2.92829e+006   | 0               |</pre>"
      ],
      "text/plain": [
       "| 190       | 10m 1s        | 2.92829e+006   | 0               |"
      ]
     },
     "metadata": {},
     "output_type": "display_data"
    },
    {
     "data": {
      "text/html": [
       "<pre>| 200       | 10m 31s       | 2.83605e+006   | 0               |</pre>"
      ],
      "text/plain": [
       "| 200       | 10m 31s       | 2.83605e+006   | 0               |"
      ]
     },
     "metadata": {},
     "output_type": "display_data"
    },
    {
     "data": {
      "text/html": [
       "<pre>+-----------+---------------+----------------+-----------------+</pre>"
      ],
      "text/plain": [
       "+-----------+---------------+----------------+-----------------+"
      ]
     },
     "metadata": {},
     "output_type": "display_data"
    }
   ],
   "source": [
    "topic_model = gl.topic_model.create(wiki_docs, num_topics=10, num_iterations=200)"
   ]
  },
  {
   "cell_type": "markdown",
   "metadata": {},
   "source": [
    "GraphLab provides a useful summary of the model we have fitted, including the hyperparameter settings for alpha, gamma (note that GraphLab Create calls this parameter beta), and K (the number of topics); the structure of the output data; and some useful methods for understanding the results."
   ]
  },
  {
   "cell_type": "code",
   "execution_count": 6,
   "metadata": {
    "collapsed": false
   },
   "outputs": [
    {
     "data": {
      "text/plain": [
       "Class                         : TopicModel\n",
       "\n",
       "Schema\n",
       "------\n",
       "Vocabulary Size               : 547462\n",
       "\n",
       "Settings\n",
       "--------\n",
       "Number of Topics              : 10\n",
       "alpha                         : 5.0\n",
       "beta                          : 0.1\n",
       "Iterations                    : 200\n",
       "Training time                 : 632.2658\n",
       "Verbose                       : False\n",
       "\n",
       "Accessible fields             : \n",
       "m['topics']                   : An SFrame containing the topics.\n",
       "m['vocabulary']               : An SArray containing the words in the vocabulary.\n",
       "Useful methods                : \n",
       "m.get_topics()                : Get the most probable words per topic.\n",
       "m.predict(new_docs)           : Make predictions for new documents."
      ]
     },
     "execution_count": 6,
     "metadata": {},
     "output_type": "execute_result"
    }
   ],
   "source": [
    "topic_model"
   ]
  },
  {
   "cell_type": "code",
   "execution_count": 7,
   "metadata": {
    "collapsed": false
   },
   "outputs": [
    {
     "data": {
      "text/html": [
       "<div style=\"max-height:1000px;max-width:1500px;overflow:auto;\"><table frame=\"box\" rules=\"cols\">\n",
       "    <tr>\n",
       "        <th style=\"padding-left: 1em; padding-right: 1em; text-align: center\">topic_probabilities</th>\n",
       "        <th style=\"padding-left: 1em; padding-right: 1em; text-align: center\">vocabulary</th>\n",
       "    </tr>\n",
       "    <tr>\n",
       "        <td style=\"padding-left: 1em; padding-right: 1em; text-align: center; vertical-align: top\">[9.81811741134e-08,<br>9.1759854917e-08, ...</td>\n",
       "        <td style=\"padding-left: 1em; padding-right: 1em; text-align: center; vertical-align: top\">melbourne</td>\n",
       "    </tr>\n",
       "    <tr>\n",
       "        <td style=\"padding-left: 1em; padding-right: 1em; text-align: center; vertical-align: top\">[5.40978269365e-05,<br>9.1759854917e-08, ...</td>\n",
       "        <td style=\"padding-left: 1em; padding-right: 1em; text-align: center; vertical-align: top\">parade</td>\n",
       "    </tr>\n",
       "    <tr>\n",
       "        <td style=\"padding-left: 1em; padding-right: 1em; text-align: center; vertical-align: top\">[9.81811741134e-08,<br>0.00169306108307, ...</td>\n",
       "        <td style=\"padding-left: 1em; padding-right: 1em; text-align: center; vertical-align: top\">education</td>\n",
       "    </tr>\n",
       "    <tr>\n",
       "        <td style=\"padding-left: 1em; padding-right: 1em; text-align: center; vertical-align: top\">[0.000141479071897,<br>2.84455550243e-06, ...</td>\n",
       "        <td style=\"padding-left: 1em; padding-right: 1em; text-align: center; vertical-align: top\">physical</td>\n",
       "    </tr>\n",
       "    <tr>\n",
       "        <td style=\"padding-left: 1em; padding-right: 1em; text-align: center; vertical-align: top\">[9.81811741134e-08,<br>0.000310240069474, ...</td>\n",
       "        <td style=\"padding-left: 1em; padding-right: 1em; text-align: center; vertical-align: top\">teaches</td>\n",
       "    </tr>\n",
       "    <tr>\n",
       "        <td style=\"padding-left: 1em; padding-right: 1em; text-align: center; vertical-align: top\">[9.81811741134e-08,<br>9.1759854917e-08, ...</td>\n",
       "        <td style=\"padding-left: 1em; padding-right: 1em; text-align: center; vertical-align: top\">coburg</td>\n",
       "    </tr>\n",
       "    <tr>\n",
       "        <td style=\"padding-left: 1em; padding-right: 1em; text-align: center; vertical-align: top\">[0.000340786855348,<br>9.1759854917e-08, ...</td>\n",
       "        <td style=\"padding-left: 1em; padding-right: 1em; text-align: center; vertical-align: top\">2014</td>\n",
       "    </tr>\n",
       "    <tr>\n",
       "        <td style=\"padding-left: 1em; padding-right: 1em; text-align: center; vertical-align: top\">[9.81811741134e-08,<br>9.1759854917e-08, ...</td>\n",
       "        <td style=\"padding-left: 1em; padding-right: 1em; text-align: center; vertical-align: top\">premiership</td>\n",
       "    </tr>\n",
       "    <tr>\n",
       "        <td style=\"padding-left: 1em; padding-right: 1em; text-align: center; vertical-align: top\">[0.0012037993758,<br>0.00120306345782, ...</td>\n",
       "        <td style=\"padding-left: 1em; padding-right: 1em; text-align: center; vertical-align: top\">division</td>\n",
       "    </tr>\n",
       "    <tr>\n",
       "        <td style=\"padding-left: 1em; padding-right: 1em; text-align: center; vertical-align: top\">[0.000688348211709,<br>2.02789279367e-05, ...</td>\n",
       "        <td style=\"padding-left: 1em; padding-right: 1em; text-align: center; vertical-align: top\">2011</td>\n",
       "    </tr>\n",
       "</table>\n",
       "[547462 rows x 2 columns]<br/>Note: Only the head of the SFrame is printed.<br/>You can use print_rows(num_rows=m, num_columns=n) to print more rows and columns.\n",
       "</div>"
      ],
      "text/plain": [
       "Columns:\n",
       "\ttopic_probabilities\tarray\n",
       "\tvocabulary\tstr\n",
       "\n",
       "Rows: 547462\n",
       "\n",
       "Data:\n",
       "+-------------------------------+-------------+\n",
       "|      topic_probabilities      |  vocabulary |\n",
       "+-------------------------------+-------------+\n",
       "| [9.81811741134e-08, 9.1759... |  melbourne  |\n",
       "| [5.40978269365e-05, 9.1759... |    parade   |\n",
       "| [9.81811741134e-08, 0.0016... |  education  |\n",
       "| [0.000141479071897, 2.8445... |   physical  |\n",
       "| [9.81811741134e-08, 0.0003... |   teaches   |\n",
       "| [9.81811741134e-08, 9.1759... |    coburg   |\n",
       "| [0.000340786855348, 9.1759... |     2014    |\n",
       "| [9.81811741134e-08, 9.1759... | premiership |\n",
       "| [0.0012037993758, 0.001203... |   division  |\n",
       "| [0.000688348211709, 2.0278... |     2011    |\n",
       "+-------------------------------+-------------+\n",
       "[547462 rows x 2 columns]\n",
       "Note: Only the head of the SFrame is printed.\n",
       "You can use print_rows(num_rows=m, num_columns=n) to print more rows and columns."
      ]
     },
     "execution_count": 7,
     "metadata": {},
     "output_type": "execute_result"
    }
   ],
   "source": [
    "topic_model['topics']"
   ]
  },
  {
   "cell_type": "code",
   "execution_count": 8,
   "metadata": {
    "collapsed": false
   },
   "outputs": [
    {
     "data": {
      "text/html": [
       "<div style=\"max-height:1000px;max-width:1500px;overflow:auto;\"><table frame=\"box\" rules=\"cols\">\n",
       "    <tr>\n",
       "        <th style=\"padding-left: 1em; padding-right: 1em; text-align: center\">topic</th>\n",
       "        <th style=\"padding-left: 1em; padding-right: 1em; text-align: center\">word</th>\n",
       "        <th style=\"padding-left: 1em; padding-right: 1em; text-align: center\">score</th>\n",
       "    </tr>\n",
       "    <tr>\n",
       "        <td style=\"padding-left: 1em; padding-right: 1em; text-align: center; vertical-align: top\">0</td>\n",
       "        <td style=\"padding-left: 1em; padding-right: 1em; text-align: center; vertical-align: top\">league</td>\n",
       "        <td style=\"padding-left: 1em; padding-right: 1em; text-align: center; vertical-align: top\">0.0129865220812</td>\n",
       "    </tr>\n",
       "    <tr>\n",
       "        <td style=\"padding-left: 1em; padding-right: 1em; text-align: center; vertical-align: top\">0</td>\n",
       "        <td style=\"padding-left: 1em; padding-right: 1em; text-align: center; vertical-align: top\">season</td>\n",
       "        <td style=\"padding-left: 1em; padding-right: 1em; text-align: center; vertical-align: top\">0.0124641982349</td>\n",
       "    </tr>\n",
       "    <tr>\n",
       "        <td style=\"padding-left: 1em; padding-right: 1em; text-align: center; vertical-align: top\">0</td>\n",
       "        <td style=\"padding-left: 1em; padding-right: 1em; text-align: center; vertical-align: top\">played</td>\n",
       "        <td style=\"padding-left: 1em; padding-right: 1em; text-align: center; vertical-align: top\">0.0119458016356</td>\n",
       "    </tr>\n",
       "    <tr>\n",
       "        <td style=\"padding-left: 1em; padding-right: 1em; text-align: center; vertical-align: top\">0</td>\n",
       "        <td style=\"padding-left: 1em; padding-right: 1em; text-align: center; vertical-align: top\">career</td>\n",
       "        <td style=\"padding-left: 1em; padding-right: 1em; text-align: center; vertical-align: top\">0.0112997695099</td>\n",
       "    </tr>\n",
       "    <tr>\n",
       "        <td style=\"padding-left: 1em; padding-right: 1em; text-align: center; vertical-align: top\">0</td>\n",
       "        <td style=\"padding-left: 1em; padding-right: 1em; text-align: center; vertical-align: top\">games</td>\n",
       "        <td style=\"padding-left: 1em; padding-right: 1em; text-align: center; vertical-align: top\">0.00878240420562</td>\n",
       "    </tr>\n",
       "    <tr>\n",
       "        <td style=\"padding-left: 1em; padding-right: 1em; text-align: center; vertical-align: top\">1</td>\n",
       "        <td style=\"padding-left: 1em; padding-right: 1em; text-align: center; vertical-align: top\">university</td>\n",
       "        <td style=\"padding-left: 1em; padding-right: 1em; text-align: center; vertical-align: top\">0.021259014947</td>\n",
       "    </tr>\n",
       "    <tr>\n",
       "        <td style=\"padding-left: 1em; padding-right: 1em; text-align: center; vertical-align: top\">1</td>\n",
       "        <td style=\"padding-left: 1em; padding-right: 1em; text-align: center; vertical-align: top\">school</td>\n",
       "        <td style=\"padding-left: 1em; padding-right: 1em; text-align: center; vertical-align: top\">0.0192549797156</td>\n",
       "    </tr>\n",
       "    <tr>\n",
       "        <td style=\"padding-left: 1em; padding-right: 1em; text-align: center; vertical-align: top\">1</td>\n",
       "        <td style=\"padding-left: 1em; padding-right: 1em; text-align: center; vertical-align: top\">american</td>\n",
       "        <td style=\"padding-left: 1em; padding-right: 1em; text-align: center; vertical-align: top\">0.011843536234</td>\n",
       "    </tr>\n",
       "    <tr>\n",
       "        <td style=\"padding-left: 1em; padding-right: 1em; text-align: center; vertical-align: top\">1</td>\n",
       "        <td style=\"padding-left: 1em; padding-right: 1em; text-align: center; vertical-align: top\">college</td>\n",
       "        <td style=\"padding-left: 1em; padding-right: 1em; text-align: center; vertical-align: top\">0.011591196633</td>\n",
       "    </tr>\n",
       "    <tr>\n",
       "        <td style=\"padding-left: 1em; padding-right: 1em; text-align: center; vertical-align: top\">1</td>\n",
       "        <td style=\"padding-left: 1em; padding-right: 1em; text-align: center; vertical-align: top\">states</td>\n",
       "        <td style=\"padding-left: 1em; padding-right: 1em; text-align: center; vertical-align: top\">0.0107570995518</td>\n",
       "    </tr>\n",
       "</table>\n",
       "[50 rows x 3 columns]<br/>Note: Only the head of the SFrame is printed.<br/>You can use print_rows(num_rows=m, num_columns=n) to print more rows and columns.\n",
       "</div>"
      ],
      "text/plain": [
       "Columns:\n",
       "\ttopic\tint\n",
       "\tword\tstr\n",
       "\tscore\tfloat\n",
       "\n",
       "Rows: 50\n",
       "\n",
       "Data:\n",
       "+-------+------------+------------------+\n",
       "| topic |    word    |      score       |\n",
       "+-------+------------+------------------+\n",
       "|   0   |   league   | 0.0129865220812  |\n",
       "|   0   |   season   | 0.0124641982349  |\n",
       "|   0   |   played   | 0.0119458016356  |\n",
       "|   0   |   career   | 0.0112997695099  |\n",
       "|   0   |   games    | 0.00878240420562 |\n",
       "|   1   | university |  0.021259014947  |\n",
       "|   1   |   school   | 0.0192549797156  |\n",
       "|   1   |  american  |  0.011843536234  |\n",
       "|   1   |  college   |  0.011591196633  |\n",
       "|   1   |   states   | 0.0107570995518  |\n",
       "+-------+------------+------------------+\n",
       "[50 rows x 3 columns]\n",
       "Note: Only the head of the SFrame is printed.\n",
       "You can use print_rows(num_rows=m, num_columns=n) to print more rows and columns."
      ]
     },
     "execution_count": 8,
     "metadata": {},
     "output_type": "execute_result"
    }
   ],
   "source": [
    "topic_model.get_topics()"
   ]
  },
  {
   "cell_type": "markdown",
   "metadata": {},
   "source": [
    "It is certainly useful to have pre-implemented methods available for LDA, but as with our previous methods for clustering and retrieval, implementing and fitting the model gets us only halfway towards our objective. We now need to analyze the fitted model to understand what it has done with our data and whether it will be useful as a document classification system. This can be a challenging task in itself, particularly when the model that we use is complex. We will begin by outlining a sequence of objectives that will help us understand our model in detail. In particular, we will\n",
    "\n",
    "* get the top words in each topic and use these to identify topic themes\n",
    "* predict topic distributions for some example documents\n",
    "* compare the quality of LDA \"nearest neighbors\" to the NN output from the first assignment\n",
    "* understand the role of model hyperparameters alpha and gamma"
   ]
  },
  {
   "cell_type": "markdown",
   "metadata": {},
   "source": [
    "## Load a fitted topic model\n",
    "The method used to fit the LDA model is a _randomized algorithm_, which means that it involves steps that are random; in this case, the randomness comes from Gibbs sampling, as discussed in the LDA video lectures. Because of these random steps, the algorithm will be expected to yield slighty different output for different runs on the same data - note that this is different from previously seen algorithms such as k-means or EM, which will always produce the same results given the same input and initialization.\n",
    "\n",
    "It is important to understand that variation in the results is a fundamental feature of randomized methods. However, in the context of this assignment this variation makes it difficult to evaluate the correctness of your analysis, so we will load and analyze a pre-trained model. \n",
    "\n",
    "We recommend that you spend some time exploring your own fitted topic model and compare our analysis of the pre-trained model to the same analysis applied to the model you trained above."
   ]
  },
  {
   "cell_type": "code",
   "execution_count": 5,
   "metadata": {
    "collapsed": false
   },
   "outputs": [
    {
     "name": "stdout",
     "output_type": "stream",
     "text": [
      "C:\\Users\\Rolex James\\Documents\\MOOCs\\ML Univ of Washington\\Clustering & Retrieval\\Resources\\Week 5\n"
     ]
    }
   ],
   "source": [
    "%cd 'C:\\Users\\Rolex James\\Documents\\MOOCs\\ML Univ of Washington\\Clustering & Retrieval\\Resources\\Week 5'"
   ]
  },
  {
   "cell_type": "code",
   "execution_count": 6,
   "metadata": {
    "collapsed": false,
    "scrolled": true
   },
   "outputs": [],
   "source": [
    "loaded_topic_model = gl.load_model('lda_assignment_topic_model')"
   ]
  },
  {
   "cell_type": "markdown",
   "metadata": {},
   "source": [
    "# Identifying topic themes by top words\n",
    "\n",
    "We'll start by trying to identify the topics learned by our model with some major themes. As a preliminary check on the results of applying this method, it is reasonable to hope that the model has been able to learn topics that correspond to recognizable categories. In order to do this, we must first recall what exactly a 'topic' is in the context of LDA. \n",
    "\n",
    "In the video lectures on LDA we learned that a topic is a probability distribution over words in the vocabulary; that is, each topic assigns a particular probability to every one of the unique words that appears in our data. Different topics will assign different probabilities to the same word: for instance, a topic that ends up describing science and technology articles might place more probability on the word 'university' than a topic that describes sports or politics. Looking at the highest probability words in each topic will thus give us a sense of its major themes. Ideally we would find that each topic is identifiable with some clear theme _and_ that all the topics are relatively distinct.\n",
    "\n",
    "We can use the GraphLab Create function get_topics() to view the top words (along with their associated probabilities) from each topic.\n",
    "\n",
    "__Quiz Question:__ Identify the top 3 most probable words for the first topic. "
   ]
  },
  {
   "cell_type": "code",
   "execution_count": 11,
   "metadata": {
    "collapsed": false
   },
   "outputs": [
    {
     "data": {
      "text/html": [
       "<div style=\"max-height:1000px;max-width:1500px;overflow:auto;\"><table frame=\"box\" rules=\"cols\">\n",
       "    <tr>\n",
       "        <th style=\"padding-left: 1em; padding-right: 1em; text-align: center\">topic</th>\n",
       "        <th style=\"padding-left: 1em; padding-right: 1em; text-align: center\">word</th>\n",
       "        <th style=\"padding-left: 1em; padding-right: 1em; text-align: center\">score</th>\n",
       "    </tr>\n",
       "    <tr>\n",
       "        <td style=\"padding-left: 1em; padding-right: 1em; text-align: center; vertical-align: top\">0</td>\n",
       "        <td style=\"padding-left: 1em; padding-right: 1em; text-align: center; vertical-align: top\">university</td>\n",
       "        <td style=\"padding-left: 1em; padding-right: 1em; text-align: center; vertical-align: top\">0.0337723780773</td>\n",
       "    </tr>\n",
       "    <tr>\n",
       "        <td style=\"padding-left: 1em; padding-right: 1em; text-align: center; vertical-align: top\">0</td>\n",
       "        <td style=\"padding-left: 1em; padding-right: 1em; text-align: center; vertical-align: top\">research</td>\n",
       "        <td style=\"padding-left: 1em; padding-right: 1em; text-align: center; vertical-align: top\">0.0120334992502</td>\n",
       "    </tr>\n",
       "    <tr>\n",
       "        <td style=\"padding-left: 1em; padding-right: 1em; text-align: center; vertical-align: top\">0</td>\n",
       "        <td style=\"padding-left: 1em; padding-right: 1em; text-align: center; vertical-align: top\">professor</td>\n",
       "        <td style=\"padding-left: 1em; padding-right: 1em; text-align: center; vertical-align: top\">0.0118011432268</td>\n",
       "    </tr>\n",
       "    <tr>\n",
       "        <td style=\"padding-left: 1em; padding-right: 1em; text-align: center; vertical-align: top\">0</td>\n",
       "        <td style=\"padding-left: 1em; padding-right: 1em; text-align: center; vertical-align: top\">international</td>\n",
       "        <td style=\"padding-left: 1em; padding-right: 1em; text-align: center; vertical-align: top\">0.00881383389898</td>\n",
       "    </tr>\n",
       "    <tr>\n",
       "        <td style=\"padding-left: 1em; padding-right: 1em; text-align: center; vertical-align: top\">0</td>\n",
       "        <td style=\"padding-left: 1em; padding-right: 1em; text-align: center; vertical-align: top\">institute</td>\n",
       "        <td style=\"padding-left: 1em; padding-right: 1em; text-align: center; vertical-align: top\">0.00851045584573</td>\n",
       "    </tr>\n",
       "    <tr>\n",
       "        <td style=\"padding-left: 1em; padding-right: 1em; text-align: center; vertical-align: top\">1</td>\n",
       "        <td style=\"padding-left: 1em; padding-right: 1em; text-align: center; vertical-align: top\">played</td>\n",
       "        <td style=\"padding-left: 1em; padding-right: 1em; text-align: center; vertical-align: top\">0.0189511138484</td>\n",
       "    </tr>\n",
       "    <tr>\n",
       "        <td style=\"padding-left: 1em; padding-right: 1em; text-align: center; vertical-align: top\">1</td>\n",
       "        <td style=\"padding-left: 1em; padding-right: 1em; text-align: center; vertical-align: top\">season</td>\n",
       "        <td style=\"padding-left: 1em; padding-right: 1em; text-align: center; vertical-align: top\">0.0180754216578</td>\n",
       "    </tr>\n",
       "    <tr>\n",
       "        <td style=\"padding-left: 1em; padding-right: 1em; text-align: center; vertical-align: top\">1</td>\n",
       "        <td style=\"padding-left: 1em; padding-right: 1em; text-align: center; vertical-align: top\">league</td>\n",
       "        <td style=\"padding-left: 1em; padding-right: 1em; text-align: center; vertical-align: top\">0.017415688373</td>\n",
       "    </tr>\n",
       "    <tr>\n",
       "        <td style=\"padding-left: 1em; padding-right: 1em; text-align: center; vertical-align: top\">1</td>\n",
       "        <td style=\"padding-left: 1em; padding-right: 1em; text-align: center; vertical-align: top\">team</td>\n",
       "        <td style=\"padding-left: 1em; padding-right: 1em; text-align: center; vertical-align: top\">0.0125104570691</td>\n",
       "    </tr>\n",
       "    <tr>\n",
       "        <td style=\"padding-left: 1em; padding-right: 1em; text-align: center; vertical-align: top\">1</td>\n",
       "        <td style=\"padding-left: 1em; padding-right: 1em; text-align: center; vertical-align: top\">career</td>\n",
       "        <td style=\"padding-left: 1em; padding-right: 1em; text-align: center; vertical-align: top\">0.0108564659198</td>\n",
       "    </tr>\n",
       "</table>\n",
       "[50 rows x 3 columns]<br/>Note: Only the head of the SFrame is printed.<br/>You can use print_rows(num_rows=m, num_columns=n) to print more rows and columns.\n",
       "</div>"
      ],
      "text/plain": [
       "Columns:\n",
       "\ttopic\tint\n",
       "\tword\tstr\n",
       "\tscore\tfloat\n",
       "\n",
       "Rows: 50\n",
       "\n",
       "Data:\n",
       "+-------+---------------+------------------+\n",
       "| topic |      word     |      score       |\n",
       "+-------+---------------+------------------+\n",
       "|   0   |   university  | 0.0337723780773  |\n",
       "|   0   |    research   | 0.0120334992502  |\n",
       "|   0   |   professor   | 0.0118011432268  |\n",
       "|   0   | international | 0.00881383389898 |\n",
       "|   0   |   institute   | 0.00851045584573 |\n",
       "|   1   |     played    | 0.0189511138484  |\n",
       "|   1   |     season    | 0.0180754216578  |\n",
       "|   1   |     league    |  0.017415688373  |\n",
       "|   1   |      team     | 0.0125104570691  |\n",
       "|   1   |     career    | 0.0108564659198  |\n",
       "+-------+---------------+------------------+\n",
       "[50 rows x 3 columns]\n",
       "Note: Only the head of the SFrame is printed.\n",
       "You can use print_rows(num_rows=m, num_columns=n) to print more rows and columns."
      ]
     },
     "execution_count": 11,
     "metadata": {},
     "output_type": "execute_result"
    }
   ],
   "source": [
    "loaded_topic_model.get_topics()"
   ]
  },
  {
   "cell_type": "markdown",
   "metadata": {},
   "source": [
    "__ Quiz Question:__ What is the sum of the probabilities assigned to the top 50 words in the 3rd topic?"
   ]
  },
  {
   "cell_type": "code",
   "execution_count": 21,
   "metadata": {
    "collapsed": false
   },
   "outputs": [
    {
     "name": "stdout",
     "output_type": "stream",
     "text": [
      "\n",
      "        Get the words associated with a given topic. The score column is the\n",
      "        probability of choosing that word given that you have chosen a\n",
      "        particular topic.\n",
      "\n",
      "        Parameters\n",
      "        ----------\n",
      "        topic_ids : list of int, optional\n",
      "            The topics to retrieve words. Topic ids are zero-based.\n",
      "            Throws an error if greater than or equal to m['num_topics'], or\n",
      "            if the requested topic name is not present.\n",
      "\n",
      "        num_words : int, optional\n",
      "            The number of words to show.\n",
      "\n",
      "        cdf_cutoff : float, optional\n",
      "            Allows one to only show the most probable words whose cumulative\n",
      "            probability is below this cutoff. For example if there exist\n",
      "            three words where\n",
      "\n",
      "            .. math::\n",
      "               p(word_1 | topic_k) = .1\n",
      "\n",
      "               p(word_2 | topic_k) = .2\n",
      "\n",
      "               p(word_3 | topic_k) = .05\n",
      "\n",
      "            then setting :math:`cdf_{cutoff}=.3` would return only\n",
      "            :math:`word_1` and :math:`word_2` since\n",
      "            :math:`p(word_1 | topic_k) + p(word_2 | topic_k) <= cdf_{cutoff}`\n",
      "\n",
      "        output_type : {'topic_probabilities' | 'topic_words'}, optional\n",
      "            Determine the type of desired output. See below.\n",
      "\n",
      "        Returns\n",
      "        -------\n",
      "        out : SFrame\n",
      "            If output_type is 'topic_probabilities', then the returned value is\n",
      "            an SFrame with a column of words ranked by a column of scores for\n",
      "            each topic. Otherwise, the returned value is a SArray where\n",
      "            each element is a list of the most probable words for each topic.\n",
      "\n",
      "        Examples\n",
      "        --------\n",
      "        Get the highest ranked words for all topics.\n",
      "\n",
      "        >>> docs = graphlab.SArray('http://s3.amazonaws.com/dato-datasets/nips-text')\n",
      "        >>> m = graphlab.topic_model.create(docs,\n",
      "                                            num_iterations=50)\n",
      "        >>> m.get_topics()\n",
      "        +-------+----------+-----------------+\n",
      "        | topic |   word   |      score      |\n",
      "        +-------+----------+-----------------+\n",
      "        |   0   |   cell   |  0.028974400831 |\n",
      "        |   0   |  input   | 0.0259470208503 |\n",
      "        |   0   |  image   | 0.0215721599763 |\n",
      "        |   0   |  visual  | 0.0173635081992 |\n",
      "        |   0   |  object  | 0.0172447874156 |\n",
      "        |   1   | function | 0.0482834508265 |\n",
      "        |   1   |  input   | 0.0456270024091 |\n",
      "        |   1   |  point   | 0.0302662839454 |\n",
      "        |   1   |  result  | 0.0239474934631 |\n",
      "        |   1   | problem  | 0.0231750116011 |\n",
      "        |  ...  |   ...    |       ...       |\n",
      "        +-------+----------+-----------------+\n",
      "\n",
      "        Get the highest ranked words for topics 0 and 1 and show 15 words per\n",
      "        topic.\n",
      "\n",
      "        >>> m.get_topics([0, 1], num_words=15)\n",
      "        +-------+----------+------------------+\n",
      "        | topic |   word   |      score       |\n",
      "        +-------+----------+------------------+\n",
      "        |   0   |   cell   |  0.028974400831  |\n",
      "        |   0   |  input   | 0.0259470208503  |\n",
      "        |   0   |  image   | 0.0215721599763  |\n",
      "        |   0   |  visual  | 0.0173635081992  |\n",
      "        |   0   |  object  | 0.0172447874156  |\n",
      "        |   0   | response | 0.0139740298286  |\n",
      "        |   0   |  layer   | 0.0122585145062  |\n",
      "        |   0   | features | 0.0115343177265  |\n",
      "        |   0   | feature  | 0.0103530459301  |\n",
      "        |   0   | spatial  | 0.00823387994361 |\n",
      "        |  ...  |   ...    |       ...        |\n",
      "        +-------+----------+------------------+\n",
      "\n",
      "        If one wants to instead just get the top words per topic, one may\n",
      "        change the format of the output as follows.\n",
      "\n",
      "        >>> topics = m.get_topics(output_type='topic_words')\n",
      "        dtype: list\n",
      "        Rows: 10\n",
      "        [['cell', 'image', 'input', 'object', 'visual'],\n",
      "         ['algorithm', 'data', 'learning', 'method', 'set'],\n",
      "         ['function', 'input', 'point', 'problem', 'result'],\n",
      "         ['model', 'output', 'pattern', 'set', 'unit'],\n",
      "         ['action', 'learning', 'net', 'problem', 'system'],\n",
      "         ['error', 'function', 'network', 'parameter', 'weight'],\n",
      "         ['information', 'level', 'neural', 'threshold', 'weight'],\n",
      "         ['control', 'field', 'model', 'network', 'neuron'],\n",
      "         ['hidden', 'layer', 'system', 'training', 'vector'],\n",
      "         ['component', 'distribution', 'local', 'model', 'optimal']]\n",
      "        \n"
     ]
    }
   ],
   "source": [
    "print topic_model.get_topics.__doc__"
   ]
  },
  {
   "cell_type": "code",
   "execution_count": 12,
   "metadata": {
    "collapsed": false
   },
   "outputs": [],
   "source": [
    "topic_2_words = loaded_topic_model.get_topics(topic_ids=[2], num_words=50)"
   ]
  },
  {
   "cell_type": "code",
   "execution_count": 13,
   "metadata": {
    "collapsed": false
   },
   "outputs": [
    {
     "data": {
      "text/html": [
       "<div style=\"max-height:1000px;max-width:1500px;overflow:auto;\"><table frame=\"box\" rules=\"cols\">\n",
       "    <tr>\n",
       "        <th style=\"padding-left: 1em; padding-right: 1em; text-align: center\">topic</th>\n",
       "        <th style=\"padding-left: 1em; padding-right: 1em; text-align: center\">word</th>\n",
       "        <th style=\"padding-left: 1em; padding-right: 1em; text-align: center\">score</th>\n",
       "    </tr>\n",
       "    <tr>\n",
       "        <td style=\"padding-left: 1em; padding-right: 1em; text-align: center; vertical-align: top\">2</td>\n",
       "        <td style=\"padding-left: 1em; padding-right: 1em; text-align: center; vertical-align: top\">film</td>\n",
       "        <td style=\"padding-left: 1em; padding-right: 1em; text-align: center; vertical-align: top\">0.0161482004927</td>\n",
       "    </tr>\n",
       "    <tr>\n",
       "        <td style=\"padding-left: 1em; padding-right: 1em; text-align: center; vertical-align: top\">2</td>\n",
       "        <td style=\"padding-left: 1em; padding-right: 1em; text-align: center; vertical-align: top\">music</td>\n",
       "        <td style=\"padding-left: 1em; padding-right: 1em; text-align: center; vertical-align: top\">0.0114820618908</td>\n",
       "    </tr>\n",
       "    <tr>\n",
       "        <td style=\"padding-left: 1em; padding-right: 1em; text-align: center; vertical-align: top\">2</td>\n",
       "        <td style=\"padding-left: 1em; padding-right: 1em; text-align: center; vertical-align: top\">album</td>\n",
       "        <td style=\"padding-left: 1em; padding-right: 1em; text-align: center; vertical-align: top\">0.00996964339687</td>\n",
       "    </tr>\n",
       "    <tr>\n",
       "        <td style=\"padding-left: 1em; padding-right: 1em; text-align: center; vertical-align: top\">2</td>\n",
       "        <td style=\"padding-left: 1em; padding-right: 1em; text-align: center; vertical-align: top\">released</td>\n",
       "        <td style=\"padding-left: 1em; padding-right: 1em; text-align: center; vertical-align: top\">0.00890297536304</td>\n",
       "    </tr>\n",
       "    <tr>\n",
       "        <td style=\"padding-left: 1em; padding-right: 1em; text-align: center; vertical-align: top\">2</td>\n",
       "        <td style=\"padding-left: 1em; padding-right: 1em; text-align: center; vertical-align: top\">band</td>\n",
       "        <td style=\"padding-left: 1em; padding-right: 1em; text-align: center; vertical-align: top\">0.00790751347298</td>\n",
       "    </tr>\n",
       "    <tr>\n",
       "        <td style=\"padding-left: 1em; padding-right: 1em; text-align: center; vertical-align: top\">2</td>\n",
       "        <td style=\"padding-left: 1em; padding-right: 1em; text-align: center; vertical-align: top\">television</td>\n",
       "        <td style=\"padding-left: 1em; padding-right: 1em; text-align: center; vertical-align: top\">0.00688570530973</td>\n",
       "    </tr>\n",
       "    <tr>\n",
       "        <td style=\"padding-left: 1em; padding-right: 1em; text-align: center; vertical-align: top\">2</td>\n",
       "        <td style=\"padding-left: 1em; padding-right: 1em; text-align: center; vertical-align: top\">series</td>\n",
       "        <td style=\"padding-left: 1em; padding-right: 1em; text-align: center; vertical-align: top\">0.00616153882748</td>\n",
       "    </tr>\n",
       "    <tr>\n",
       "        <td style=\"padding-left: 1em; padding-right: 1em; text-align: center; vertical-align: top\">2</td>\n",
       "        <td style=\"padding-left: 1em; padding-right: 1em; text-align: center; vertical-align: top\">show</td>\n",
       "        <td style=\"padding-left: 1em; padding-right: 1em; text-align: center; vertical-align: top\">0.00570581950729</td>\n",
       "    </tr>\n",
       "    <tr>\n",
       "        <td style=\"padding-left: 1em; padding-right: 1em; text-align: center; vertical-align: top\">2</td>\n",
       "        <td style=\"padding-left: 1em; padding-right: 1em; text-align: center; vertical-align: top\">award</td>\n",
       "        <td style=\"padding-left: 1em; padding-right: 1em; text-align: center; vertical-align: top\">0.00500159074529</td>\n",
       "    </tr>\n",
       "    <tr>\n",
       "        <td style=\"padding-left: 1em; padding-right: 1em; text-align: center; vertical-align: top\">2</td>\n",
       "        <td style=\"padding-left: 1em; padding-right: 1em; text-align: center; vertical-align: top\">appeared</td>\n",
       "        <td style=\"padding-left: 1em; padding-right: 1em; text-align: center; vertical-align: top\">0.00492611223289</td>\n",
       "    </tr>\n",
       "</table>\n",
       "[50 rows x 3 columns]<br/>Note: Only the head of the SFrame is printed.<br/>You can use print_rows(num_rows=m, num_columns=n) to print more rows and columns.\n",
       "</div>"
      ],
      "text/plain": [
       "Columns:\n",
       "\ttopic\tint\n",
       "\tword\tstr\n",
       "\tscore\tfloat\n",
       "\n",
       "Rows: 50\n",
       "\n",
       "Data:\n",
       "+-------+------------+------------------+\n",
       "| topic |    word    |      score       |\n",
       "+-------+------------+------------------+\n",
       "|   2   |    film    | 0.0161482004927  |\n",
       "|   2   |   music    | 0.0114820618908  |\n",
       "|   2   |   album    | 0.00996964339687 |\n",
       "|   2   |  released  | 0.00890297536304 |\n",
       "|   2   |    band    | 0.00790751347298 |\n",
       "|   2   | television | 0.00688570530973 |\n",
       "|   2   |   series   | 0.00616153882748 |\n",
       "|   2   |    show    | 0.00570581950729 |\n",
       "|   2   |   award    | 0.00500159074529 |\n",
       "|   2   |  appeared  | 0.00492611223289 |\n",
       "+-------+------------+------------------+\n",
       "[50 rows x 3 columns]\n",
       "Note: Only the head of the SFrame is printed.\n",
       "You can use print_rows(num_rows=m, num_columns=n) to print more rows and columns."
      ]
     },
     "execution_count": 13,
     "metadata": {},
     "output_type": "execute_result"
    }
   ],
   "source": [
    "topic_2_words"
   ]
  },
  {
   "cell_type": "code",
   "execution_count": 14,
   "metadata": {
    "collapsed": false
   },
   "outputs": [
    {
     "data": {
      "text/plain": [
       "0.21034366078939654"
      ]
     },
     "execution_count": 14,
     "metadata": {},
     "output_type": "execute_result"
    }
   ],
   "source": [
    "topic_2_words['score'].sum()"
   ]
  },
  {
   "cell_type": "code",
   "execution_count": 15,
   "metadata": {
    "collapsed": false
   },
   "outputs": [
    {
     "data": {
      "text/html": [
       "<div style=\"max-height:1000px;max-width:1500px;overflow:auto;\"><table frame=\"box\" rules=\"cols\">\n",
       "    <tr>\n",
       "        <th style=\"padding-left: 1em; padding-right: 1em; text-align: center\">words</th>\n",
       "    </tr>\n",
       "    <tr>\n",
       "        <td style=\"padding-left: 1em; padding-right: 1em; text-align: center; vertical-align: top\">[university, research,<br>professor, internatio ...</td>\n",
       "    </tr>\n",
       "    <tr>\n",
       "        <td style=\"padding-left: 1em; padding-right: 1em; text-align: center; vertical-align: top\">[played, season, league,<br>team, career] ...</td>\n",
       "    </tr>\n",
       "    <tr>\n",
       "        <td style=\"padding-left: 1em; padding-right: 1em; text-align: center; vertical-align: top\">[film, music, album,<br>released, band] ...</td>\n",
       "    </tr>\n",
       "    <tr>\n",
       "        <td style=\"padding-left: 1em; padding-right: 1em; text-align: center; vertical-align: top\">[university, school,<br>served, college, state] ...</td>\n",
       "    </tr>\n",
       "    <tr>\n",
       "        <td style=\"padding-left: 1em; padding-right: 1em; text-align: center; vertical-align: top\">[member, party, election,<br>minister, government] ...</td>\n",
       "    </tr>\n",
       "    <tr>\n",
       "        <td style=\"padding-left: 1em; padding-right: 1em; text-align: center; vertical-align: top\">[work, art, book,<br>published, york] ...</td>\n",
       "    </tr>\n",
       "    <tr>\n",
       "        <td style=\"padding-left: 1em; padding-right: 1em; text-align: center; vertical-align: top\">[company, business,<br>years, group, time] ...</td>\n",
       "    </tr>\n",
       "    <tr>\n",
       "        <td style=\"padding-left: 1em; padding-right: 1em; text-align: center; vertical-align: top\">[world, won, born, time,<br>year] ...</td>\n",
       "    </tr>\n",
       "    <tr>\n",
       "        <td style=\"padding-left: 1em; padding-right: 1em; text-align: center; vertical-align: top\">[born, british, london,<br>australian, south] ...</td>\n",
       "    </tr>\n",
       "    <tr>\n",
       "        <td style=\"padding-left: 1em; padding-right: 1em; text-align: center; vertical-align: top\">[music, de, born,<br>international, la] ...</td>\n",
       "    </tr>\n",
       "</table>\n",
       "[10 rows x 1 columns]<br/>\n",
       "</div>"
      ],
      "text/plain": [
       "Columns:\n",
       "\twords\tlist\n",
       "\n",
       "Rows: 10\n",
       "\n",
       "Data:\n",
       "+--------------------------------+\n",
       "|             words              |\n",
       "+--------------------------------+\n",
       "| [university, research, pro...  |\n",
       "| [played, season, league, t...  |\n",
       "| [film, music, album, relea...  |\n",
       "| [university, school, serve...  |\n",
       "| [member, party, election, ...  |\n",
       "| [work, art, book, publishe...  |\n",
       "| [company, business, years,...  |\n",
       "| [world, won, born, time, year] |\n",
       "| [born, british, london, au...  |\n",
       "| [music, de, born, internat...  |\n",
       "+--------------------------------+\n",
       "[10 rows x 1 columns]"
      ]
     },
     "execution_count": 15,
     "metadata": {},
     "output_type": "execute_result"
    }
   ],
   "source": [
    "loaded_topic_model.get_topics(output_type='topic_words', num_words=5)"
   ]
  },
  {
   "cell_type": "markdown",
   "metadata": {},
   "source": [
    "Let's look at the top 10 words for each topic to see if we can identify any themes:"
   ]
  },
  {
   "cell_type": "code",
   "execution_count": 15,
   "metadata": {
    "collapsed": false
   },
   "outputs": [
    {
     "data": {
      "text/plain": [
       "[['university',\n",
       "  'research',\n",
       "  'professor',\n",
       "  'international',\n",
       "  'institute',\n",
       "  'science',\n",
       "  'society',\n",
       "  'studies',\n",
       "  'director',\n",
       "  'national'],\n",
       " ['played',\n",
       "  'season',\n",
       "  'league',\n",
       "  'team',\n",
       "  'career',\n",
       "  'football',\n",
       "  'games',\n",
       "  'player',\n",
       "  'coach',\n",
       "  'game'],\n",
       " ['film',\n",
       "  'music',\n",
       "  'album',\n",
       "  'released',\n",
       "  'band',\n",
       "  'television',\n",
       "  'series',\n",
       "  'show',\n",
       "  'award',\n",
       "  'appeared'],\n",
       " ['university',\n",
       "  'school',\n",
       "  'served',\n",
       "  'college',\n",
       "  'state',\n",
       "  'american',\n",
       "  'states',\n",
       "  'united',\n",
       "  'born',\n",
       "  'law'],\n",
       " ['member',\n",
       "  'party',\n",
       "  'election',\n",
       "  'minister',\n",
       "  'government',\n",
       "  'elected',\n",
       "  'served',\n",
       "  'president',\n",
       "  'general',\n",
       "  'committee'],\n",
       " ['work',\n",
       "  'art',\n",
       "  'book',\n",
       "  'published',\n",
       "  'york',\n",
       "  'magazine',\n",
       "  'radio',\n",
       "  'books',\n",
       "  'award',\n",
       "  'arts'],\n",
       " ['company',\n",
       "  'business',\n",
       "  'years',\n",
       "  'group',\n",
       "  'time',\n",
       "  'family',\n",
       "  'people',\n",
       "  'india',\n",
       "  'million',\n",
       "  'indian'],\n",
       " ['world',\n",
       "  'won',\n",
       "  'born',\n",
       "  'time',\n",
       "  'year',\n",
       "  'team',\n",
       "  'championship',\n",
       "  'tour',\n",
       "  'championships',\n",
       "  'title'],\n",
       " ['born',\n",
       "  'british',\n",
       "  'london',\n",
       "  'australian',\n",
       "  'south',\n",
       "  'joined',\n",
       "  'years',\n",
       "  'made',\n",
       "  'england',\n",
       "  'australia'],\n",
       " ['music',\n",
       "  'de',\n",
       "  'born',\n",
       "  'international',\n",
       "  'la',\n",
       "  'orchestra',\n",
       "  'opera',\n",
       "  'studied',\n",
       "  'french',\n",
       "  'festival']]"
      ]
     },
     "execution_count": 15,
     "metadata": {},
     "output_type": "execute_result"
    }
   ],
   "source": [
    "[x['words'] for x in loaded_topic_model.get_topics(output_type='topic_words', num_words=10)]"
   ]
  },
  {
   "cell_type": "markdown",
   "metadata": {},
   "source": [
    "We propose the following themes for each topic:\n",
    "\n",
    "- topic 0: Science and research\n",
    "- topic 2: Team sports\n",
    "- topic 3: Music, TV, and film\n",
    "- topic 4: American college and politics\n",
    "- topic 5: General politics\n",
    "- topic 6: Art and publishing\n",
    "- topic 7: Business\n",
    "- topic 8: International athletics\n",
    "- topic 9: Great Britain and Australia\n",
    "- topic 10: International music\n",
    "\n",
    "We'll save these themes for later:"
   ]
  },
  {
   "cell_type": "code",
   "execution_count": 16,
   "metadata": {
    "collapsed": true
   },
   "outputs": [],
   "source": [
    "themes = ['science and research','team sports','music, TV, and film','American college and politics','general politics', \\\n",
    "         'art and publishing','Business','international athletics','Great Britain and Australia','international music']"
   ]
  },
  {
   "cell_type": "markdown",
   "metadata": {},
   "source": [
    "### Measuring the importance of top words\n",
    "\n",
    "We can learn more about topics by exploring how they place probability mass (which we can think of as a weight) on each of their top words.\n",
    "\n",
    "We'll do this with two visualizations of the weights for the top words in each topic:\n",
    " - the weights of the top 100 words, sorted by the size\n",
    " - the total weight of the top 10 words\n"
   ]
  },
  {
   "cell_type": "markdown",
   "metadata": {},
   "source": [
    "Here's a plot for the top 100 words by weight in each topic:"
   ]
  },
  {
   "cell_type": "code",
   "execution_count": 17,
   "metadata": {
    "collapsed": false
   },
   "outputs": [
    {
     "data": {
      "text/plain": [
       "<matplotlib.text.Text at 0x15ccac50>"
      ]
     },
     "execution_count": 17,
     "metadata": {},
     "output_type": "execute_result"
    },
    {
     "data": {
      "image/png": "[encoded data removed]",
      "text/plain": [
       "<matplotlib.figure.Figure at 0x15c1b240>"
      ]
     },
     "metadata": {},
     "output_type": "display_data"
    }
   ],
   "source": [
    "for i in range(10):\n",
    "    plt.plot(range(100), loaded_topic_model.get_topics(topic_ids=[i], num_words=100)['score'])\n",
    "plt.xlabel('Word rank')\n",
    "plt.ylabel('Probability')\n",
    "plt.title('Probabilities of Top 100 Words in each Topic')"
   ]
  },
  {
   "cell_type": "markdown",
   "metadata": {},
   "source": [
    "In the above plot, each line corresponds to one of our ten topics. Notice how for each topic, the weights drop off sharply as we move down the ranked list of most important words. This shows that the top 10-20 words in each topic are assigned a much greater weight than the remaining words - and remember from the summary of our topic model that our vocabulary has 547462 words in total!\n",
    "\n",
    "\n",
    "Next we plot the total weight assigned by each topic to its top 10 words: "
   ]
  },
  {
   "cell_type": "code",
   "execution_count": 18,
   "metadata": {
    "collapsed": false
   },
   "outputs": [
    {
     "data": {
      "image/png": "[encoded data removed]",
      "text/plain": [
       "<matplotlib.figure.Figure at 0x15f056a0>"
      ]
     },
     "metadata": {},
     "output_type": "display_data"
    }
   ],
   "source": [
    "top_probs = [sum(loaded_topic_model.get_topics(topic_ids=[i], num_words=10)['score']) for i in range(10)]\n",
    "\n",
    "ind = np.arange(10)\n",
    "width = 0.5\n",
    "\n",
    "fig, ax = plt.subplots()\n",
    "\n",
    "ax.bar(ind-(width/2),top_probs,width)\n",
    "ax.set_xticks(ind)\n",
    "\n",
    "plt.xlabel('Topic')\n",
    "plt.ylabel('Probability')\n",
    "plt.title('Total Probability of Top 10 Words in each Topic')\n",
    "plt.xlim(-0.5,9.5)\n",
    "plt.ylim(0,0.15)\n",
    "plt.show()"
   ]
  },
  {
   "cell_type": "markdown",
   "metadata": {},
   "source": [
    "Here we see that, for our topic model, the top 10 words only account for a small fraction (in this case, between 5% and 13%) of their topic's total probability mass. So while we can use the top words to identify broad themes for each topic, we should keep in mind that in reality these topics are more complex than a simple 10-word summary.\n",
    "\n",
    "Finally, we observe that some 'junk' words appear highly rated in some topics despite our efforts to remove unhelpful words before fitting the model; for example, the word 'born' appears as a top 10 word in three different topics, but it doesn't help us describe these topics at all."
   ]
  },
  {
   "cell_type": "markdown",
   "metadata": {},
   "source": [
    "# Topic distributions for some example documents\n",
    "\n",
    "As we noted in the introduction to this assignment, LDA allows for mixed membership, which means that each document can partially belong to several different topics. For each document, topic membership is expressed as a vector of weights that sum to one; the magnitude of each weight indicates the degree to which the document represents that particular topic.\n",
    "\n",
    "We'll explore this in our fitted model by looking at the topic distributions for a few example Wikipedia articles from our data set. We should find that these articles have the highest weights on the topics whose themes are most relevant to the subject of the article - for example, we'd expect an article on a politician to place relatively high weight on topics related to government, while an article about an athlete should place higher weight on topics related to sports or competition."
   ]
  },
  {
   "cell_type": "markdown",
   "metadata": {},
   "source": [
    "Topic distributions for documents can be obtained using GraphLab Create's predict() function. GraphLab Create uses a collapsed Gibbs sampler similar to the one described in the video lectures, where only the word assignments variables are sampled.  To get a document-specific topic proportion vector post-facto, predict() draws this vector from the conditional distribution given the sampled word assignments in the document.  Notice that, since these are draws from a _distribution_ over topics that the model has learned, we will get slightly different predictions each time we call this function on a document - we can see this below, where we predict the topic distribution for the article on Barack Obama:"
   ]
  },
  {
   "cell_type": "code",
   "execution_count": 19,
   "metadata": {
    "collapsed": false
   },
   "outputs": [
    {
     "name": "stdout",
     "output_type": "stream",
     "text": [
      "+-------------------------------+--------------------------+---------------------------+\n",
      "|             topics            | predictions (first draw) | predictions (second draw) |\n",
      "+-------------------------------+--------------------------+---------------------------+\n",
      "|      science and research     |     0.0349462365591      |      0.0403225806452      |\n",
      "|          team sports          |     0.0645161290323      |      0.0591397849462      |\n",
      "|      music, TV, and film      |     0.0215053763441      |      0.0215053763441      |\n",
      "| American college and politics |      0.123655913978      |       0.10752688172       |\n",
      "|        general politics       |      0.612903225806      |       0.604838709677      |\n",
      "|       art and publishing      |     0.0241935483871      |      0.0134408602151      |\n",
      "|            Business           |     0.0376344086022      |      0.0483870967742      |\n",
      "|    international athletics    |     0.0188172043011      |      0.0510752688172      |\n",
      "|  Great Britain and Australia  |     0.0322580645161      |      0.0188172043011      |\n",
      "|      international music      |     0.0295698924731      |      0.0349462365591      |\n",
      "+-------------------------------+--------------------------+---------------------------+\n",
      "[10 rows x 3 columns]\n",
      "\n"
     ]
    }
   ],
   "source": [
    "obama = gl.SArray([wiki_docs[int(np.where(wiki['name']=='Barack Obama')[0])]])\n",
    "pred1 = loaded_topic_model.predict(obama, output_type='probability')\n",
    "pred2 = loaded_topic_model.predict(obama, output_type='probability')\n",
    "print(gl.SFrame({' topics':themes, 'predictions (first draw)':pred1[0], 'predictions (second draw)':pred2[0]}))"
   ]
  },
  {
   "cell_type": "markdown",
   "metadata": {},
   "source": [
    "To get a more robust estimate of the topics for each document, we can average a large number of predictions for the same document:"
   ]
  },
  {
   "cell_type": "code",
   "execution_count": 20,
   "metadata": {
    "collapsed": false
   },
   "outputs": [],
   "source": [
    "def average_predictions(model, test_document, num_trials=100):\n",
    "    avg_preds = np.zeros((model.num_topics))\n",
    "    for i in range(num_trials):\n",
    "        avg_preds += model.predict(test_document, output_type='probability')[0]\n",
    "    avg_preds = avg_preds/num_trials\n",
    "    result = gl.SFrame({' topics':themes, 'average predictions':avg_preds})\n",
    "    result = result.sort('average predictions', ascending=False)\n",
    "    return result"
   ]
  },
  {
   "cell_type": "code",
   "execution_count": 21,
   "metadata": {
    "collapsed": false
   },
   "outputs": [
    {
     "name": "stdout",
     "output_type": "stream",
     "text": [
      "+-------------------------------+---------------------+\n",
      "|             topics            | average predictions |\n",
      "+-------------------------------+---------------------+\n",
      "|        general politics       |    0.594946236559   |\n",
      "| American college and politics |    0.138387096774   |\n",
      "|            Business           |    0.052876344086   |\n",
      "|          team sports          |   0.0489516129032   |\n",
      "|      science and research     |   0.0396774193548   |\n",
      "|    international athletics    |   0.0336827956989   |\n",
      "|  Great Britain and Australia  |   0.0256989247312   |\n",
      "|       art and publishing      |   0.0237096774194   |\n",
      "|      international music      |        0.0225       |\n",
      "|      music, TV, and film      |   0.0195698924731   |\n",
      "+-------------------------------+---------------------+\n",
      "[10 rows x 2 columns]\n",
      "\n"
     ]
    }
   ],
   "source": [
    "print average_predictions(loaded_topic_model, obama, 100)"
   ]
  },
  {
   "cell_type": "markdown",
   "metadata": {},
   "source": [
    "__Quiz Question:__ What is the topic most closely associated with the article about former US President George W. Bush? Use the average results from 100 topic predictions."
   ]
  },
  {
   "cell_type": "markdown",
   "metadata": {},
   "source": [
    "__Quiz Question:__ What are the top 3 topics corresponding to the article about English football (soccer) player Steven Gerrard? Use the average results from 100 topic predictions."
   ]
  },
  {
   "cell_type": "code",
   "execution_count": 22,
   "metadata": {
    "collapsed": false
   },
   "outputs": [],
   "source": [
    "#George Bush\n",
    "george_bush = gl.SArray([wiki_docs[int(np.where(wiki['name']=='George W. Bush')[0])]])"
   ]
  },
  {
   "cell_type": "code",
   "execution_count": 23,
   "metadata": {
    "collapsed": false
   },
   "outputs": [
    {
     "name": "stdout",
     "output_type": "stream",
     "text": [
      "+-------------------------------+---------------------+\n",
      "|             topics            | average predictions |\n",
      "+-------------------------------+---------------------+\n",
      "|        general politics       |    0.429035087719   |\n",
      "| American college and politics |    0.190730994152   |\n",
      "|            Business           |    0.100643274854   |\n",
      "|      science and research     |   0.0594444444444   |\n",
      "|       art and publishing      |   0.0501461988304   |\n",
      "|          team sports          |   0.0455555555556   |\n",
      "|  Great Britain and Australia  |   0.0373099415205   |\n",
      "|    international athletics    |   0.0364619883041   |\n",
      "|      music, TV, and film      |   0.0297076023392   |\n",
      "|      international music      |   0.0209649122807   |\n",
      "+-------------------------------+---------------------+\n",
      "[10 rows x 2 columns]\n",
      "\n"
     ]
    }
   ],
   "source": [
    "#Get topic distributions for George Bush's article\n",
    "print average_predictions(loaded_topic_model, george_bush, 100)"
   ]
  },
  {
   "cell_type": "code",
   "execution_count": 25,
   "metadata": {
    "collapsed": true
   },
   "outputs": [],
   "source": [
    "#Steven Gerrard\n",
    "gerrard = gl.SArray([wiki_docs[int(np.where(wiki['name']=='Steven Gerrard')[0])]])"
   ]
  },
  {
   "cell_type": "code",
   "execution_count": 26,
   "metadata": {
    "collapsed": false
   },
   "outputs": [
    {
     "name": "stdout",
     "output_type": "stream",
     "text": [
      "+-------------------------------+---------------------+\n",
      "|             topics            | average predictions |\n",
      "+-------------------------------+---------------------+\n",
      "|          team sports          |       0.49148       |\n",
      "|  Great Britain and Australia  |       0.16936       |\n",
      "|    international athletics    |       0.13228       |\n",
      "|      international music      |        0.0362       |\n",
      "|      music, TV, and film      |        0.0324       |\n",
      "|        general politics       |       0.03204       |\n",
      "|            Business           |       0.02956       |\n",
      "|       art and publishing      |       0.02708       |\n",
      "| American college and politics |       0.02544       |\n",
      "|      science and research     |       0.02416       |\n",
      "+-------------------------------+---------------------+\n",
      "[10 rows x 2 columns]\n",
      "\n"
     ]
    }
   ],
   "source": [
    "#Get top 3 topics for Steven Gerrard's article\n",
    "print average_predictions(loaded_topic_model, gerrard, 100)"
   ]
  },
  {
   "cell_type": "markdown",
   "metadata": {},
   "source": [
    "# Comparing LDA to nearest neighbors for document retrieval\n",
    "\n",
    "So far we have found that our topic model has learned some coherent topics, we have explored these topics as probability distributions over a vocabulary, and we have seen how individual documents in our Wikipedia data set are assigned to these topics in a way that corresponds with our expectations. \n",
    "\n",
    "In this section, we will use the predicted topic distribution as a representation of each document, similar to how we have previously represented documents by word count or TF-IDF. This gives us a way of computing distances between documents, so that we can run a nearest neighbors search for a given document based on its membership in the topics that we learned from LDA. We can contrast the results with those obtained by running nearest neighbors under the usual TF-IDF representation, an approach that we explored in a previous assignment. \n",
    "\n",
    "We'll start by creating the LDA topic distribution representation for each document:"
   ]
  },
  {
   "cell_type": "code",
   "execution_count": 7,
   "metadata": {
    "collapsed": false
   },
   "outputs": [],
   "source": [
    "wiki['lda'] = loaded_topic_model.predict(wiki_docs, output_type='probability')"
   ]
  },
  {
   "cell_type": "code",
   "execution_count": 8,
   "metadata": {
    "collapsed": false
   },
   "outputs": [
    {
     "data": {
      "text/html": [
       "<div style=\"max-height:1000px;max-width:1500px;overflow:auto;\"><table frame=\"box\" rules=\"cols\">\n",
       "    <tr>\n",
       "        <th style=\"padding-left: 1em; padding-right: 1em; text-align: center\">URI</th>\n",
       "        <th style=\"padding-left: 1em; padding-right: 1em; text-align: center\">name</th>\n",
       "        <th style=\"padding-left: 1em; padding-right: 1em; text-align: center\">text</th>\n",
       "        <th style=\"padding-left: 1em; padding-right: 1em; text-align: center\">lda</th>\n",
       "    </tr>\n",
       "    <tr>\n",
       "        <td style=\"padding-left: 1em; padding-right: 1em; text-align: center; vertical-align: top\">&lt;http://dbpedia.org/resou<br>rce/Digby_Morrell&gt; ...</td>\n",
       "        <td style=\"padding-left: 1em; padding-right: 1em; text-align: center; vertical-align: top\">Digby Morrell</td>\n",
       "        <td style=\"padding-left: 1em; padding-right: 1em; text-align: center; vertical-align: top\">digby morrell born 10<br>october 1979 is a former ...</td>\n",
       "        <td style=\"padding-left: 1em; padding-right: 1em; text-align: center; vertical-align: top\">[0.031746031746,<br>0.57671957672, ...</td>\n",
       "    </tr>\n",
       "    <tr>\n",
       "        <td style=\"padding-left: 1em; padding-right: 1em; text-align: center; vertical-align: top\">&lt;http://dbpedia.org/resou<br>rce/Alfred_J._Lewy&gt; ...</td>\n",
       "        <td style=\"padding-left: 1em; padding-right: 1em; text-align: center; vertical-align: top\">Alfred J. Lewy</td>\n",
       "        <td style=\"padding-left: 1em; padding-right: 1em; text-align: center; vertical-align: top\">alfred j lewy aka sandy<br>lewy graduated from ...</td>\n",
       "        <td style=\"padding-left: 1em; padding-right: 1em; text-align: center; vertical-align: top\">[0.432432432432,<br>0.0378378378378, ...</td>\n",
       "    </tr>\n",
       "    <tr>\n",
       "        <td style=\"padding-left: 1em; padding-right: 1em; text-align: center; vertical-align: top\">&lt;http://dbpedia.org/resou<br>rce/Harpdog_Brown&gt; ...</td>\n",
       "        <td style=\"padding-left: 1em; padding-right: 1em; text-align: center; vertical-align: top\">Harpdog Brown</td>\n",
       "        <td style=\"padding-left: 1em; padding-right: 1em; text-align: center; vertical-align: top\">harpdog brown is a singer<br>and harmonica player who ...</td>\n",
       "        <td style=\"padding-left: 1em; padding-right: 1em; text-align: center; vertical-align: top\">[0.0459770114943,<br>0.0919540229885, ...</td>\n",
       "    </tr>\n",
       "    <tr>\n",
       "        <td style=\"padding-left: 1em; padding-right: 1em; text-align: center; vertical-align: top\">&lt;http://dbpedia.org/resou<br>rce/Franz_Rottensteiner&gt; ...</td>\n",
       "        <td style=\"padding-left: 1em; padding-right: 1em; text-align: center; vertical-align: top\">Franz Rottensteiner</td>\n",
       "        <td style=\"padding-left: 1em; padding-right: 1em; text-align: center; vertical-align: top\">franz rottensteiner born<br>in waidmannsfeld lower ...</td>\n",
       "        <td style=\"padding-left: 1em; padding-right: 1em; text-align: center; vertical-align: top\">[0.121673003802,<br>0.0342205323194, ...</td>\n",
       "    </tr>\n",
       "    <tr>\n",
       "        <td style=\"padding-left: 1em; padding-right: 1em; text-align: center; vertical-align: top\">&lt;http://dbpedia.org/resou<br>rce/G-Enka&gt; ...</td>\n",
       "        <td style=\"padding-left: 1em; padding-right: 1em; text-align: center; vertical-align: top\">G-Enka</td>\n",
       "        <td style=\"padding-left: 1em; padding-right: 1em; text-align: center; vertical-align: top\">henry krvits born 30<br>december 1974 in tallinn ...</td>\n",
       "        <td style=\"padding-left: 1em; padding-right: 1em; text-align: center; vertical-align: top\">[0.0355029585799,<br>0.0710059171598, ...</td>\n",
       "    </tr>\n",
       "</table>\n",
       "[5 rows x 4 columns]<br/>\n",
       "</div>"
      ],
      "text/plain": [
       "Columns:\n",
       "\tURI\tstr\n",
       "\tname\tstr\n",
       "\ttext\tstr\n",
       "\tlda\tarray\n",
       "\n",
       "Rows: 5\n",
       "\n",
       "Data:\n",
       "+-------------------------------+---------------------+\n",
       "|              URI              |         name        |\n",
       "+-------------------------------+---------------------+\n",
       "| <http://dbpedia.org/resour... |    Digby Morrell    |\n",
       "| <http://dbpedia.org/resour... |    Alfred J. Lewy   |\n",
       "| <http://dbpedia.org/resour... |    Harpdog Brown    |\n",
       "| <http://dbpedia.org/resour... | Franz Rottensteiner |\n",
       "| <http://dbpedia.org/resour... |        G-Enka       |\n",
       "+-------------------------------+---------------------+\n",
       "+-------------------------------+-------------------------------+\n",
       "|              text             |              lda              |\n",
       "+-------------------------------+-------------------------------+\n",
       "| digby morrell born 10 octo... | [0.031746031746, 0.5767195... |\n",
       "| alfred j lewy aka sandy le... | [0.432432432432, 0.0378378... |\n",
       "| harpdog brown is a singer ... | [0.0459770114943, 0.091954... |\n",
       "| franz rottensteiner born i... | [0.121673003802, 0.0342205... |\n",
       "| henry krvits born 30 decem... | [0.0355029585799, 0.071005... |\n",
       "+-------------------------------+-------------------------------+\n",
       "[5 rows x 4 columns]"
      ]
     },
     "execution_count": 8,
     "metadata": {},
     "output_type": "execute_result"
    }
   ],
   "source": [
    "wiki.head(5)"
   ]
  },
  {
   "cell_type": "markdown",
   "metadata": {},
   "source": [
    "Next we add the TF-IDF document representations:"
   ]
  },
  {
   "cell_type": "code",
   "execution_count": 9,
   "metadata": {
    "collapsed": false
   },
   "outputs": [],
   "source": [
    "wiki['word_count'] = gl.text_analytics.count_words(wiki['text'])\n",
    "wiki['tf_idf'] = gl.text_analytics.tf_idf(wiki['word_count'])"
   ]
  },
  {
   "cell_type": "code",
   "execution_count": 10,
   "metadata": {
    "collapsed": false
   },
   "outputs": [
    {
     "data": {
      "text/html": [
       "<div style=\"max-height:1000px;max-width:1500px;overflow:auto;\"><table frame=\"box\" rules=\"cols\">\n",
       "    <tr>\n",
       "        <th style=\"padding-left: 1em; padding-right: 1em; text-align: center\">URI</th>\n",
       "        <th style=\"padding-left: 1em; padding-right: 1em; text-align: center\">name</th>\n",
       "        <th style=\"padding-left: 1em; padding-right: 1em; text-align: center\">text</th>\n",
       "        <th style=\"padding-left: 1em; padding-right: 1em; text-align: center\">lda</th>\n",
       "    </tr>\n",
       "    <tr>\n",
       "        <td style=\"padding-left: 1em; padding-right: 1em; text-align: center; vertical-align: top\">&lt;http://dbpedia.org/resou<br>rce/Digby_Morrell&gt; ...</td>\n",
       "        <td style=\"padding-left: 1em; padding-right: 1em; text-align: center; vertical-align: top\">Digby Morrell</td>\n",
       "        <td style=\"padding-left: 1em; padding-right: 1em; text-align: center; vertical-align: top\">digby morrell born 10<br>october 1979 is a former ...</td>\n",
       "        <td style=\"padding-left: 1em; padding-right: 1em; text-align: center; vertical-align: top\">[0.031746031746,<br>0.57671957672, ...</td>\n",
       "    </tr>\n",
       "    <tr>\n",
       "        <td style=\"padding-left: 1em; padding-right: 1em; text-align: center; vertical-align: top\">&lt;http://dbpedia.org/resou<br>rce/Alfred_J._Lewy&gt; ...</td>\n",
       "        <td style=\"padding-left: 1em; padding-right: 1em; text-align: center; vertical-align: top\">Alfred J. Lewy</td>\n",
       "        <td style=\"padding-left: 1em; padding-right: 1em; text-align: center; vertical-align: top\">alfred j lewy aka sandy<br>lewy graduated from ...</td>\n",
       "        <td style=\"padding-left: 1em; padding-right: 1em; text-align: center; vertical-align: top\">[0.432432432432,<br>0.0378378378378, ...</td>\n",
       "    </tr>\n",
       "    <tr>\n",
       "        <td style=\"padding-left: 1em; padding-right: 1em; text-align: center; vertical-align: top\">&lt;http://dbpedia.org/resou<br>rce/Harpdog_Brown&gt; ...</td>\n",
       "        <td style=\"padding-left: 1em; padding-right: 1em; text-align: center; vertical-align: top\">Harpdog Brown</td>\n",
       "        <td style=\"padding-left: 1em; padding-right: 1em; text-align: center; vertical-align: top\">harpdog brown is a singer<br>and harmonica player who ...</td>\n",
       "        <td style=\"padding-left: 1em; padding-right: 1em; text-align: center; vertical-align: top\">[0.0459770114943,<br>0.0919540229885, ...</td>\n",
       "    </tr>\n",
       "    <tr>\n",
       "        <td style=\"padding-left: 1em; padding-right: 1em; text-align: center; vertical-align: top\">&lt;http://dbpedia.org/resou<br>rce/Franz_Rottensteiner&gt; ...</td>\n",
       "        <td style=\"padding-left: 1em; padding-right: 1em; text-align: center; vertical-align: top\">Franz Rottensteiner</td>\n",
       "        <td style=\"padding-left: 1em; padding-right: 1em; text-align: center; vertical-align: top\">franz rottensteiner born<br>in waidmannsfeld lower ...</td>\n",
       "        <td style=\"padding-left: 1em; padding-right: 1em; text-align: center; vertical-align: top\">[0.121673003802,<br>0.0342205323194, ...</td>\n",
       "    </tr>\n",
       "    <tr>\n",
       "        <td style=\"padding-left: 1em; padding-right: 1em; text-align: center; vertical-align: top\">&lt;http://dbpedia.org/resou<br>rce/G-Enka&gt; ...</td>\n",
       "        <td style=\"padding-left: 1em; padding-right: 1em; text-align: center; vertical-align: top\">G-Enka</td>\n",
       "        <td style=\"padding-left: 1em; padding-right: 1em; text-align: center; vertical-align: top\">henry krvits born 30<br>december 1974 in tallinn ...</td>\n",
       "        <td style=\"padding-left: 1em; padding-right: 1em; text-align: center; vertical-align: top\">[0.0355029585799,<br>0.0710059171598, ...</td>\n",
       "    </tr>\n",
       "</table>\n",
       "<table frame=\"box\" rules=\"cols\">\n",
       "    <tr>\n",
       "        <th style=\"padding-left: 1em; padding-right: 1em; text-align: center\">word_count</th>\n",
       "        <th style=\"padding-left: 1em; padding-right: 1em; text-align: center\">tf_idf</th>\n",
       "    </tr>\n",
       "    <tr>\n",
       "        <td style=\"padding-left: 1em; padding-right: 1em; text-align: center; vertical-align: top\">{'since': 1L, 'carltons':<br>1L, 'being': 1L, '2005': ...</td>\n",
       "        <td style=\"padding-left: 1em; padding-right: 1em; text-align: center; vertical-align: top\">{'since':<br>1.455376717308041, ...</td>\n",
       "    </tr>\n",
       "    <tr>\n",
       "        <td style=\"padding-left: 1em; padding-right: 1em; text-align: center; vertical-align: top\">{'precise': 1L, 'thomas':<br>1L, 'closely': 1L, ...</td>\n",
       "        <td style=\"padding-left: 1em; padding-right: 1em; text-align: center; vertical-align: top\">{'precise':<br>6.44320060695519, ...</td>\n",
       "    </tr>\n",
       "    <tr>\n",
       "        <td style=\"padding-left: 1em; padding-right: 1em; text-align: center; vertical-align: top\">{'just': 1L, 'issued':<br>1L, 'mainly': 1L, ...</td>\n",
       "        <td style=\"padding-left: 1em; padding-right: 1em; text-align: center; vertical-align: top\">{'just':<br>2.7007299687108643, ...</td>\n",
       "    </tr>\n",
       "    <tr>\n",
       "        <td style=\"padding-left: 1em; padding-right: 1em; text-align: center; vertical-align: top\">{'all': 1L,<br>'bauforschung': 1L, ...</td>\n",
       "        <td style=\"padding-left: 1em; padding-right: 1em; text-align: center; vertical-align: top\">{'all':<br>1.6431112434912472, ...</td>\n",
       "    </tr>\n",
       "    <tr>\n",
       "        <td style=\"padding-left: 1em; padding-right: 1em; text-align: center; vertical-align: top\">{'legendary': 1L,<br>'gangstergenka': 1L, ...</td>\n",
       "        <td style=\"padding-left: 1em; padding-right: 1em; text-align: center; vertical-align: top\">{'legendary':<br>4.280856294365192, ...</td>\n",
       "    </tr>\n",
       "</table>\n",
       "[5 rows x 6 columns]<br/>\n",
       "</div>"
      ],
      "text/plain": [
       "Columns:\n",
       "\tURI\tstr\n",
       "\tname\tstr\n",
       "\ttext\tstr\n",
       "\tlda\tarray\n",
       "\tword_count\tdict\n",
       "\ttf_idf\tdict\n",
       "\n",
       "Rows: 5\n",
       "\n",
       "Data:\n",
       "+-------------------------------+---------------------+\n",
       "|              URI              |         name        |\n",
       "+-------------------------------+---------------------+\n",
       "| <http://dbpedia.org/resour... |    Digby Morrell    |\n",
       "| <http://dbpedia.org/resour... |    Alfred J. Lewy   |\n",
       "| <http://dbpedia.org/resour... |    Harpdog Brown    |\n",
       "| <http://dbpedia.org/resour... | Franz Rottensteiner |\n",
       "| <http://dbpedia.org/resour... |        G-Enka       |\n",
       "+-------------------------------+---------------------+\n",
       "+-------------------------------+-------------------------------+\n",
       "|              text             |              lda              |\n",
       "+-------------------------------+-------------------------------+\n",
       "| digby morrell born 10 octo... | [0.031746031746, 0.5767195... |\n",
       "| alfred j lewy aka sandy le... | [0.432432432432, 0.0378378... |\n",
       "| harpdog brown is a singer ... | [0.0459770114943, 0.091954... |\n",
       "| franz rottensteiner born i... | [0.121673003802, 0.0342205... |\n",
       "| henry krvits born 30 decem... | [0.0355029585799, 0.071005... |\n",
       "+-------------------------------+-------------------------------+\n",
       "+-------------------------------+-------------------------------+\n",
       "|           word_count          |             tf_idf            |\n",
       "+-------------------------------+-------------------------------+\n",
       "| {'since': 1L, 'carltons': ... | {'since': 1.45537671730804... |\n",
       "| {'precise': 1L, 'thomas': ... | {'precise': 6.443200606955... |\n",
       "| {'just': 1L, 'issued': 1L,... | {'just': 2.700729968710864... |\n",
       "| {'all': 1L, 'bauforschung'... | {'all': 1.6431112434912472... |\n",
       "| {'legendary': 1L, 'gangste... | {'legendary': 4.2808562943... |\n",
       "+-------------------------------+-------------------------------+\n",
       "[5 rows x 6 columns]"
      ]
     },
     "execution_count": 10,
     "metadata": {},
     "output_type": "execute_result"
    }
   ],
   "source": [
    "wiki.head(5)"
   ]
  },
  {
   "cell_type": "markdown",
   "metadata": {},
   "source": [
    "For each of our two different document representations, we can use GraphLab Create to compute a brute-force nearest neighbors model:"
   ]
  },
  {
   "cell_type": "code",
   "execution_count": 11,
   "metadata": {
    "collapsed": false
   },
   "outputs": [
    {
     "data": {
      "text/html": [
       "<pre>Starting brute force nearest neighbors model training.</pre>"
      ],
      "text/plain": [
       "Starting brute force nearest neighbors model training."
      ]
     },
     "metadata": {},
     "output_type": "display_data"
    },
    {
     "data": {
      "text/html": [
       "<pre>Starting brute force nearest neighbors model training.</pre>"
      ],
      "text/plain": [
       "Starting brute force nearest neighbors model training."
      ]
     },
     "metadata": {},
     "output_type": "display_data"
    }
   ],
   "source": [
    "model_tf_idf = gl.nearest_neighbors.create(wiki, label='name', features=['tf_idf'],\n",
    "                                           method='brute_force', distance='cosine')\n",
    "model_lda_rep = gl.nearest_neighbors.create(wiki, label='name', features=['lda'],\n",
    "                                            method='brute_force', distance='cosine')"
   ]
  },
  {
   "cell_type": "markdown",
   "metadata": {},
   "source": [
    "Let's compare these nearest neighbor models by finding the nearest neighbors under each representation on an example document. For this example we'll use Paul Krugman, an American economist:"
   ]
  },
  {
   "cell_type": "code",
   "execution_count": 12,
   "metadata": {
    "collapsed": false
   },
   "outputs": [
    {
     "data": {
      "text/html": [
       "<pre>Starting pairwise querying.</pre>"
      ],
      "text/plain": [
       "Starting pairwise querying."
      ]
     },
     "metadata": {},
     "output_type": "display_data"
    },
    {
     "data": {
      "text/html": [
       "<pre>+--------------+---------+-------------+--------------+</pre>"
      ],
      "text/plain": [
       "+--------------+---------+-------------+--------------+"
      ]
     },
     "metadata": {},
     "output_type": "display_data"
    },
    {
     "data": {
      "text/html": [
       "<pre>| Query points | # Pairs | % Complete. | Elapsed Time |</pre>"
      ],
      "text/plain": [
       "| Query points | # Pairs | % Complete. | Elapsed Time |"
      ]
     },
     "metadata": {},
     "output_type": "display_data"
    },
    {
     "data": {
      "text/html": [
       "<pre>+--------------+---------+-------------+--------------+</pre>"
      ],
      "text/plain": [
       "+--------------+---------+-------------+--------------+"
      ]
     },
     "metadata": {},
     "output_type": "display_data"
    },
    {
     "data": {
      "text/html": [
       "<pre>| 0            | 1       | 0.00169288  | 26.025ms     |</pre>"
      ],
      "text/plain": [
       "| 0            | 1       | 0.00169288  | 26.025ms     |"
      ]
     },
     "metadata": {},
     "output_type": "display_data"
    },
    {
     "data": {
      "text/html": [
       "<pre>| 0            | 43269   | 73.2491     | 1.02s        |</pre>"
      ],
      "text/plain": [
       "| 0            | 43269   | 73.2491     | 1.02s        |"
      ]
     },
     "metadata": {},
     "output_type": "display_data"
    },
    {
     "data": {
      "text/html": [
       "<pre>| Done         |         | 100         | 1.30s        |</pre>"
      ],
      "text/plain": [
       "| Done         |         | 100         | 1.30s        |"
      ]
     },
     "metadata": {},
     "output_type": "display_data"
    },
    {
     "data": {
      "text/html": [
       "<pre>+--------------+---------+-------------+--------------+</pre>"
      ],
      "text/plain": [
       "+--------------+---------+-------------+--------------+"
      ]
     },
     "metadata": {},
     "output_type": "display_data"
    },
    {
     "data": {
      "text/html": [
       "<div style=\"max-height:1000px;max-width:1500px;overflow:auto;\"><table frame=\"box\" rules=\"cols\">\n",
       "    <tr>\n",
       "        <th style=\"padding-left: 1em; padding-right: 1em; text-align: center\">query_label</th>\n",
       "        <th style=\"padding-left: 1em; padding-right: 1em; text-align: center\">reference_label</th>\n",
       "        <th style=\"padding-left: 1em; padding-right: 1em; text-align: center\">distance</th>\n",
       "        <th style=\"padding-left: 1em; padding-right: 1em; text-align: center\">rank</th>\n",
       "    </tr>\n",
       "    <tr>\n",
       "        <td style=\"padding-left: 1em; padding-right: 1em; text-align: center; vertical-align: top\">Paul Krugman</td>\n",
       "        <td style=\"padding-left: 1em; padding-right: 1em; text-align: center; vertical-align: top\">Paul Krugman</td>\n",
       "        <td style=\"padding-left: 1em; padding-right: 1em; text-align: center; vertical-align: top\">0.0</td>\n",
       "        <td style=\"padding-left: 1em; padding-right: 1em; text-align: center; vertical-align: top\">1</td>\n",
       "    </tr>\n",
       "    <tr>\n",
       "        <td style=\"padding-left: 1em; padding-right: 1em; text-align: center; vertical-align: top\">Paul Krugman</td>\n",
       "        <td style=\"padding-left: 1em; padding-right: 1em; text-align: center; vertical-align: top\">Elise Brezis</td>\n",
       "        <td style=\"padding-left: 1em; padding-right: 1em; text-align: center; vertical-align: top\">0.744498017262</td>\n",
       "        <td style=\"padding-left: 1em; padding-right: 1em; text-align: center; vertical-align: top\">2</td>\n",
       "    </tr>\n",
       "    <tr>\n",
       "        <td style=\"padding-left: 1em; padding-right: 1em; text-align: center; vertical-align: top\">Paul Krugman</td>\n",
       "        <td style=\"padding-left: 1em; padding-right: 1em; text-align: center; vertical-align: top\">Maitreesh Ghatak</td>\n",
       "        <td style=\"padding-left: 1em; padding-right: 1em; text-align: center; vertical-align: top\">0.81564984831</td>\n",
       "        <td style=\"padding-left: 1em; padding-right: 1em; text-align: center; vertical-align: top\">3</td>\n",
       "    </tr>\n",
       "    <tr>\n",
       "        <td style=\"padding-left: 1em; padding-right: 1em; text-align: center; vertical-align: top\">Paul Krugman</td>\n",
       "        <td style=\"padding-left: 1em; padding-right: 1em; text-align: center; vertical-align: top\">Kai A. Konrad</td>\n",
       "        <td style=\"padding-left: 1em; padding-right: 1em; text-align: center; vertical-align: top\">0.823700564406</td>\n",
       "        <td style=\"padding-left: 1em; padding-right: 1em; text-align: center; vertical-align: top\">4</td>\n",
       "    </tr>\n",
       "    <tr>\n",
       "        <td style=\"padding-left: 1em; padding-right: 1em; text-align: center; vertical-align: top\">Paul Krugman</td>\n",
       "        <td style=\"padding-left: 1em; padding-right: 1em; text-align: center; vertical-align: top\">David Colander</td>\n",
       "        <td style=\"padding-left: 1em; padding-right: 1em; text-align: center; vertical-align: top\">0.834625927759</td>\n",
       "        <td style=\"padding-left: 1em; padding-right: 1em; text-align: center; vertical-align: top\">5</td>\n",
       "    </tr>\n",
       "    <tr>\n",
       "        <td style=\"padding-left: 1em; padding-right: 1em; text-align: center; vertical-align: top\">Paul Krugman</td>\n",
       "        <td style=\"padding-left: 1em; padding-right: 1em; text-align: center; vertical-align: top\">Richard Blundell</td>\n",
       "        <td style=\"padding-left: 1em; padding-right: 1em; text-align: center; vertical-align: top\">0.837934267874</td>\n",
       "        <td style=\"padding-left: 1em; padding-right: 1em; text-align: center; vertical-align: top\">6</td>\n",
       "    </tr>\n",
       "    <tr>\n",
       "        <td style=\"padding-left: 1em; padding-right: 1em; text-align: center; vertical-align: top\">Paul Krugman</td>\n",
       "        <td style=\"padding-left: 1em; padding-right: 1em; text-align: center; vertical-align: top\">Gordon Rausser</td>\n",
       "        <td style=\"padding-left: 1em; padding-right: 1em; text-align: center; vertical-align: top\">0.83941534706</td>\n",
       "        <td style=\"padding-left: 1em; padding-right: 1em; text-align: center; vertical-align: top\">7</td>\n",
       "    </tr>\n",
       "    <tr>\n",
       "        <td style=\"padding-left: 1em; padding-right: 1em; text-align: center; vertical-align: top\">Paul Krugman</td>\n",
       "        <td style=\"padding-left: 1em; padding-right: 1em; text-align: center; vertical-align: top\">Edward J. Nell</td>\n",
       "        <td style=\"padding-left: 1em; padding-right: 1em; text-align: center; vertical-align: top\">0.842178500015</td>\n",
       "        <td style=\"padding-left: 1em; padding-right: 1em; text-align: center; vertical-align: top\">8</td>\n",
       "    </tr>\n",
       "    <tr>\n",
       "        <td style=\"padding-left: 1em; padding-right: 1em; text-align: center; vertical-align: top\">Paul Krugman</td>\n",
       "        <td style=\"padding-left: 1em; padding-right: 1em; text-align: center; vertical-align: top\">Robin Boadway</td>\n",
       "        <td style=\"padding-left: 1em; padding-right: 1em; text-align: center; vertical-align: top\">0.842374260596</td>\n",
       "        <td style=\"padding-left: 1em; padding-right: 1em; text-align: center; vertical-align: top\">9</td>\n",
       "    </tr>\n",
       "    <tr>\n",
       "        <td style=\"padding-left: 1em; padding-right: 1em; text-align: center; vertical-align: top\">Paul Krugman</td>\n",
       "        <td style=\"padding-left: 1em; padding-right: 1em; text-align: center; vertical-align: top\">Tim Besley</td>\n",
       "        <td style=\"padding-left: 1em; padding-right: 1em; text-align: center; vertical-align: top\">0.843088109253</td>\n",
       "        <td style=\"padding-left: 1em; padding-right: 1em; text-align: center; vertical-align: top\">10</td>\n",
       "    </tr>\n",
       "</table>\n",
       "[10 rows x 4 columns]<br/>\n",
       "</div>"
      ],
      "text/plain": [
       "Columns:\n",
       "\tquery_label\tstr\n",
       "\treference_label\tstr\n",
       "\tdistance\tfloat\n",
       "\trank\tint\n",
       "\n",
       "Rows: 10\n",
       "\n",
       "Data:\n",
       "+--------------+------------------+----------------+------+\n",
       "| query_label  | reference_label  |    distance    | rank |\n",
       "+--------------+------------------+----------------+------+\n",
       "| Paul Krugman |   Paul Krugman   |      0.0       |  1   |\n",
       "| Paul Krugman |   Elise Brezis   | 0.744498017262 |  2   |\n",
       "| Paul Krugman | Maitreesh Ghatak | 0.81564984831  |  3   |\n",
       "| Paul Krugman |  Kai A. Konrad   | 0.823700564406 |  4   |\n",
       "| Paul Krugman |  David Colander  | 0.834625927759 |  5   |\n",
       "| Paul Krugman | Richard Blundell | 0.837934267874 |  6   |\n",
       "| Paul Krugman |  Gordon Rausser  | 0.83941534706  |  7   |\n",
       "| Paul Krugman |  Edward J. Nell  | 0.842178500015 |  8   |\n",
       "| Paul Krugman |  Robin Boadway   | 0.842374260596 |  9   |\n",
       "| Paul Krugman |    Tim Besley    | 0.843088109253 |  10  |\n",
       "+--------------+------------------+----------------+------+\n",
       "[10 rows x 4 columns]"
      ]
     },
     "execution_count": 12,
     "metadata": {},
     "output_type": "execute_result"
    }
   ],
   "source": [
    "model_tf_idf.query(wiki[wiki['name'] == 'Paul Krugman'], label='name', k=10)"
   ]
  },
  {
   "cell_type": "code",
   "execution_count": 33,
   "metadata": {
    "collapsed": false
   },
   "outputs": [
    {
     "data": {
      "text/html": [
       "<pre>Starting pairwise querying.</pre>"
      ],
      "text/plain": [
       "Starting pairwise querying."
      ]
     },
     "metadata": {},
     "output_type": "display_data"
    },
    {
     "data": {
      "text/html": [
       "<pre>+--------------+---------+-------------+--------------+</pre>"
      ],
      "text/plain": [
       "+--------------+---------+-------------+--------------+"
      ]
     },
     "metadata": {},
     "output_type": "display_data"
    },
    {
     "data": {
      "text/html": [
       "<pre>| Query points | # Pairs | % Complete. | Elapsed Time |</pre>"
      ],
      "text/plain": [
       "| Query points | # Pairs | % Complete. | Elapsed Time |"
      ]
     },
     "metadata": {},
     "output_type": "display_data"
    },
    {
     "data": {
      "text/html": [
       "<pre>+--------------+---------+-------------+--------------+</pre>"
      ],
      "text/plain": [
       "+--------------+---------+-------------+--------------+"
      ]
     },
     "metadata": {},
     "output_type": "display_data"
    },
    {
     "data": {
      "text/html": [
       "<pre>| 0            | 1       | 0.00169288  | 6.007ms      |</pre>"
      ],
      "text/plain": [
       "| 0            | 1       | 0.00169288  | 6.007ms      |"
      ]
     },
     "metadata": {},
     "output_type": "display_data"
    },
    {
     "data": {
      "text/html": [
       "<pre>| Done         |         | 100         | 35.033ms     |</pre>"
      ],
      "text/plain": [
       "| Done         |         | 100         | 35.033ms     |"
      ]
     },
     "metadata": {},
     "output_type": "display_data"
    },
    {
     "data": {
      "text/html": [
       "<pre>+--------------+---------+-------------+--------------+</pre>"
      ],
      "text/plain": [
       "+--------------+---------+-------------+--------------+"
      ]
     },
     "metadata": {},
     "output_type": "display_data"
    },
    {
     "data": {
      "text/html": [
       "<div style=\"max-height:1000px;max-width:1500px;overflow:auto;\"><table frame=\"box\" rules=\"cols\">\n",
       "    <tr>\n",
       "        <th style=\"padding-left: 1em; padding-right: 1em; text-align: center\">query_label</th>\n",
       "        <th style=\"padding-left: 1em; padding-right: 1em; text-align: center\">reference_label</th>\n",
       "        <th style=\"padding-left: 1em; padding-right: 1em; text-align: center\">distance</th>\n",
       "        <th style=\"padding-left: 1em; padding-right: 1em; text-align: center\">rank</th>\n",
       "    </tr>\n",
       "    <tr>\n",
       "        <td style=\"padding-left: 1em; padding-right: 1em; text-align: center; vertical-align: top\">Paul Krugman</td>\n",
       "        <td style=\"padding-left: 1em; padding-right: 1em; text-align: center; vertical-align: top\">Paul Krugman</td>\n",
       "        <td style=\"padding-left: 1em; padding-right: 1em; text-align: center; vertical-align: top\">2.22044604925e-16</td>\n",
       "        <td style=\"padding-left: 1em; padding-right: 1em; text-align: center; vertical-align: top\">1</td>\n",
       "    </tr>\n",
       "    <tr>\n",
       "        <td style=\"padding-left: 1em; padding-right: 1em; text-align: center; vertical-align: top\">Paul Krugman</td>\n",
       "        <td style=\"padding-left: 1em; padding-right: 1em; text-align: center; vertical-align: top\">Espen Gaarder Haug</td>\n",
       "        <td style=\"padding-left: 1em; padding-right: 1em; text-align: center; vertical-align: top\">0.00248934091902</td>\n",
       "        <td style=\"padding-left: 1em; padding-right: 1em; text-align: center; vertical-align: top\">2</td>\n",
       "    </tr>\n",
       "    <tr>\n",
       "        <td style=\"padding-left: 1em; padding-right: 1em; text-align: center; vertical-align: top\">Paul Krugman</td>\n",
       "        <td style=\"padding-left: 1em; padding-right: 1em; text-align: center; vertical-align: top\">Lucian Leape</td>\n",
       "        <td style=\"padding-left: 1em; padding-right: 1em; text-align: center; vertical-align: top\">0.00348334126692</td>\n",
       "        <td style=\"padding-left: 1em; padding-right: 1em; text-align: center; vertical-align: top\">3</td>\n",
       "    </tr>\n",
       "    <tr>\n",
       "        <td style=\"padding-left: 1em; padding-right: 1em; text-align: center; vertical-align: top\">Paul Krugman</td>\n",
       "        <td style=\"padding-left: 1em; padding-right: 1em; text-align: center; vertical-align: top\">Ann Shumelda Okerson</td>\n",
       "        <td style=\"padding-left: 1em; padding-right: 1em; text-align: center; vertical-align: top\">0.00405510861677</td>\n",
       "        <td style=\"padding-left: 1em; padding-right: 1em; text-align: center; vertical-align: top\">4</td>\n",
       "    </tr>\n",
       "    <tr>\n",
       "        <td style=\"padding-left: 1em; padding-right: 1em; text-align: center; vertical-align: top\">Paul Krugman</td>\n",
       "        <td style=\"padding-left: 1em; padding-right: 1em; text-align: center; vertical-align: top\">Arthur W. Nienhuis</td>\n",
       "        <td style=\"padding-left: 1em; padding-right: 1em; text-align: center; vertical-align: top\">0.00421365309334</td>\n",
       "        <td style=\"padding-left: 1em; padding-right: 1em; text-align: center; vertical-align: top\">5</td>\n",
       "    </tr>\n",
       "    <tr>\n",
       "        <td style=\"padding-left: 1em; padding-right: 1em; text-align: center; vertical-align: top\">Paul Krugman</td>\n",
       "        <td style=\"padding-left: 1em; padding-right: 1em; text-align: center; vertical-align: top\">Eric Kandel</td>\n",
       "        <td style=\"padding-left: 1em; padding-right: 1em; text-align: center; vertical-align: top\">0.00459974138982</td>\n",
       "        <td style=\"padding-left: 1em; padding-right: 1em; text-align: center; vertical-align: top\">6</td>\n",
       "    </tr>\n",
       "    <tr>\n",
       "        <td style=\"padding-left: 1em; padding-right: 1em; text-align: center; vertical-align: top\">Paul Krugman</td>\n",
       "        <td style=\"padding-left: 1em; padding-right: 1em; text-align: center; vertical-align: top\">Janet Radcliffe Richards</td>\n",
       "        <td style=\"padding-left: 1em; padding-right: 1em; text-align: center; vertical-align: top\">0.00470277674312</td>\n",
       "        <td style=\"padding-left: 1em; padding-right: 1em; text-align: center; vertical-align: top\">7</td>\n",
       "    </tr>\n",
       "    <tr>\n",
       "        <td style=\"padding-left: 1em; padding-right: 1em; text-align: center; vertical-align: top\">Paul Krugman</td>\n",
       "        <td style=\"padding-left: 1em; padding-right: 1em; text-align: center; vertical-align: top\">Andrew Bernard</td>\n",
       "        <td style=\"padding-left: 1em; padding-right: 1em; text-align: center; vertical-align: top\">0.00476101436622</td>\n",
       "        <td style=\"padding-left: 1em; padding-right: 1em; text-align: center; vertical-align: top\">8</td>\n",
       "    </tr>\n",
       "    <tr>\n",
       "        <td style=\"padding-left: 1em; padding-right: 1em; text-align: center; vertical-align: top\">Paul Krugman</td>\n",
       "        <td style=\"padding-left: 1em; padding-right: 1em; text-align: center; vertical-align: top\">Lynn Bry</td>\n",
       "        <td style=\"padding-left: 1em; padding-right: 1em; text-align: center; vertical-align: top\">0.00485284649808</td>\n",
       "        <td style=\"padding-left: 1em; padding-right: 1em; text-align: center; vertical-align: top\">9</td>\n",
       "    </tr>\n",
       "    <tr>\n",
       "        <td style=\"padding-left: 1em; padding-right: 1em; text-align: center; vertical-align: top\">Paul Krugman</td>\n",
       "        <td style=\"padding-left: 1em; padding-right: 1em; text-align: center; vertical-align: top\">Gene Carl Feldman</td>\n",
       "        <td style=\"padding-left: 1em; padding-right: 1em; text-align: center; vertical-align: top\">0.00486902732387</td>\n",
       "        <td style=\"padding-left: 1em; padding-right: 1em; text-align: center; vertical-align: top\">10</td>\n",
       "    </tr>\n",
       "</table>\n",
       "[10 rows x 4 columns]<br/>\n",
       "</div>"
      ],
      "text/plain": [
       "Columns:\n",
       "\tquery_label\tstr\n",
       "\treference_label\tstr\n",
       "\tdistance\tfloat\n",
       "\trank\tint\n",
       "\n",
       "Rows: 10\n",
       "\n",
       "Data:\n",
       "+--------------+--------------------------+-------------------+------+\n",
       "| query_label  |     reference_label      |      distance     | rank |\n",
       "+--------------+--------------------------+-------------------+------+\n",
       "| Paul Krugman |       Paul Krugman       | 2.22044604925e-16 |  1   |\n",
       "| Paul Krugman |    Espen Gaarder Haug    |  0.00248934091902 |  2   |\n",
       "| Paul Krugman |       Lucian Leape       |  0.00348334126692 |  3   |\n",
       "| Paul Krugman |   Ann Shumelda Okerson   |  0.00405510861677 |  4   |\n",
       "| Paul Krugman |    Arthur W. Nienhuis    |  0.00421365309334 |  5   |\n",
       "| Paul Krugman |       Eric Kandel        |  0.00459974138982 |  6   |\n",
       "| Paul Krugman | Janet Radcliffe Richards |  0.00470277674312 |  7   |\n",
       "| Paul Krugman |      Andrew Bernard      |  0.00476101436622 |  8   |\n",
       "| Paul Krugman |         Lynn Bry         |  0.00485284649808 |  9   |\n",
       "| Paul Krugman |    Gene Carl Feldman     |  0.00486902732387 |  10  |\n",
       "+--------------+--------------------------+-------------------+------+\n",
       "[10 rows x 4 columns]"
      ]
     },
     "execution_count": 33,
     "metadata": {},
     "output_type": "execute_result"
    }
   ],
   "source": [
    "model_lda_rep.query(wiki[wiki['name'] == 'Paul Krugman'], label='name', k=10)"
   ]
  },
  {
   "cell_type": "markdown",
   "metadata": {},
   "source": [
    "Notice that that there is no overlap between the two sets of top 10 nearest neighbors. This doesn't necessarily mean that one representation is better or worse than the other, but rather that they are picking out different features of the documents. \n",
    "\n",
    "With TF-IDF, documents are distinguished by the frequency of uncommon words. Since similarity is defined based on the specific words used in the document, documents that are \"close\" under TF-IDF tend to be similar in terms of specific details. This is what we see in the example: the top 10 nearest neighbors are all economists from the US, UK, or Canada. \n",
    "\n",
    "Our LDA representation, on the other hand, defines similarity between documents in terms of their topic distributions. This means that documents can be \"close\" if they share similar themes, even though they may not share many of the same keywords. For the article on Paul Krugman, we expect the most important topics to be 'American college and politics' and 'science and research'. As a result, we see that the top 10 nearest neighbors are academics from a wide variety of fields, including literature, anthropology, and religious studies.\n",
    "\n",
    "\n",
    "__Quiz Question:__ Using the TF-IDF representation, compute the 5000 nearest neighbors for American baseball player Alex Rodriguez. For what value of k is Mariano Rivera the k-th nearest neighbor to Alex Rodriguez? (Hint: Once you have a list of the nearest neighbors, you can use `mylist.index(value)` to find the index of the first instance of `value` in `mylist`.)\n",
    "\n",
    "__Quiz Question:__ Using the LDA representation, compute the 5000 nearest neighbors for American baseball player Alex Rodriguez. For what value of k is Mariano Rivera the k-th nearest neighbor to Alex Rodriguez? (Hint: Once you have a list of the nearest neighbors, you can use `mylist.index(value)` to find the index of the first instance of `value` in `mylist`.)"
   ]
  },
  {
   "cell_type": "code",
   "execution_count": 13,
   "metadata": {
    "collapsed": false
   },
   "outputs": [
    {
     "data": {
      "text/html": [
       "<pre>Starting pairwise querying.</pre>"
      ],
      "text/plain": [
       "Starting pairwise querying."
      ]
     },
     "metadata": {},
     "output_type": "display_data"
    },
    {
     "data": {
      "text/html": [
       "<pre>+--------------+---------+-------------+--------------+</pre>"
      ],
      "text/plain": [
       "+--------------+---------+-------------+--------------+"
      ]
     },
     "metadata": {},
     "output_type": "display_data"
    },
    {
     "data": {
      "text/html": [
       "<pre>| Query points | # Pairs | % Complete. | Elapsed Time |</pre>"
      ],
      "text/plain": [
       "| Query points | # Pairs | % Complete. | Elapsed Time |"
      ]
     },
     "metadata": {},
     "output_type": "display_data"
    },
    {
     "data": {
      "text/html": [
       "<pre>+--------------+---------+-------------+--------------+</pre>"
      ],
      "text/plain": [
       "+--------------+---------+-------------+--------------+"
      ]
     },
     "metadata": {},
     "output_type": "display_data"
    },
    {
     "data": {
      "text/html": [
       "<pre>| 0            | 1       | 0.00169288  | 26.027ms     |</pre>"
      ],
      "text/plain": [
       "| 0            | 1       | 0.00169288  | 26.027ms     |"
      ]
     },
     "metadata": {},
     "output_type": "display_data"
    },
    {
     "data": {
      "text/html": [
       "<pre>| Done         |         | 100         | 967.952ms    |</pre>"
      ],
      "text/plain": [
       "| Done         |         | 100         | 967.952ms    |"
      ]
     },
     "metadata": {},
     "output_type": "display_data"
    },
    {
     "data": {
      "text/html": [
       "<pre>+--------------+---------+-------------+--------------+</pre>"
      ],
      "text/plain": [
       "+--------------+---------+-------------+--------------+"
      ]
     },
     "metadata": {},
     "output_type": "display_data"
    }
   ],
   "source": [
    "alex_neighbours_tf_idf = model_tf_idf.query(wiki[wiki['name'] == 'Alex Rodriguez'], label='name', k=5000)"
   ]
  },
  {
   "cell_type": "code",
   "execution_count": 28,
   "metadata": {
    "collapsed": false
   },
   "outputs": [
    {
     "data": {
      "text/html": [
       "<div style=\"max-height:1000px;max-width:1500px;overflow:auto;\"><table frame=\"box\" rules=\"cols\">\n",
       "    <tr>\n",
       "        <th style=\"padding-left: 1em; padding-right: 1em; text-align: center\">query_label</th>\n",
       "        <th style=\"padding-left: 1em; padding-right: 1em; text-align: center\">reference_label</th>\n",
       "        <th style=\"padding-left: 1em; padding-right: 1em; text-align: center\">distance</th>\n",
       "        <th style=\"padding-left: 1em; padding-right: 1em; text-align: center\">rank</th>\n",
       "    </tr>\n",
       "    <tr>\n",
       "        <td style=\"padding-left: 1em; padding-right: 1em; text-align: center; vertical-align: top\">Alex Rodriguez</td>\n",
       "        <td style=\"padding-left: 1em; padding-right: 1em; text-align: center; vertical-align: top\">Alex Rodriguez</td>\n",
       "        <td style=\"padding-left: 1em; padding-right: 1em; text-align: center; vertical-align: top\">0.0</td>\n",
       "        <td style=\"padding-left: 1em; padding-right: 1em; text-align: center; vertical-align: top\">1</td>\n",
       "    </tr>\n",
       "    <tr>\n",
       "        <td style=\"padding-left: 1em; padding-right: 1em; text-align: center; vertical-align: top\">Alex Rodriguez</td>\n",
       "        <td style=\"padding-left: 1em; padding-right: 1em; text-align: center; vertical-align: top\">John Rodriguez (baseball)</td>\n",
       "        <td style=\"padding-left: 1em; padding-right: 1em; text-align: center; vertical-align: top\">0.643662221072</td>\n",
       "        <td style=\"padding-left: 1em; padding-right: 1em; text-align: center; vertical-align: top\">2</td>\n",
       "    </tr>\n",
       "    <tr>\n",
       "        <td style=\"padding-left: 1em; padding-right: 1em; text-align: center; vertical-align: top\">Alex Rodriguez</td>\n",
       "        <td style=\"padding-left: 1em; padding-right: 1em; text-align: center; vertical-align: top\">Alfonso Soriano</td>\n",
       "        <td style=\"padding-left: 1em; padding-right: 1em; text-align: center; vertical-align: top\">0.716766505271</td>\n",
       "        <td style=\"padding-left: 1em; padding-right: 1em; text-align: center; vertical-align: top\">3</td>\n",
       "    </tr>\n",
       "    <tr>\n",
       "        <td style=\"padding-left: 1em; padding-right: 1em; text-align: center; vertical-align: top\">Alex Rodriguez</td>\n",
       "        <td style=\"padding-left: 1em; padding-right: 1em; text-align: center; vertical-align: top\">Eladio Rodriguez</td>\n",
       "        <td style=\"padding-left: 1em; padding-right: 1em; text-align: center; vertical-align: top\">0.727952380269</td>\n",
       "        <td style=\"padding-left: 1em; padding-right: 1em; text-align: center; vertical-align: top\">4</td>\n",
       "    </tr>\n",
       "    <tr>\n",
       "        <td style=\"padding-left: 1em; padding-right: 1em; text-align: center; vertical-align: top\">Alex Rodriguez</td>\n",
       "        <td style=\"padding-left: 1em; padding-right: 1em; text-align: center; vertical-align: top\">Maggie Rodriguez</td>\n",
       "        <td style=\"padding-left: 1em; padding-right: 1em; text-align: center; vertical-align: top\">0.730077138491</td>\n",
       "        <td style=\"padding-left: 1em; padding-right: 1em; text-align: center; vertical-align: top\">5</td>\n",
       "    </tr>\n",
       "</table>\n",
       "[5 rows x 4 columns]<br/>\n",
       "</div>"
      ],
      "text/plain": [
       "Columns:\n",
       "\tquery_label\tstr\n",
       "\treference_label\tstr\n",
       "\tdistance\tfloat\n",
       "\trank\tint\n",
       "\n",
       "Rows: 5\n",
       "\n",
       "Data:\n",
       "+----------------+---------------------------+----------------+------+\n",
       "|  query_label   |      reference_label      |    distance    | rank |\n",
       "+----------------+---------------------------+----------------+------+\n",
       "| Alex Rodriguez |       Alex Rodriguez      |      0.0       |  1   |\n",
       "| Alex Rodriguez | John Rodriguez (baseball) | 0.643662221072 |  2   |\n",
       "| Alex Rodriguez |      Alfonso Soriano      | 0.716766505271 |  3   |\n",
       "| Alex Rodriguez |      Eladio Rodriguez     | 0.727952380269 |  4   |\n",
       "| Alex Rodriguez |      Maggie Rodriguez     | 0.730077138491 |  5   |\n",
       "+----------------+---------------------------+----------------+------+\n",
       "[5 rows x 4 columns]"
      ]
     },
     "execution_count": 28,
     "metadata": {},
     "output_type": "execute_result"
    }
   ],
   "source": [
    "alex_neighbours_tf_idf.head(5)"
   ]
  },
  {
   "cell_type": "code",
   "execution_count": 14,
   "metadata": {
    "collapsed": false
   },
   "outputs": [
    {
     "data": {
      "text/plain": [
       "52"
      ]
     },
     "execution_count": 14,
     "metadata": {},
     "output_type": "execute_result"
    }
   ],
   "source": [
    "#list(alex_neighbours_tf_idf['reference_label'])[0:5]\n",
    "list(alex_neighbours_tf_idf['reference_label']).index('Mariano Rivera')"
   ]
  },
  {
   "cell_type": "code",
   "execution_count": 15,
   "metadata": {
    "collapsed": false
   },
   "outputs": [
    {
     "data": {
      "text/html": [
       "<pre>Starting pairwise querying.</pre>"
      ],
      "text/plain": [
       "Starting pairwise querying."
      ]
     },
     "metadata": {},
     "output_type": "display_data"
    },
    {
     "data": {
      "text/html": [
       "<pre>+--------------+---------+-------------+--------------+</pre>"
      ],
      "text/plain": [
       "+--------------+---------+-------------+--------------+"
      ]
     },
     "metadata": {},
     "output_type": "display_data"
    },
    {
     "data": {
      "text/html": [
       "<pre>| Query points | # Pairs | % Complete. | Elapsed Time |</pre>"
      ],
      "text/plain": [
       "| Query points | # Pairs | % Complete. | Elapsed Time |"
      ]
     },
     "metadata": {},
     "output_type": "display_data"
    },
    {
     "data": {
      "text/html": [
       "<pre>+--------------+---------+-------------+--------------+</pre>"
      ],
      "text/plain": [
       "+--------------+---------+-------------+--------------+"
      ]
     },
     "metadata": {},
     "output_type": "display_data"
    },
    {
     "data": {
      "text/html": [
       "<pre>| 0            | 1       | 0.00169288  | 15.627ms     |</pre>"
      ],
      "text/plain": [
       "| 0            | 1       | 0.00169288  | 15.627ms     |"
      ]
     },
     "metadata": {},
     "output_type": "display_data"
    },
    {
     "data": {
      "text/html": [
       "<pre>| Done         |         | 100         | 62.502ms     |</pre>"
      ],
      "text/plain": [
       "| Done         |         | 100         | 62.502ms     |"
      ]
     },
     "metadata": {},
     "output_type": "display_data"
    },
    {
     "data": {
      "text/html": [
       "<pre>+--------------+---------+-------------+--------------+</pre>"
      ],
      "text/plain": [
       "+--------------+---------+-------------+--------------+"
      ]
     },
     "metadata": {},
     "output_type": "display_data"
    }
   ],
   "source": [
    "alex_neighbours_lda = model_lda_rep.query(wiki[wiki['name'] == 'Alex Rodriguez'], label='name', k=5000)"
   ]
  },
  {
   "cell_type": "code",
   "execution_count": 38,
   "metadata": {
    "collapsed": false
   },
   "outputs": [
    {
     "data": {
      "text/html": [
       "<div style=\"max-height:1000px;max-width:1500px;overflow:auto;\"><table frame=\"box\" rules=\"cols\">\n",
       "    <tr>\n",
       "        <th style=\"padding-left: 1em; padding-right: 1em; text-align: center\">query_label</th>\n",
       "        <th style=\"padding-left: 1em; padding-right: 1em; text-align: center\">reference_label</th>\n",
       "        <th style=\"padding-left: 1em; padding-right: 1em; text-align: center\">distance</th>\n",
       "        <th style=\"padding-left: 1em; padding-right: 1em; text-align: center\">rank</th>\n",
       "    </tr>\n",
       "    <tr>\n",
       "        <td style=\"padding-left: 1em; padding-right: 1em; text-align: center; vertical-align: top\">Alex Rodriguez</td>\n",
       "        <td style=\"padding-left: 1em; padding-right: 1em; text-align: center; vertical-align: top\">Alex Rodriguez</td>\n",
       "        <td style=\"padding-left: 1em; padding-right: 1em; text-align: center; vertical-align: top\">0.0</td>\n",
       "        <td style=\"padding-left: 1em; padding-right: 1em; text-align: center; vertical-align: top\">1</td>\n",
       "    </tr>\n",
       "    <tr>\n",
       "        <td style=\"padding-left: 1em; padding-right: 1em; text-align: center; vertical-align: top\">Alex Rodriguez</td>\n",
       "        <td style=\"padding-left: 1em; padding-right: 1em; text-align: center; vertical-align: top\">Hassan Abbas</td>\n",
       "        <td style=\"padding-left: 1em; padding-right: 1em; text-align: center; vertical-align: top\">0.00283302624224</td>\n",
       "        <td style=\"padding-left: 1em; padding-right: 1em; text-align: center; vertical-align: top\">2</td>\n",
       "    </tr>\n",
       "    <tr>\n",
       "        <td style=\"padding-left: 1em; padding-right: 1em; text-align: center; vertical-align: top\">Alex Rodriguez</td>\n",
       "        <td style=\"padding-left: 1em; padding-right: 1em; text-align: center; vertical-align: top\">Ronnie Wallwork</td>\n",
       "        <td style=\"padding-left: 1em; padding-right: 1em; text-align: center; vertical-align: top\">0.00333641026061</td>\n",
       "        <td style=\"padding-left: 1em; padding-right: 1em; text-align: center; vertical-align: top\">3</td>\n",
       "    </tr>\n",
       "    <tr>\n",
       "        <td style=\"padding-left: 1em; padding-right: 1em; text-align: center; vertical-align: top\">Alex Rodriguez</td>\n",
       "        <td style=\"padding-left: 1em; padding-right: 1em; text-align: center; vertical-align: top\">Chokri El Ouaer</td>\n",
       "        <td style=\"padding-left: 1em; padding-right: 1em; text-align: center; vertical-align: top\">0.00480838256027</td>\n",
       "        <td style=\"padding-left: 1em; padding-right: 1em; text-align: center; vertical-align: top\">4</td>\n",
       "    </tr>\n",
       "    <tr>\n",
       "        <td style=\"padding-left: 1em; padding-right: 1em; text-align: center; vertical-align: top\">Alex Rodriguez</td>\n",
       "        <td style=\"padding-left: 1em; padding-right: 1em; text-align: center; vertical-align: top\">Raimo Summanen</td>\n",
       "        <td style=\"padding-left: 1em; padding-right: 1em; text-align: center; vertical-align: top\">0.00510948803741</td>\n",
       "        <td style=\"padding-left: 1em; padding-right: 1em; text-align: center; vertical-align: top\">5</td>\n",
       "    </tr>\n",
       "</table>\n",
       "[5 rows x 4 columns]<br/>\n",
       "</div>"
      ],
      "text/plain": [
       "Columns:\n",
       "\tquery_label\tstr\n",
       "\treference_label\tstr\n",
       "\tdistance\tfloat\n",
       "\trank\tint\n",
       "\n",
       "Rows: 5\n",
       "\n",
       "Data:\n",
       "+----------------+-----------------+------------------+------+\n",
       "|  query_label   | reference_label |     distance     | rank |\n",
       "+----------------+-----------------+------------------+------+\n",
       "| Alex Rodriguez |  Alex Rodriguez |       0.0        |  1   |\n",
       "| Alex Rodriguez |   Hassan Abbas  | 0.00283302624224 |  2   |\n",
       "| Alex Rodriguez | Ronnie Wallwork | 0.00333641026061 |  3   |\n",
       "| Alex Rodriguez | Chokri El Ouaer | 0.00480838256027 |  4   |\n",
       "| Alex Rodriguez |  Raimo Summanen | 0.00510948803741 |  5   |\n",
       "+----------------+-----------------+------------------+------+\n",
       "[5 rows x 4 columns]"
      ]
     },
     "execution_count": 38,
     "metadata": {},
     "output_type": "execute_result"
    }
   ],
   "source": [
    "alex_neighbours_lda.head(5)"
   ]
  },
  {
   "cell_type": "code",
   "execution_count": 16,
   "metadata": {
    "collapsed": false
   },
   "outputs": [
    {
     "data": {
      "text/plain": [
       "164"
      ]
     },
     "execution_count": 16,
     "metadata": {},
     "output_type": "execute_result"
    }
   ],
   "source": [
    "list(alex_neighbours_lda['reference_label']).index('Mariano Rivera')"
   ]
  },
  {
   "cell_type": "markdown",
   "metadata": {},
   "source": [
    "# Understanding the role of LDA model hyperparameters\n",
    "\n",
    "Finally, we'll take a look at the effect of the LDA model hyperparameters alpha and gamma on the characteristics of our fitted model. Recall that alpha is a parameter of the prior distribution over topic weights in each document, while gamma is a parameter of the prior distribution over word weights in each topic. \n",
    "\n",
    "In the video lectures, we saw that alpha and gamma can be thought of as smoothing parameters when we compute how much each document \"likes\" a topic (in the case of alpha) or how much each topic \"likes\" a word (in the case of gamma). In both cases, these parameters serve to reduce the differences across topics or words in terms of these calculated preferences; alpha makes the document preferences \"smoother\" over topics, and gamma makes the topic preferences \"smoother\" over words.\n",
    "\n",
    "Our goal in this section will be to understand how changing these parameter values affects the characteristics of the resulting topic model.\n",
    "\n",
    "__Quiz Question:__ What was the value of alpha used to fit our original topic model? "
   ]
  },
  {
   "cell_type": "code",
   "execution_count": 41,
   "metadata": {
    "collapsed": false
   },
   "outputs": [
    {
     "data": {
      "text/plain": [
       "5.0"
      ]
     },
     "execution_count": 41,
     "metadata": {},
     "output_type": "execute_result"
    }
   ],
   "source": [
    "loaded_topic_model.alpha"
   ]
  },
  {
   "cell_type": "code",
   "execution_count": 42,
   "metadata": {
    "collapsed": false
   },
   "outputs": [
    {
     "data": {
      "text/plain": [
       "5.0"
      ]
     },
     "execution_count": 42,
     "metadata": {},
     "output_type": "execute_result"
    }
   ],
   "source": [
    "topic_model.alpha"
   ]
  },
  {
   "cell_type": "markdown",
   "metadata": {},
   "source": [
    "__Quiz Question:__ What was the value of gamma used to fit our original topic model? Remember that GraphLab Create uses \"beta\" instead of \"gamma\" to refer to the hyperparameter that influences topic distributions over words."
   ]
  },
  {
   "cell_type": "code",
   "execution_count": 43,
   "metadata": {
    "collapsed": false
   },
   "outputs": [
    {
     "data": {
      "text/plain": [
       "0.1"
      ]
     },
     "execution_count": 43,
     "metadata": {},
     "output_type": "execute_result"
    }
   ],
   "source": [
    "loaded_topic_model.beta"
   ]
  },
  {
   "cell_type": "code",
   "execution_count": 44,
   "metadata": {
    "collapsed": false
   },
   "outputs": [
    {
     "data": {
      "text/plain": [
       "0.1"
      ]
     },
     "execution_count": 44,
     "metadata": {},
     "output_type": "execute_result"
    }
   ],
   "source": [
    "topic_model.beta"
   ]
  },
  {
   "cell_type": "markdown",
   "metadata": {},
   "source": [
    "We'll start by loading some topic models that have been trained using different settings of alpha and gamma. Specifically, we will start by comparing the following two models to our original topic model:\n",
    " - tpm_low_alpha, a model trained with alpha = 1 and default gamma\n",
    " - tpm_high_alpha, a model trained with alpha = 50 and default gamma"
   ]
  },
  {
   "cell_type": "code",
   "execution_count": 45,
   "metadata": {
    "collapsed": true
   },
   "outputs": [],
   "source": [
    "tpm_low_alpha = gl.load_model('lda_low_alpha')\n",
    "tpm_high_alpha = gl.load_model('lda_high_alpha')"
   ]
  },
  {
   "cell_type": "markdown",
   "metadata": {},
   "source": [
    "### Changing the hyperparameter alpha\n",
    "\n",
    "Since alpha is responsible for smoothing document preferences over topics, the impact of changing its value should be visible when we plot the distribution of topic weights for the same document under models fit with different alpha values. In the code below, we plot the (sorted) topic weights for the Wikipedia article on Barack Obama under models fit with high, original, and low settings of alpha."
   ]
  },
  {
   "cell_type": "code",
   "execution_count": 46,
   "metadata": {
    "collapsed": false,
    "scrolled": true
   },
   "outputs": [
    {
     "data": {
      "image/png": "[encoded data removed]",
      "text/plain": [
       "<matplotlib.figure.Figure at 0x57c29f60>"
      ]
     },
     "metadata": {},
     "output_type": "display_data"
    }
   ],
   "source": [
    "a = np.sort(tpm_low_alpha.predict(obama,output_type='probability')[0])[::-1]\n",
    "b = np.sort(loaded_topic_model.predict(obama,output_type='probability')[0])[::-1]\n",
    "c = np.sort(tpm_high_alpha.predict(obama,output_type='probability')[0])[::-1]\n",
    "ind = np.arange(len(a))\n",
    "width = 0.3\n",
    "\n",
    "def param_bar_plot(a,b,c,ind,width,ylim,param,xlab,ylab):\n",
    "    fig = plt.figure()\n",
    "    ax = fig.add_subplot(111)\n",
    "\n",
    "    b1 = ax.bar(ind, a, width, color='lightskyblue')\n",
    "    b2 = ax.bar(ind+width, b, width, color='lightcoral')\n",
    "    b3 = ax.bar(ind+(2*width), c, width, color='gold')\n",
    "\n",
    "    ax.set_xticks(ind+width)\n",
    "    ax.set_xticklabels(range(10))\n",
    "    ax.set_ylabel(ylab)\n",
    "    ax.set_xlabel(xlab)\n",
    "    ax.set_ylim(0,ylim)\n",
    "    ax.legend(handles = [b1,b2,b3],labels=['low '+param,'original model','high '+param])\n",
    "\n",
    "    plt.tight_layout()\n",
    "    \n",
    "param_bar_plot(a,b,c,ind,width,ylim=1.0,param='alpha',\n",
    "               xlab='Topics (sorted by weight of top 100 words)',ylab='Topic Probability for Obama Article')"
   ]
  },
  {
   "cell_type": "code",
   "execution_count": 48,
   "metadata": {
    "collapsed": false
   },
   "outputs": [
    {
     "name": "stdout",
     "output_type": "stream",
     "text": [
      "low alpha  [ 0.75903614  0.06626506  0.06024096  0.05120482  0.02108434  0.01506024\n",
      "  0.01506024  0.0060241   0.00301205  0.00301205]\n",
      "normal [ 0.61290323  0.1155914   0.06451613  0.05913978  0.04032258  0.02688172\n",
      "  0.02419355  0.02419355  0.01612903  0.01612903]\n",
      "high alpha [ 0.51421801  0.10189573  0.09241706  0.05450237  0.05450237  0.0450237\n",
      "  0.04265403  0.03791469  0.03080569  0.02606635]\n"
     ]
    }
   ],
   "source": [
    "print \"low alpha \", a\n",
    "print \"normal\" , b\n",
    "print \"high alpha\", c"
   ]
  },
  {
   "cell_type": "markdown",
   "metadata": {},
   "source": [
    "Here we can clearly see the smoothing enforced by the alpha parameter - notice that when alpha is low most of the weight in the topic distribution for this article goes to a single topic, but when alpha is high the weight is much more evenly distributed across the topics.\n",
    "\n",
    "__Quiz Question:__ How many topics are assigned a weight greater than 0.3 or less than 0.05 for the article on Paul Krugman in the **low alpha** model?  Use the average results from 100 topic predictions."
   ]
  },
  {
   "cell_type": "markdown",
   "metadata": {},
   "source": [
    "__Quiz Question:__ How many topics are assigned a weight greater than 0.3 or less than 0.05 for the article on Paul Krugman in the **high alpha** model? Use the average results from 100 topic predictions."
   ]
  },
  {
   "cell_type": "code",
   "execution_count": 49,
   "metadata": {
    "collapsed": true
   },
   "outputs": [],
   "source": [
    "paul_krugman = gl.SArray([wiki_docs[int(np.where(wiki['name']=='Paul Krugman')[0])]])"
   ]
  },
  {
   "cell_type": "code",
   "execution_count": 51,
   "metadata": {
    "collapsed": false
   },
   "outputs": [
    {
     "data": {
      "text/plain": [
       "array([ 0.59259259,  0.29012346,  0.04938272,  0.01234568,  0.01234568,\n",
       "        0.01234568,  0.01234568,  0.00617284,  0.00617284,  0.00617284])"
      ]
     },
     "execution_count": 51,
     "metadata": {},
     "output_type": "execute_result"
    }
   ],
   "source": [
    "paul_array = np.sort(tpm_low_alpha.predict(paul_krugman,output_type='probability')[0])[::-1]\n",
    "paul_array"
   ]
  },
  {
   "cell_type": "code",
   "execution_count": 59,
   "metadata": {
    "collapsed": false
   },
   "outputs": [
    {
     "name": "stdout",
     "output_type": "stream",
     "text": [
      "+-------------------------------+---------------------+\n",
      "|             topics            | average predictions |\n",
      "+-------------------------------+---------------------+\n",
      "|       art and publishing      |    0.626975308642   |\n",
      "|      music, TV, and film      |    0.217530864198   |\n",
      "|      international music      |   0.0611111111111   |\n",
      "|    international athletics    |   0.0164814814815   |\n",
      "|  Great Britain and Australia  |   0.0164197530864   |\n",
      "| American college and politics |   0.0149382716049   |\n",
      "|          team sports          |   0.0131481481481   |\n",
      "|      science and research     |   0.0129012345679   |\n",
      "|        general politics       |   0.0102469135802   |\n",
      "|            Business           |   0.0102469135802   |\n",
      "+-------------------------------+---------------------+\n",
      "[10 rows x 2 columns]\n",
      "\n"
     ]
    }
   ],
   "source": [
    "#Get topic distributions for Paul Krugman's article\n",
    "print average_predictions(tpm_low_alpha, paul_krugman, 100)"
   ]
  },
  {
   "cell_type": "code",
   "execution_count": 60,
   "metadata": {
    "collapsed": true
   },
   "outputs": [],
   "source": [
    "foo = average_predictions(tpm_low_alpha, paul_krugman, 100)\n",
    "bar = np.array(foo['average predictions'])"
   ]
  },
  {
   "cell_type": "code",
   "execution_count": 63,
   "metadata": {
    "collapsed": false
   },
   "outputs": [
    {
     "data": {
      "text/plain": [
       "8"
      ]
     },
     "execution_count": 63,
     "metadata": {},
     "output_type": "execute_result"
    }
   ],
   "source": [
    "np.sum(bar > 0.3) + np.sum(bar < 0.05)"
   ]
  },
  {
   "cell_type": "code",
   "execution_count": 65,
   "metadata": {
    "collapsed": false
   },
   "outputs": [
    {
     "name": "stdout",
     "output_type": "stream",
     "text": [
      "+-------------------------------+---------------------+\n",
      "|             topics            | average predictions |\n",
      "+-------------------------------+---------------------+\n",
      "|  Great Britain and Australia  |    0.319285714286   |\n",
      "|    international athletics    |    0.192896825397   |\n",
      "|       art and publishing      |   0.0906746031746   |\n",
      "|            Business           |   0.0618650793651   |\n",
      "|      music, TV, and film      |   0.0609126984127   |\n",
      "|      international music      |   0.0596825396825   |\n",
      "|          team sports          |    0.058373015873   |\n",
      "| American college and politics |   0.0576984126984   |\n",
      "|        general politics       |   0.0522222222222   |\n",
      "|      science and research     |   0.0463888888889   |\n",
      "+-------------------------------+---------------------+\n",
      "[10 rows x 2 columns]\n",
      "\n"
     ]
    }
   ],
   "source": [
    "#Get topic distributions for Paul Krugman's article - high alpha\n",
    "print average_predictions(tpm_high_alpha, paul_krugman, 100)"
   ]
  },
  {
   "cell_type": "code",
   "execution_count": 64,
   "metadata": {
    "collapsed": true
   },
   "outputs": [],
   "source": [
    "foo = average_predictions(tpm_high_alpha, paul_krugman, 100)\n",
    "bar = np.array(foo['average predictions'])"
   ]
  },
  {
   "cell_type": "code",
   "execution_count": 66,
   "metadata": {
    "collapsed": false
   },
   "outputs": [
    {
     "data": {
      "text/plain": [
       "2"
      ]
     },
     "execution_count": 66,
     "metadata": {},
     "output_type": "execute_result"
    }
   ],
   "source": [
    "np.sum(bar > 0.3) + np.sum(bar < 0.05)"
   ]
  },
  {
   "cell_type": "markdown",
   "metadata": {},
   "source": [
    "### Changing the hyperparameter gamma\n",
    "\n",
    "Just as we were able to see the effect of alpha by plotting topic weights for a document, we expect to be able to visualize the impact of changing gamma by plotting word weights for each topic. In this case, however, there are far too many words in our vocabulary to do this effectively. Instead, we'll plot the total weight of the top 100 words and bottom 1000 words for each topic. Below, we plot the (sorted) total weights of the top 100 words and bottom 1000 from each topic in the high, original, and low gamma models."
   ]
  },
  {
   "cell_type": "markdown",
   "metadata": {},
   "source": [
    "Now we will consider the following two models:\n",
    " - tpm_low_gamma, a model trained with gamma = 0.02 and default alpha\n",
    " - tpm_high_gamma, a model trained with gamma = 0.5 and default alpha"
   ]
  },
  {
   "cell_type": "code",
   "execution_count": 67,
   "metadata": {
    "collapsed": true
   },
   "outputs": [],
   "source": [
    "del tpm_low_alpha\n",
    "del tpm_high_alpha\n",
    "tpm_low_gamma = gl.load_model('lda_low_gamma')\n",
    "tpm_high_gamma = gl.load_model('lda_high_gamma')"
   ]
  },
  {
   "cell_type": "code",
   "execution_count": 68,
   "metadata": {
    "collapsed": false
   },
   "outputs": [
    {
     "data": {
      "image/png": "[encoded data removed]",
      "text/plain": [
       "<matplotlib.figure.Figure at 0x161dd5c0>"
      ]
     },
     "metadata": {},
     "output_type": "display_data"
    },
    {
     "data": {
      "image/png": "[encoded data removed]",
      "text/plain": [
       "<matplotlib.figure.Figure at 0x57c35e80>"
      ]
     },
     "metadata": {},
     "output_type": "display_data"
    }
   ],
   "source": [
    "a_top = np.sort([sum(tpm_low_gamma.get_topics(topic_ids=[i], num_words=100)['score']) for i in range(10)])[::-1]\n",
    "b_top = np.sort([sum(topic_model.get_topics(topic_ids=[i], num_words=100)['score']) for i in range(10)])[::-1]\n",
    "c_top = np.sort([sum(tpm_high_gamma.get_topics(topic_ids=[i], num_words=100)['score']) for i in range(10)])[::-1]\n",
    "\n",
    "a_bot = np.sort([sum(tpm_low_gamma.get_topics(topic_ids=[i], num_words=547462)[-1000:]['score']) for i in range(10)])[::-1]\n",
    "b_bot = np.sort([sum(topic_model.get_topics(topic_ids=[i], num_words=547462)[-1000:]['score']) for i in range(10)])[::-1]\n",
    "c_bot = np.sort([sum(tpm_high_gamma.get_topics(topic_ids=[i], num_words=547462)[-1000:]['score']) for i in range(10)])[::-1]\n",
    "\n",
    "ind = np.arange(len(a))\n",
    "width = 0.3\n",
    "    \n",
    "param_bar_plot(a_top, b_top, c_top, ind, width, ylim=0.6, param='gamma',\n",
    "               xlab='Topics (sorted by weight of top 100 words)', \n",
    "               ylab='Total Probability of Top 100 Words')\n",
    "\n",
    "param_bar_plot(a_bot, b_bot, c_bot, ind, width, ylim=0.0002, param='gamma',\n",
    "               xlab='Topics (sorted by weight of bottom 1000 words)',\n",
    "               ylab='Total Probability of Bottom 1000 Words')"
   ]
  },
  {
   "cell_type": "markdown",
   "metadata": {
    "collapsed": true
   },
   "source": [
    "From these two plots we can see that the low gamma model results in higher weight placed on the top words and lower weight placed on the bottom words for each topic, while the high gamma model places relatively less weight on the top words and more weight on the bottom words. Thus increasing gamma results in topics that have a smoother distribution of weight across all the words in the vocabulary."
   ]
  },
  {
   "cell_type": "markdown",
   "metadata": {},
   "source": [
    "__Quiz Question:__ For each topic of the **low gamma model**, compute the number of words required to make a list with total probability 0.5. What is the average number of words required across all topics? (HINT: use the get_topics() function from GraphLab Create with the _cdf_\\__cutoff_ argument)."
   ]
  },
  {
   "cell_type": "markdown",
   "metadata": {},
   "source": [
    "__Quiz Question:__ For each topic of the **high gamma model**, compute the number of words required to make a list with total probability 0.5. What is the average number of words required across all topics? (HINT: use the get_topics() function from GraphLab Create with the _cdf_\\__cutoff_ argument)."
   ]
  },
  {
   "cell_type": "code",
   "execution_count": 76,
   "metadata": {
    "collapsed": false
   },
   "outputs": [
    {
     "data": {
      "text/plain": [
       "184"
      ]
     },
     "execution_count": 76,
     "metadata": {},
     "output_type": "execute_result"
    }
   ],
   "source": [
    "baz = tpm_low_gamma.get_topics(topic_ids = [0], cdf_cutoff=0.5, num_words=547462)\n",
    "len(baz)"
   ]
  },
  {
   "cell_type": "code",
   "execution_count": 82,
   "metadata": {
    "collapsed": false
   },
   "outputs": [
    {
     "name": "stdout",
     "output_type": "stream",
     "text": [
      "184\n",
      "163\n",
      "329\n",
      "139\n",
      "189\n",
      "153\n",
      "295\n",
      "482\n",
      "164\n",
      "426\n",
      "Average words per topic 252.4\n"
     ]
    }
   ],
   "source": [
    "total_words = 0\n",
    "for i in range(10):\n",
    "    eggs = tpm_low_gamma.get_topics(topic_ids = [i], cdf_cutoff=0.5, num_words=547462)\n",
    "    print len(eggs)\n",
    "    total_words += len(eggs)\n",
    "\n",
    "print \"Average words per topic\", float(total_words)/10"
   ]
  },
  {
   "cell_type": "code",
   "execution_count": 83,
   "metadata": {
    "collapsed": false
   },
   "outputs": [
    {
     "name": "stdout",
     "output_type": "stream",
     "text": [
      "318\n",
      "519\n",
      "701\n",
      "545\n",
      "379\n",
      "384\n",
      "572\n",
      "467\n",
      "1303\n",
      "574\n",
      "Average words per topic 576.2\n"
     ]
    }
   ],
   "source": [
    "total_words = 0\n",
    "for i in range(10):\n",
    "    eggs = tpm_high_gamma.get_topics(topic_ids = [i], cdf_cutoff=0.5, num_words=547462)\n",
    "    print len(eggs)\n",
    "    total_words += len(eggs)\n",
    "\n",
    "print \"Average words per topic\", float(total_words)/10"
   ]
  },
  {
   "cell_type": "markdown",
   "metadata": {},
   "source": [
    "We have now seen how the hyperparameters alpha and gamma influence the characteristics of our LDA topic model, but we haven't said anything about what settings of alpha or gamma are best. We know that these parameters are responsible for controlling the smoothness of the topic distributions for documents and word distributions for topics, but there's no simple conversion between smoothness of these distributions and quality of the topic model. In reality, there is no universally \"best\" choice for these parameters. Instead, finding a good topic model requires that we be able to both explore the output (as we did by looking at the topics and checking some topic predictions for documents) and understand the impact of hyperparameter settings (as we have in this section)."
   ]
  }
 ],
 "metadata": {
  "kernelspec": {
   "display_name": "Python 2",
   "language": "python",
   "name": "python2"
  },
  "language_info": {
   "codemirror_mode": {
    "name": "ipython",
    "version": 2
   },
   "file_extension": ".py",
   "mimetype": "text/x-python",
   "name": "python",
   "nbconvert_exporter": "python",
   "pygments_lexer": "ipython2",
   "version": "2.7.11"
  }
 },
 "nbformat": 4,
 "nbformat_minor": 0
}
